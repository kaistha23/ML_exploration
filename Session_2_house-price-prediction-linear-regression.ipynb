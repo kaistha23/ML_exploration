{
 "cells": [
  {
   "cell_type": "markdown",
   "id": "80d58903",
   "metadata": {
    "papermill": {
     "duration": 0.088669,
     "end_time": "2022-03-25T15:23:40.719063",
     "exception": false,
     "start_time": "2022-03-25T15:23:40.630394",
     "status": "completed"
    },
    "tags": []
   },
   "source": [
    "# House price prediction data set\n",
    "\n",
    "Consisting of 4600 entries for homes in different US cities, this dataset includes 18 different variables that describe various property details such as size and location characteristics. \n",
    "\n",
    "**Columns:**\n",
    "\n",
    "date: Date the house was sold<br>\n",
    "price: Sale price of the house (Prediction target)<br>\n",
    "bedrooms: Number of the bedrooms<br>\n",
    "bathrooms: Number the bathrooms<br>\n",
    "sqft_living: Square footage of the home<br>\n",
    "sqft_lot: Square footage of the lot<br>\n",
    "floors: Total floors (levels) in the house<br>\n",
    "waterfront: House which has a view to a waterfront<br>\n",
    "view: Number of views<br>\n",
    "condition: How good the condition is overall<br>\n",
    "sqft_above: Square footage of the house apart from basement<br>\n",
    "sqft_basement: Square footage of the basement<br>\n",
    "yr_built: Building year of the house<br>\n",
    "yr_renovated: Renovation year of the house<br>\n",
    "street: Street where the house is located<br>\n",
    "city: City where the house is located<br>\n",
    "statezip: Zip code of the region where the house is located<br>\n",
    "country: Country where the house is located (USA)<br>\n",
    "\n",
    "\n",
    "There are 8 categorical (half nominal and half ordinal depending on the measurement level) and 9 discrete variables.\n",
    "\n",
    "Our ordinal variables, waterfront, view and and renovation year, appear numerically, but we will evaluate them in two categories, 0 and 1, depending on whether they are in the relevant house or not. Also, the condition has 5 unique values that increase from 1 to 5 based on the state of the house. And as you might guess, street, city, statezip, and country are the nominal ones.\n",
    "\n",
    "**Types of Data**\n",
    "1. Categorical (gender, blood type, aswers of yes/no questions, satisfaction/condition level etc.)\n",
    "2. Numerical<br>\n",
    "a. Discrete (finite numbers- # of children/customer/room, physical money, time on a clock etc.)<br>\n",
    "b. Continuous (infinite numbers- measurements(weight, height), time in general etc.)<br>\n",
    "\n",
    "**Levels of Measurement**\n",
    "1. Qualitative<br>\n",
    "a. Nominal (Can not be ordered- gender, blood type, seasons)<br>\n",
    "b. Ordinal (Takes values with an order or rank- satisfaction, condition level)<br>\n",
    "2. Quantitative<br>\n",
    "a. Interval (Don't have a true zero- temperature, pH, IQ test etc.)<br>\n",
    "b. Ratios (Have a true zero- temperature only in Kelvin, amount, distance, pulse etc.)<br>\n",
    "\n"
   ]
  },
  {
   "cell_type": "markdown",
   "id": "38259137",
   "metadata": {
    "papermill": {
     "duration": 0.087909,
     "end_time": "2022-03-25T15:23:40.895710",
     "exception": false,
     "start_time": "2022-03-25T15:23:40.807801",
     "status": "completed"
    },
    "tags": []
   },
   "source": [
    "# Importing Relevant Libraries"
   ]
  },
  {
   "cell_type": "code",
   "execution_count": 1,
   "id": "cdbb2317",
   "metadata": {
    "execution": {
     "iopub.execute_input": "2022-03-25T15:23:41.079620Z",
     "iopub.status.busy": "2022-03-25T15:23:41.078432Z",
     "iopub.status.idle": "2022-03-25T15:23:42.110475Z",
     "shell.execute_reply": "2022-03-25T15:23:42.109667Z",
     "shell.execute_reply.started": "2022-03-24T13:52:22.33417Z"
    },
    "papermill": {
     "duration": 1.124792,
     "end_time": "2022-03-25T15:23:42.110679",
     "exception": false,
     "start_time": "2022-03-25T15:23:40.985887",
     "status": "completed"
    },
    "tags": []
   },
   "outputs": [],
   "source": [
    "import numpy as np\n",
    "import pandas as pd\n",
    "import matplotlib.pyplot as plt\n",
    "import seaborn as sns\n",
    "sns.set()\n",
    "\n",
    "import warnings\n",
    "warnings.filterwarnings(\"ignore\")"
   ]
  },
  {
   "cell_type": "code",
   "execution_count": 2,
   "id": "96636a51",
   "metadata": {
    "execution": {
     "iopub.execute_input": "2022-03-25T15:23:42.291340Z",
     "iopub.status.busy": "2022-03-25T15:23:42.290720Z",
     "iopub.status.idle": "2022-03-25T15:23:42.293985Z",
     "shell.execute_reply": "2022-03-25T15:23:42.294546Z",
     "shell.execute_reply.started": "2022-03-24T13:52:22.932408Z"
    },
    "papermill": {
     "duration": 0.094613,
     "end_time": "2022-03-25T15:23:42.294733",
     "exception": false,
     "start_time": "2022-03-25T15:23:42.200120",
     "status": "completed"
    },
    "tags": []
   },
   "outputs": [],
   "source": [
    "import math"
   ]
  },
  {
   "cell_type": "code",
   "execution_count": 3,
   "id": "a099b67a",
   "metadata": {
    "execution": {
     "iopub.execute_input": "2022-03-25T15:23:42.474159Z",
     "iopub.status.busy": "2022-03-25T15:23:42.473550Z",
     "iopub.status.idle": "2022-03-25T15:23:42.647521Z",
     "shell.execute_reply": "2022-03-25T15:23:42.646877Z",
     "shell.execute_reply.started": "2022-03-24T13:52:22.938232Z"
    },
    "papermill": {
     "duration": 0.265249,
     "end_time": "2022-03-25T15:23:42.647672",
     "exception": false,
     "start_time": "2022-03-25T15:23:42.382423",
     "status": "completed"
    },
    "tags": []
   },
   "outputs": [],
   "source": [
    "from sklearn.model_selection import train_test_split"
   ]
  },
  {
   "cell_type": "code",
   "execution_count": 4,
   "id": "f88f52e8",
   "metadata": {
    "execution": {
     "iopub.execute_input": "2022-03-25T15:23:42.826621Z",
     "iopub.status.busy": "2022-03-25T15:23:42.826005Z",
     "iopub.status.idle": "2022-03-25T15:23:43.490331Z",
     "shell.execute_reply": "2022-03-25T15:23:43.489678Z",
     "shell.execute_reply.started": "2022-03-24T13:52:23.010696Z"
    },
    "papermill": {
     "duration": 0.754187,
     "end_time": "2022-03-25T15:23:43.490465",
     "exception": false,
     "start_time": "2022-03-25T15:23:42.736278",
     "status": "completed"
    },
    "tags": []
   },
   "outputs": [],
   "source": [
    "import statsmodels.api as sm"
   ]
  },
  {
   "cell_type": "code",
   "execution_count": 5,
   "id": "4e8e9925",
   "metadata": {
    "execution": {
     "iopub.execute_input": "2022-03-25T15:23:43.667368Z",
     "iopub.status.busy": "2022-03-25T15:23:43.666749Z",
     "iopub.status.idle": "2022-03-25T15:23:43.670628Z",
     "shell.execute_reply": "2022-03-25T15:23:43.671148Z",
     "shell.execute_reply.started": "2022-03-24T13:52:23.24736Z"
    },
    "papermill": {
     "duration": 0.094096,
     "end_time": "2022-03-25T15:23:43.671301",
     "exception": false,
     "start_time": "2022-03-25T15:23:43.577205",
     "status": "completed"
    },
    "tags": []
   },
   "outputs": [],
   "source": [
    "from sklearn.base import BaseEstimator, TransformerMixin\n",
    "from sklearn.preprocessing import StandardScaler\n",
    "from sklearn.preprocessing import RobustScaler"
   ]
  },
  {
   "cell_type": "code",
   "execution_count": 6,
   "id": "8bcfb30e",
   "metadata": {
    "execution": {
     "iopub.execute_input": "2022-03-25T15:23:43.848162Z",
     "iopub.status.busy": "2022-03-25T15:23:43.847507Z",
     "iopub.status.idle": "2022-03-25T15:23:43.920643Z",
     "shell.execute_reply": "2022-03-25T15:23:43.919894Z",
     "shell.execute_reply.started": "2022-03-24T13:52:23.253861Z"
    },
    "papermill": {
     "duration": 0.162616,
     "end_time": "2022-03-25T15:23:43.920819",
     "exception": false,
     "start_time": "2022-03-25T15:23:43.758203",
     "status": "completed"
    },
    "tags": []
   },
   "outputs": [],
   "source": [
    "from sklearn.linear_model import LinearRegression"
   ]
  },
  {
   "cell_type": "code",
   "execution_count": 7,
   "id": "cfafbf9a",
   "metadata": {
    "execution": {
     "iopub.execute_input": "2022-03-25T15:23:44.099534Z",
     "iopub.status.busy": "2022-03-25T15:23:44.098906Z",
     "iopub.status.idle": "2022-03-25T15:23:44.101941Z",
     "shell.execute_reply": "2022-03-25T15:23:44.102498Z",
     "shell.execute_reply.started": "2022-03-24T13:52:23.28754Z"
    },
    "papermill": {
     "duration": 0.093574,
     "end_time": "2022-03-25T15:23:44.102670",
     "exception": false,
     "start_time": "2022-03-25T15:23:44.009096",
     "status": "completed"
    },
    "tags": []
   },
   "outputs": [],
   "source": [
    "import sklearn.metrics as metrics"
   ]
  },
  {
   "cell_type": "code",
   "execution_count": 8,
   "id": "6aae4cfb",
   "metadata": {
    "execution": {
     "iopub.execute_input": "2022-03-25T15:23:44.278430Z",
     "iopub.status.busy": "2022-03-25T15:23:44.277832Z",
     "iopub.status.idle": "2022-03-25T15:23:44.283332Z",
     "shell.execute_reply": "2022-03-25T15:23:44.283894Z",
     "shell.execute_reply.started": "2022-03-24T13:52:23.293165Z"
    },
    "papermill": {
     "duration": 0.09462,
     "end_time": "2022-03-25T15:23:44.284058",
     "exception": false,
     "start_time": "2022-03-25T15:23:44.189438",
     "status": "completed"
    },
    "tags": []
   },
   "outputs": [],
   "source": [
    "from statsmodels.stats.outliers_influence import variance_inflation_factor"
   ]
  },
  {
   "cell_type": "markdown",
   "id": "f5d029d4",
   "metadata": {
    "papermill": {
     "duration": 0.086982,
     "end_time": "2022-03-25T15:23:44.458227",
     "exception": false,
     "start_time": "2022-03-25T15:23:44.371245",
     "status": "completed"
    },
    "tags": []
   },
   "source": [
    "# Loading and Exploring the data set"
   ]
  },
  {
   "cell_type": "code",
   "execution_count": 9,
   "id": "734b98db",
   "metadata": {
    "execution": {
     "iopub.execute_input": "2022-03-25T15:23:44.635863Z",
     "iopub.status.busy": "2022-03-25T15:23:44.635219Z",
     "iopub.status.idle": "2022-03-25T15:23:44.679372Z",
     "shell.execute_reply": "2022-03-25T15:23:44.679933Z",
     "shell.execute_reply.started": "2022-03-24T13:52:23.30789Z"
    },
    "papermill": {
     "duration": 0.134399,
     "end_time": "2022-03-25T15:23:44.680113",
     "exception": false,
     "start_time": "2022-03-25T15:23:44.545714",
     "status": "completed"
    },
    "tags": []
   },
   "outputs": [],
   "source": [
    "raw_data = pd.read_csv(\"../input/housedata/data.csv\")"
   ]
  },
  {
   "cell_type": "code",
   "execution_count": 10,
   "id": "0cb4735e",
   "metadata": {
    "execution": {
     "iopub.execute_input": "2022-03-25T15:23:44.866059Z",
     "iopub.status.busy": "2022-03-25T15:23:44.865252Z",
     "iopub.status.idle": "2022-03-25T15:23:44.890170Z",
     "shell.execute_reply": "2022-03-25T15:23:44.890733Z",
     "shell.execute_reply.started": "2022-03-24T13:52:23.342715Z"
    },
    "papermill": {
     "duration": 0.122642,
     "end_time": "2022-03-25T15:23:44.890903",
     "exception": false,
     "start_time": "2022-03-25T15:23:44.768261",
     "status": "completed"
    },
    "tags": []
   },
   "outputs": [
    {
     "data": {
      "text/html": [
       "<div>\n",
       "<style scoped>\n",
       "    .dataframe tbody tr th:only-of-type {\n",
       "        vertical-align: middle;\n",
       "    }\n",
       "\n",
       "    .dataframe tbody tr th {\n",
       "        vertical-align: top;\n",
       "    }\n",
       "\n",
       "    .dataframe thead th {\n",
       "        text-align: right;\n",
       "    }\n",
       "</style>\n",
       "<table border=\"1\" class=\"dataframe\">\n",
       "  <thead>\n",
       "    <tr style=\"text-align: right;\">\n",
       "      <th></th>\n",
       "      <th>date</th>\n",
       "      <th>price</th>\n",
       "      <th>bedrooms</th>\n",
       "      <th>bathrooms</th>\n",
       "      <th>sqft_living</th>\n",
       "      <th>sqft_lot</th>\n",
       "      <th>floors</th>\n",
       "      <th>waterfront</th>\n",
       "      <th>view</th>\n",
       "      <th>condition</th>\n",
       "      <th>sqft_above</th>\n",
       "      <th>sqft_basement</th>\n",
       "      <th>yr_built</th>\n",
       "      <th>yr_renovated</th>\n",
       "      <th>street</th>\n",
       "      <th>city</th>\n",
       "      <th>statezip</th>\n",
       "      <th>country</th>\n",
       "    </tr>\n",
       "  </thead>\n",
       "  <tbody>\n",
       "    <tr>\n",
       "      <th>0</th>\n",
       "      <td>2014-05-02 00:00:00</td>\n",
       "      <td>313000.0</td>\n",
       "      <td>3.0</td>\n",
       "      <td>1.50</td>\n",
       "      <td>1340</td>\n",
       "      <td>7912</td>\n",
       "      <td>1.5</td>\n",
       "      <td>0</td>\n",
       "      <td>0</td>\n",
       "      <td>3</td>\n",
       "      <td>1340</td>\n",
       "      <td>0</td>\n",
       "      <td>1955</td>\n",
       "      <td>2005</td>\n",
       "      <td>18810 Densmore Ave N</td>\n",
       "      <td>Shoreline</td>\n",
       "      <td>WA 98133</td>\n",
       "      <td>USA</td>\n",
       "    </tr>\n",
       "    <tr>\n",
       "      <th>1</th>\n",
       "      <td>2014-05-02 00:00:00</td>\n",
       "      <td>2384000.0</td>\n",
       "      <td>5.0</td>\n",
       "      <td>2.50</td>\n",
       "      <td>3650</td>\n",
       "      <td>9050</td>\n",
       "      <td>2.0</td>\n",
       "      <td>0</td>\n",
       "      <td>4</td>\n",
       "      <td>5</td>\n",
       "      <td>3370</td>\n",
       "      <td>280</td>\n",
       "      <td>1921</td>\n",
       "      <td>0</td>\n",
       "      <td>709 W Blaine St</td>\n",
       "      <td>Seattle</td>\n",
       "      <td>WA 98119</td>\n",
       "      <td>USA</td>\n",
       "    </tr>\n",
       "    <tr>\n",
       "      <th>2</th>\n",
       "      <td>2014-05-02 00:00:00</td>\n",
       "      <td>342000.0</td>\n",
       "      <td>3.0</td>\n",
       "      <td>2.00</td>\n",
       "      <td>1930</td>\n",
       "      <td>11947</td>\n",
       "      <td>1.0</td>\n",
       "      <td>0</td>\n",
       "      <td>0</td>\n",
       "      <td>4</td>\n",
       "      <td>1930</td>\n",
       "      <td>0</td>\n",
       "      <td>1966</td>\n",
       "      <td>0</td>\n",
       "      <td>26206-26214 143rd Ave SE</td>\n",
       "      <td>Kent</td>\n",
       "      <td>WA 98042</td>\n",
       "      <td>USA</td>\n",
       "    </tr>\n",
       "    <tr>\n",
       "      <th>3</th>\n",
       "      <td>2014-05-02 00:00:00</td>\n",
       "      <td>420000.0</td>\n",
       "      <td>3.0</td>\n",
       "      <td>2.25</td>\n",
       "      <td>2000</td>\n",
       "      <td>8030</td>\n",
       "      <td>1.0</td>\n",
       "      <td>0</td>\n",
       "      <td>0</td>\n",
       "      <td>4</td>\n",
       "      <td>1000</td>\n",
       "      <td>1000</td>\n",
       "      <td>1963</td>\n",
       "      <td>0</td>\n",
       "      <td>857 170th Pl NE</td>\n",
       "      <td>Bellevue</td>\n",
       "      <td>WA 98008</td>\n",
       "      <td>USA</td>\n",
       "    </tr>\n",
       "    <tr>\n",
       "      <th>4</th>\n",
       "      <td>2014-05-02 00:00:00</td>\n",
       "      <td>550000.0</td>\n",
       "      <td>4.0</td>\n",
       "      <td>2.50</td>\n",
       "      <td>1940</td>\n",
       "      <td>10500</td>\n",
       "      <td>1.0</td>\n",
       "      <td>0</td>\n",
       "      <td>0</td>\n",
       "      <td>4</td>\n",
       "      <td>1140</td>\n",
       "      <td>800</td>\n",
       "      <td>1976</td>\n",
       "      <td>1992</td>\n",
       "      <td>9105 170th Ave NE</td>\n",
       "      <td>Redmond</td>\n",
       "      <td>WA 98052</td>\n",
       "      <td>USA</td>\n",
       "    </tr>\n",
       "  </tbody>\n",
       "</table>\n",
       "</div>"
      ],
      "text/plain": [
       "                  date      price  bedrooms  bathrooms  sqft_living  sqft_lot  \\\n",
       "0  2014-05-02 00:00:00   313000.0       3.0       1.50         1340      7912   \n",
       "1  2014-05-02 00:00:00  2384000.0       5.0       2.50         3650      9050   \n",
       "2  2014-05-02 00:00:00   342000.0       3.0       2.00         1930     11947   \n",
       "3  2014-05-02 00:00:00   420000.0       3.0       2.25         2000      8030   \n",
       "4  2014-05-02 00:00:00   550000.0       4.0       2.50         1940     10500   \n",
       "\n",
       "   floors  waterfront  view  condition  sqft_above  sqft_basement  yr_built  \\\n",
       "0     1.5           0     0          3        1340              0      1955   \n",
       "1     2.0           0     4          5        3370            280      1921   \n",
       "2     1.0           0     0          4        1930              0      1966   \n",
       "3     1.0           0     0          4        1000           1000      1963   \n",
       "4     1.0           0     0          4        1140            800      1976   \n",
       "\n",
       "   yr_renovated                    street       city  statezip country  \n",
       "0          2005      18810 Densmore Ave N  Shoreline  WA 98133     USA  \n",
       "1             0           709 W Blaine St    Seattle  WA 98119     USA  \n",
       "2             0  26206-26214 143rd Ave SE       Kent  WA 98042     USA  \n",
       "3             0           857 170th Pl NE   Bellevue  WA 98008     USA  \n",
       "4          1992         9105 170th Ave NE    Redmond  WA 98052     USA  "
      ]
     },
     "execution_count": 10,
     "metadata": {},
     "output_type": "execute_result"
    }
   ],
   "source": [
    "# Quick look to the data\n",
    "\n",
    "raw_data.head()"
   ]
  },
  {
   "cell_type": "code",
   "execution_count": 11,
   "id": "afc91c0b",
   "metadata": {
    "execution": {
     "iopub.execute_input": "2022-03-25T15:23:45.073662Z",
     "iopub.status.busy": "2022-03-25T15:23:45.072998Z",
     "iopub.status.idle": "2022-03-25T15:23:45.097267Z",
     "shell.execute_reply": "2022-03-25T15:23:45.097745Z",
     "shell.execute_reply.started": "2022-03-24T13:52:23.376301Z"
    },
    "papermill": {
     "duration": 0.115898,
     "end_time": "2022-03-25T15:23:45.097921",
     "exception": false,
     "start_time": "2022-03-25T15:23:44.982023",
     "status": "completed"
    },
    "tags": []
   },
   "outputs": [
    {
     "name": "stdout",
     "output_type": "stream",
     "text": [
      "<class 'pandas.core.frame.DataFrame'>\n",
      "RangeIndex: 4600 entries, 0 to 4599\n",
      "Data columns (total 18 columns):\n",
      " #   Column         Non-Null Count  Dtype  \n",
      "---  ------         --------------  -----  \n",
      " 0   date           4600 non-null   object \n",
      " 1   price          4600 non-null   float64\n",
      " 2   bedrooms       4600 non-null   float64\n",
      " 3   bathrooms      4600 non-null   float64\n",
      " 4   sqft_living    4600 non-null   int64  \n",
      " 5   sqft_lot       4600 non-null   int64  \n",
      " 6   floors         4600 non-null   float64\n",
      " 7   waterfront     4600 non-null   int64  \n",
      " 8   view           4600 non-null   int64  \n",
      " 9   condition      4600 non-null   int64  \n",
      " 10  sqft_above     4600 non-null   int64  \n",
      " 11  sqft_basement  4600 non-null   int64  \n",
      " 12  yr_built       4600 non-null   int64  \n",
      " 13  yr_renovated   4600 non-null   int64  \n",
      " 14  street         4600 non-null   object \n",
      " 15  city           4600 non-null   object \n",
      " 16  statezip       4600 non-null   object \n",
      " 17  country        4600 non-null   object \n",
      "dtypes: float64(4), int64(9), object(5)\n",
      "memory usage: 647.0+ KB\n"
     ]
    }
   ],
   "source": [
    "# Checking for missing values and data types of each column\n",
    "\n",
    "raw_data.info()"
   ]
  },
  {
   "cell_type": "code",
   "execution_count": 12,
   "id": "27f41b13",
   "metadata": {
    "execution": {
     "iopub.execute_input": "2022-03-25T15:23:45.279330Z",
     "iopub.status.busy": "2022-03-25T15:23:45.278676Z",
     "iopub.status.idle": "2022-03-25T15:23:45.337813Z",
     "shell.execute_reply": "2022-03-25T15:23:45.338401Z",
     "shell.execute_reply.started": "2022-03-24T13:52:23.395608Z"
    },
    "papermill": {
     "duration": 0.151447,
     "end_time": "2022-03-25T15:23:45.338563",
     "exception": false,
     "start_time": "2022-03-25T15:23:45.187116",
     "status": "completed"
    },
    "tags": []
   },
   "outputs": [
    {
     "data": {
      "text/html": [
       "<div>\n",
       "<style scoped>\n",
       "    .dataframe tbody tr th:only-of-type {\n",
       "        vertical-align: middle;\n",
       "    }\n",
       "\n",
       "    .dataframe tbody tr th {\n",
       "        vertical-align: top;\n",
       "    }\n",
       "\n",
       "    .dataframe thead th {\n",
       "        text-align: right;\n",
       "    }\n",
       "</style>\n",
       "<table border=\"1\" class=\"dataframe\">\n",
       "  <thead>\n",
       "    <tr style=\"text-align: right;\">\n",
       "      <th></th>\n",
       "      <th>count</th>\n",
       "      <th>unique</th>\n",
       "      <th>top</th>\n",
       "      <th>freq</th>\n",
       "      <th>mean</th>\n",
       "      <th>std</th>\n",
       "      <th>min</th>\n",
       "      <th>25%</th>\n",
       "      <th>50%</th>\n",
       "      <th>75%</th>\n",
       "      <th>max</th>\n",
       "    </tr>\n",
       "  </thead>\n",
       "  <tbody>\n",
       "    <tr>\n",
       "      <th>date</th>\n",
       "      <td>4600</td>\n",
       "      <td>70</td>\n",
       "      <td>2014-06-23 00:00:00</td>\n",
       "      <td>142</td>\n",
       "      <td>NaN</td>\n",
       "      <td>NaN</td>\n",
       "      <td>NaN</td>\n",
       "      <td>NaN</td>\n",
       "      <td>NaN</td>\n",
       "      <td>NaN</td>\n",
       "      <td>NaN</td>\n",
       "    </tr>\n",
       "    <tr>\n",
       "      <th>price</th>\n",
       "      <td>4600.0</td>\n",
       "      <td>NaN</td>\n",
       "      <td>NaN</td>\n",
       "      <td>NaN</td>\n",
       "      <td>551962.988473</td>\n",
       "      <td>563834.702547</td>\n",
       "      <td>0.0</td>\n",
       "      <td>322875.0</td>\n",
       "      <td>460943.461539</td>\n",
       "      <td>654962.5</td>\n",
       "      <td>26590000.0</td>\n",
       "    </tr>\n",
       "    <tr>\n",
       "      <th>bedrooms</th>\n",
       "      <td>4600.0</td>\n",
       "      <td>NaN</td>\n",
       "      <td>NaN</td>\n",
       "      <td>NaN</td>\n",
       "      <td>3.40087</td>\n",
       "      <td>0.908848</td>\n",
       "      <td>0.0</td>\n",
       "      <td>3.0</td>\n",
       "      <td>3.0</td>\n",
       "      <td>4.0</td>\n",
       "      <td>9.0</td>\n",
       "    </tr>\n",
       "    <tr>\n",
       "      <th>bathrooms</th>\n",
       "      <td>4600.0</td>\n",
       "      <td>NaN</td>\n",
       "      <td>NaN</td>\n",
       "      <td>NaN</td>\n",
       "      <td>2.160815</td>\n",
       "      <td>0.783781</td>\n",
       "      <td>0.0</td>\n",
       "      <td>1.75</td>\n",
       "      <td>2.25</td>\n",
       "      <td>2.5</td>\n",
       "      <td>8.0</td>\n",
       "    </tr>\n",
       "    <tr>\n",
       "      <th>sqft_living</th>\n",
       "      <td>4600.0</td>\n",
       "      <td>NaN</td>\n",
       "      <td>NaN</td>\n",
       "      <td>NaN</td>\n",
       "      <td>2139.346957</td>\n",
       "      <td>963.206916</td>\n",
       "      <td>370.0</td>\n",
       "      <td>1460.0</td>\n",
       "      <td>1980.0</td>\n",
       "      <td>2620.0</td>\n",
       "      <td>13540.0</td>\n",
       "    </tr>\n",
       "    <tr>\n",
       "      <th>sqft_lot</th>\n",
       "      <td>4600.0</td>\n",
       "      <td>NaN</td>\n",
       "      <td>NaN</td>\n",
       "      <td>NaN</td>\n",
       "      <td>14852.516087</td>\n",
       "      <td>35884.436145</td>\n",
       "      <td>638.0</td>\n",
       "      <td>5000.75</td>\n",
       "      <td>7683.0</td>\n",
       "      <td>11001.25</td>\n",
       "      <td>1074218.0</td>\n",
       "    </tr>\n",
       "    <tr>\n",
       "      <th>floors</th>\n",
       "      <td>4600.0</td>\n",
       "      <td>NaN</td>\n",
       "      <td>NaN</td>\n",
       "      <td>NaN</td>\n",
       "      <td>1.512065</td>\n",
       "      <td>0.538288</td>\n",
       "      <td>1.0</td>\n",
       "      <td>1.0</td>\n",
       "      <td>1.5</td>\n",
       "      <td>2.0</td>\n",
       "      <td>3.5</td>\n",
       "    </tr>\n",
       "    <tr>\n",
       "      <th>waterfront</th>\n",
       "      <td>4600.0</td>\n",
       "      <td>NaN</td>\n",
       "      <td>NaN</td>\n",
       "      <td>NaN</td>\n",
       "      <td>0.007174</td>\n",
       "      <td>0.084404</td>\n",
       "      <td>0.0</td>\n",
       "      <td>0.0</td>\n",
       "      <td>0.0</td>\n",
       "      <td>0.0</td>\n",
       "      <td>1.0</td>\n",
       "    </tr>\n",
       "    <tr>\n",
       "      <th>view</th>\n",
       "      <td>4600.0</td>\n",
       "      <td>NaN</td>\n",
       "      <td>NaN</td>\n",
       "      <td>NaN</td>\n",
       "      <td>0.240652</td>\n",
       "      <td>0.778405</td>\n",
       "      <td>0.0</td>\n",
       "      <td>0.0</td>\n",
       "      <td>0.0</td>\n",
       "      <td>0.0</td>\n",
       "      <td>4.0</td>\n",
       "    </tr>\n",
       "    <tr>\n",
       "      <th>condition</th>\n",
       "      <td>4600.0</td>\n",
       "      <td>NaN</td>\n",
       "      <td>NaN</td>\n",
       "      <td>NaN</td>\n",
       "      <td>3.451739</td>\n",
       "      <td>0.67723</td>\n",
       "      <td>1.0</td>\n",
       "      <td>3.0</td>\n",
       "      <td>3.0</td>\n",
       "      <td>4.0</td>\n",
       "      <td>5.0</td>\n",
       "    </tr>\n",
       "    <tr>\n",
       "      <th>sqft_above</th>\n",
       "      <td>4600.0</td>\n",
       "      <td>NaN</td>\n",
       "      <td>NaN</td>\n",
       "      <td>NaN</td>\n",
       "      <td>1827.265435</td>\n",
       "      <td>862.168977</td>\n",
       "      <td>370.0</td>\n",
       "      <td>1190.0</td>\n",
       "      <td>1590.0</td>\n",
       "      <td>2300.0</td>\n",
       "      <td>9410.0</td>\n",
       "    </tr>\n",
       "    <tr>\n",
       "      <th>sqft_basement</th>\n",
       "      <td>4600.0</td>\n",
       "      <td>NaN</td>\n",
       "      <td>NaN</td>\n",
       "      <td>NaN</td>\n",
       "      <td>312.081522</td>\n",
       "      <td>464.137228</td>\n",
       "      <td>0.0</td>\n",
       "      <td>0.0</td>\n",
       "      <td>0.0</td>\n",
       "      <td>610.0</td>\n",
       "      <td>4820.0</td>\n",
       "    </tr>\n",
       "    <tr>\n",
       "      <th>yr_built</th>\n",
       "      <td>4600.0</td>\n",
       "      <td>NaN</td>\n",
       "      <td>NaN</td>\n",
       "      <td>NaN</td>\n",
       "      <td>1970.786304</td>\n",
       "      <td>29.731848</td>\n",
       "      <td>1900.0</td>\n",
       "      <td>1951.0</td>\n",
       "      <td>1976.0</td>\n",
       "      <td>1997.0</td>\n",
       "      <td>2014.0</td>\n",
       "    </tr>\n",
       "    <tr>\n",
       "      <th>yr_renovated</th>\n",
       "      <td>4600.0</td>\n",
       "      <td>NaN</td>\n",
       "      <td>NaN</td>\n",
       "      <td>NaN</td>\n",
       "      <td>808.608261</td>\n",
       "      <td>979.414536</td>\n",
       "      <td>0.0</td>\n",
       "      <td>0.0</td>\n",
       "      <td>0.0</td>\n",
       "      <td>1999.0</td>\n",
       "      <td>2014.0</td>\n",
       "    </tr>\n",
       "    <tr>\n",
       "      <th>street</th>\n",
       "      <td>4600</td>\n",
       "      <td>4525</td>\n",
       "      <td>2520 Mulberry Walk NE</td>\n",
       "      <td>4</td>\n",
       "      <td>NaN</td>\n",
       "      <td>NaN</td>\n",
       "      <td>NaN</td>\n",
       "      <td>NaN</td>\n",
       "      <td>NaN</td>\n",
       "      <td>NaN</td>\n",
       "      <td>NaN</td>\n",
       "    </tr>\n",
       "    <tr>\n",
       "      <th>city</th>\n",
       "      <td>4600</td>\n",
       "      <td>44</td>\n",
       "      <td>Seattle</td>\n",
       "      <td>1573</td>\n",
       "      <td>NaN</td>\n",
       "      <td>NaN</td>\n",
       "      <td>NaN</td>\n",
       "      <td>NaN</td>\n",
       "      <td>NaN</td>\n",
       "      <td>NaN</td>\n",
       "      <td>NaN</td>\n",
       "    </tr>\n",
       "    <tr>\n",
       "      <th>statezip</th>\n",
       "      <td>4600</td>\n",
       "      <td>77</td>\n",
       "      <td>WA 98103</td>\n",
       "      <td>148</td>\n",
       "      <td>NaN</td>\n",
       "      <td>NaN</td>\n",
       "      <td>NaN</td>\n",
       "      <td>NaN</td>\n",
       "      <td>NaN</td>\n",
       "      <td>NaN</td>\n",
       "      <td>NaN</td>\n",
       "    </tr>\n",
       "    <tr>\n",
       "      <th>country</th>\n",
       "      <td>4600</td>\n",
       "      <td>1</td>\n",
       "      <td>USA</td>\n",
       "      <td>4600</td>\n",
       "      <td>NaN</td>\n",
       "      <td>NaN</td>\n",
       "      <td>NaN</td>\n",
       "      <td>NaN</td>\n",
       "      <td>NaN</td>\n",
       "      <td>NaN</td>\n",
       "      <td>NaN</td>\n",
       "    </tr>\n",
       "  </tbody>\n",
       "</table>\n",
       "</div>"
      ],
      "text/plain": [
       "                count unique                    top  freq           mean  \\\n",
       "date             4600     70    2014-06-23 00:00:00   142            NaN   \n",
       "price          4600.0    NaN                    NaN   NaN  551962.988473   \n",
       "bedrooms       4600.0    NaN                    NaN   NaN        3.40087   \n",
       "bathrooms      4600.0    NaN                    NaN   NaN       2.160815   \n",
       "sqft_living    4600.0    NaN                    NaN   NaN    2139.346957   \n",
       "sqft_lot       4600.0    NaN                    NaN   NaN   14852.516087   \n",
       "floors         4600.0    NaN                    NaN   NaN       1.512065   \n",
       "waterfront     4600.0    NaN                    NaN   NaN       0.007174   \n",
       "view           4600.0    NaN                    NaN   NaN       0.240652   \n",
       "condition      4600.0    NaN                    NaN   NaN       3.451739   \n",
       "sqft_above     4600.0    NaN                    NaN   NaN    1827.265435   \n",
       "sqft_basement  4600.0    NaN                    NaN   NaN     312.081522   \n",
       "yr_built       4600.0    NaN                    NaN   NaN    1970.786304   \n",
       "yr_renovated   4600.0    NaN                    NaN   NaN     808.608261   \n",
       "street           4600   4525  2520 Mulberry Walk NE     4            NaN   \n",
       "city             4600     44                Seattle  1573            NaN   \n",
       "statezip         4600     77               WA 98103   148            NaN   \n",
       "country          4600      1                    USA  4600            NaN   \n",
       "\n",
       "                         std     min       25%            50%       75%  \\\n",
       "date                     NaN     NaN       NaN            NaN       NaN   \n",
       "price          563834.702547     0.0  322875.0  460943.461539  654962.5   \n",
       "bedrooms            0.908848     0.0       3.0            3.0       4.0   \n",
       "bathrooms           0.783781     0.0      1.75           2.25       2.5   \n",
       "sqft_living       963.206916   370.0    1460.0         1980.0    2620.0   \n",
       "sqft_lot        35884.436145   638.0   5000.75         7683.0  11001.25   \n",
       "floors              0.538288     1.0       1.0            1.5       2.0   \n",
       "waterfront          0.084404     0.0       0.0            0.0       0.0   \n",
       "view                0.778405     0.0       0.0            0.0       0.0   \n",
       "condition            0.67723     1.0       3.0            3.0       4.0   \n",
       "sqft_above        862.168977   370.0    1190.0         1590.0    2300.0   \n",
       "sqft_basement     464.137228     0.0       0.0            0.0     610.0   \n",
       "yr_built           29.731848  1900.0    1951.0         1976.0    1997.0   \n",
       "yr_renovated      979.414536     0.0       0.0            0.0    1999.0   \n",
       "street                   NaN     NaN       NaN            NaN       NaN   \n",
       "city                     NaN     NaN       NaN            NaN       NaN   \n",
       "statezip                 NaN     NaN       NaN            NaN       NaN   \n",
       "country                  NaN     NaN       NaN            NaN       NaN   \n",
       "\n",
       "                      max  \n",
       "date                  NaN  \n",
       "price          26590000.0  \n",
       "bedrooms              9.0  \n",
       "bathrooms             8.0  \n",
       "sqft_living       13540.0  \n",
       "sqft_lot        1074218.0  \n",
       "floors                3.5  \n",
       "waterfront            1.0  \n",
       "view                  4.0  \n",
       "condition             5.0  \n",
       "sqft_above         9410.0  \n",
       "sqft_basement      4820.0  \n",
       "yr_built           2014.0  \n",
       "yr_renovated       2014.0  \n",
       "street                NaN  \n",
       "city                  NaN  \n",
       "statezip              NaN  \n",
       "country               NaN  "
      ]
     },
     "execution_count": 12,
     "metadata": {},
     "output_type": "execute_result"
    }
   ],
   "source": [
    "# Added \"include=\"all\"\" parameter to see all columns. (to see not only numeric ones)\n",
    "# Based on the unique value count, city can be used by converting to dummies\n",
    "\n",
    "raw_data.describe(include='all').T"
   ]
  },
  {
   "cell_type": "code",
   "execution_count": 13,
   "id": "f3541664",
   "metadata": {
    "execution": {
     "iopub.execute_input": "2022-03-25T15:23:45.521482Z",
     "iopub.status.busy": "2022-03-25T15:23:45.520849Z",
     "iopub.status.idle": "2022-03-25T15:23:45.599800Z",
     "shell.execute_reply": "2022-03-25T15:23:45.600645Z",
     "shell.execute_reply.started": "2022-03-24T13:52:23.459509Z"
    },
    "papermill": {
     "duration": 0.172843,
     "end_time": "2022-03-25T15:23:45.600918",
     "exception": false,
     "start_time": "2022-03-25T15:23:45.428075",
     "status": "completed"
    },
    "tags": []
   },
   "outputs": [
    {
     "data": {
      "text/html": [
       "<table class=\"simpletable\">\n",
       "<caption>OLS Regression Results</caption>\n",
       "<tr>\n",
       "  <th>Dep. Variable:</th>          <td>price</td>      <th>  R-squared:         </th> <td>   0.218</td> \n",
       "</tr>\n",
       "<tr>\n",
       "  <th>Model:</th>                   <td>OLS</td>       <th>  Adj. R-squared:    </th> <td>   0.216</td> \n",
       "</tr>\n",
       "<tr>\n",
       "  <th>Method:</th>             <td>Least Squares</td>  <th>  F-statistic:       </th> <td>   116.1</td> \n",
       "</tr>\n",
       "<tr>\n",
       "  <th>Date:</th>             <td>Fri, 25 Mar 2022</td> <th>  Prob (F-statistic):</th> <td>5.03e-235</td>\n",
       "</tr>\n",
       "<tr>\n",
       "  <th>Time:</th>                 <td>15:23:45</td>     <th>  Log-Likelihood:    </th> <td> -66877.</td> \n",
       "</tr>\n",
       "<tr>\n",
       "  <th>No. Observations:</th>      <td>  4600</td>      <th>  AIC:               </th> <td>1.338e+05</td>\n",
       "</tr>\n",
       "<tr>\n",
       "  <th>Df Residuals:</th>          <td>  4588</td>      <th>  BIC:               </th> <td>1.339e+05</td>\n",
       "</tr>\n",
       "<tr>\n",
       "  <th>Df Model:</th>              <td>    11</td>      <th>                     </th>     <td> </td>    \n",
       "</tr>\n",
       "<tr>\n",
       "  <th>Covariance Type:</th>      <td>nonrobust</td>    <th>                     </th>     <td> </td>    \n",
       "</tr>\n",
       "</table>\n",
       "<table class=\"simpletable\">\n",
       "<tr>\n",
       "        <td></td>           <th>coef</th>     <th>std err</th>      <th>t</th>      <th>P>|t|</th>  <th>[0.025</th>    <th>0.975]</th>  \n",
       "</tr>\n",
       "<tr>\n",
       "  <th>const</th>         <td> 4.584e+06</td> <td> 6.85e+05</td> <td>    6.689</td> <td> 0.000</td> <td> 3.24e+06</td> <td> 5.93e+06</td>\n",
       "</tr>\n",
       "<tr>\n",
       "  <th>bedrooms</th>      <td>-5.804e+04</td> <td> 1.05e+04</td> <td>   -5.531</td> <td> 0.000</td> <td>-7.86e+04</td> <td>-3.75e+04</td>\n",
       "</tr>\n",
       "<tr>\n",
       "  <th>bathrooms</th>     <td>  5.72e+04</td> <td>  1.7e+04</td> <td>    3.363</td> <td> 0.001</td> <td> 2.39e+04</td> <td> 9.05e+04</td>\n",
       "</tr>\n",
       "<tr>\n",
       "  <th>sqft_living</th>   <td>  164.4116</td> <td>    9.779</td> <td>   16.813</td> <td> 0.000</td> <td>  145.241</td> <td>  183.582</td>\n",
       "</tr>\n",
       "<tr>\n",
       "  <th>sqft_lot</th>      <td>   -0.6912</td> <td>    0.213</td> <td>   -3.250</td> <td> 0.001</td> <td>   -1.108</td> <td>   -0.274</td>\n",
       "</tr>\n",
       "<tr>\n",
       "  <th>floors</th>        <td> 3.981e+04</td> <td> 1.87e+04</td> <td>    2.129</td> <td> 0.033</td> <td> 3143.011</td> <td> 7.65e+04</td>\n",
       "</tr>\n",
       "<tr>\n",
       "  <th>waterfront</th>    <td> 3.553e+05</td> <td> 9.38e+04</td> <td>    3.789</td> <td> 0.000</td> <td> 1.71e+05</td> <td> 5.39e+05</td>\n",
       "</tr>\n",
       "<tr>\n",
       "  <th>view</th>          <td>  4.57e+04</td> <td>  1.1e+04</td> <td>    4.167</td> <td> 0.000</td> <td> 2.42e+04</td> <td> 6.72e+04</td>\n",
       "</tr>\n",
       "<tr>\n",
       "  <th>condition</th>     <td> 3.184e+04</td> <td>  1.3e+04</td> <td>    2.441</td> <td> 0.015</td> <td> 6269.622</td> <td> 5.74e+04</td>\n",
       "</tr>\n",
       "<tr>\n",
       "  <th>sqft_above</th>    <td>   97.0378</td> <td>    9.714</td> <td>    9.989</td> <td> 0.000</td> <td>   77.993</td> <td>  116.082</td>\n",
       "</tr>\n",
       "<tr>\n",
       "  <th>sqft_basement</th> <td>   67.3738</td> <td>   13.661</td> <td>    4.932</td> <td> 0.000</td> <td>   40.591</td> <td>   94.157</td>\n",
       "</tr>\n",
       "<tr>\n",
       "  <th>yr_built</th>      <td>-2378.2101</td> <td>  341.615</td> <td>   -6.962</td> <td> 0.000</td> <td>-3047.939</td> <td>-1708.481</td>\n",
       "</tr>\n",
       "<tr>\n",
       "  <th>yr_renovated</th>  <td>    6.5727</td> <td>    8.634</td> <td>    0.761</td> <td> 0.447</td> <td>  -10.355</td> <td>   23.500</td>\n",
       "</tr>\n",
       "</table>\n",
       "<table class=\"simpletable\">\n",
       "<tr>\n",
       "  <th>Omnibus:</th>       <td>12845.801</td> <th>  Durbin-Watson:     </th>   <td>   1.974</td>   \n",
       "</tr>\n",
       "<tr>\n",
       "  <th>Prob(Omnibus):</th>  <td> 0.000</td>   <th>  Jarque-Bera (JB):  </th> <td>601962895.545</td>\n",
       "</tr>\n",
       "<tr>\n",
       "  <th>Skew:</th>           <td>35.530</td>   <th>  Prob(JB):          </th>   <td>    0.00</td>   \n",
       "</tr>\n",
       "<tr>\n",
       "  <th>Kurtosis:</th>      <td>1773.770</td>  <th>  Cond. No.          </th>   <td>1.08e+17</td>   \n",
       "</tr>\n",
       "</table><br/><br/>Notes:<br/>[1] Standard Errors assume that the covariance matrix of the errors is correctly specified.<br/>[2] The smallest eigenvalue is 5.96e-22. This might indicate that there are<br/>strong multicollinearity problems or that the design matrix is singular."
      ],
      "text/plain": [
       "<class 'statsmodels.iolib.summary.Summary'>\n",
       "\"\"\"\n",
       "                            OLS Regression Results                            \n",
       "==============================================================================\n",
       "Dep. Variable:                  price   R-squared:                       0.218\n",
       "Model:                            OLS   Adj. R-squared:                  0.216\n",
       "Method:                 Least Squares   F-statistic:                     116.1\n",
       "Date:                Fri, 25 Mar 2022   Prob (F-statistic):          5.03e-235\n",
       "Time:                        15:23:45   Log-Likelihood:                -66877.\n",
       "No. Observations:                4600   AIC:                         1.338e+05\n",
       "Df Residuals:                    4588   BIC:                         1.339e+05\n",
       "Df Model:                          11                                         \n",
       "Covariance Type:            nonrobust                                         \n",
       "=================================================================================\n",
       "                    coef    std err          t      P>|t|      [0.025      0.975]\n",
       "---------------------------------------------------------------------------------\n",
       "const          4.584e+06   6.85e+05      6.689      0.000    3.24e+06    5.93e+06\n",
       "bedrooms      -5.804e+04   1.05e+04     -5.531      0.000   -7.86e+04   -3.75e+04\n",
       "bathrooms       5.72e+04    1.7e+04      3.363      0.001    2.39e+04    9.05e+04\n",
       "sqft_living     164.4116      9.779     16.813      0.000     145.241     183.582\n",
       "sqft_lot         -0.6912      0.213     -3.250      0.001      -1.108      -0.274\n",
       "floors         3.981e+04   1.87e+04      2.129      0.033    3143.011    7.65e+04\n",
       "waterfront     3.553e+05   9.38e+04      3.789      0.000    1.71e+05    5.39e+05\n",
       "view            4.57e+04    1.1e+04      4.167      0.000    2.42e+04    6.72e+04\n",
       "condition      3.184e+04    1.3e+04      2.441      0.015    6269.622    5.74e+04\n",
       "sqft_above       97.0378      9.714      9.989      0.000      77.993     116.082\n",
       "sqft_basement    67.3738     13.661      4.932      0.000      40.591      94.157\n",
       "yr_built      -2378.2101    341.615     -6.962      0.000   -3047.939   -1708.481\n",
       "yr_renovated      6.5727      8.634      0.761      0.447     -10.355      23.500\n",
       "==============================================================================\n",
       "Omnibus:                    12845.801   Durbin-Watson:                   1.974\n",
       "Prob(Omnibus):                  0.000   Jarque-Bera (JB):        601962895.545\n",
       "Skew:                          35.530   Prob(JB):                         0.00\n",
       "Kurtosis:                    1773.770   Cond. No.                     1.08e+17\n",
       "==============================================================================\n",
       "\n",
       "Notes:\n",
       "[1] Standard Errors assume that the covariance matrix of the errors is correctly specified.\n",
       "[2] The smallest eigenvalue is 5.96e-22. This might indicate that there are\n",
       "strong multicollinearity problems or that the design matrix is singular.\n",
       "\"\"\""
      ]
     },
     "execution_count": 13,
     "metadata": {},
     "output_type": "execute_result"
    }
   ],
   "source": [
    "# Let's check the accuracy of Linear regression without any data preprocessing\n",
    "\n",
    "# Define the variables\n",
    "x1 = raw_data.drop(['price', 'date', 'street', 'city', 'statezip', 'country'], axis = 1) \n",
    "y = raw_data['price']\n",
    "\n",
    "# Add a constant. Esentially, we are adding a new column (equal in lenght to x), which consists only of 1's\n",
    "x = sm.add_constant(x1)\n",
    "# Fit the model, according to the OLS (ordinary least squares) method with a dependent variable y and an independent x\n",
    "results = sm.OLS(y,x).fit()\n",
    "# Print a summary of the model\n",
    "results.summary()"
   ]
  },
  {
   "cell_type": "markdown",
   "id": "b0f48824",
   "metadata": {
    "papermill": {
     "duration": 0.090004,
     "end_time": "2022-03-25T15:23:45.819923",
     "exception": false,
     "start_time": "2022-03-25T15:23:45.729919",
     "status": "completed"
    },
    "tags": []
   },
   "source": [
    "## Interpreting the Regression Table\n",
    "\n",
    "I used OLS (Ordinary least squares) model from statsmodel, which is often used in linear regression analysis. It compares the difference between individual points in our data set and the predicted best fit line to measure the amount of error produced.\n",
    "\n",
    "In order to interpret this summary and to get an overview of the statistics here, we need to know the components in the table. I will try to explain the most important ones in my opinion.\n",
    "\n",
    "Typically when using statsmodels we have three main tables. The table called the model summary, which is at the top of the summary, contains information that is mostly known to us; such as **dependent variable, model, method, date and time we created the model, number of observations.\n",
    "\n",
    "**DF Residuals** is widely used in many contexts throughout statistics, including hypothesis testing, probability distributions, and regression analysis. It is represents the degrees of freedom of our model, the formula is given below.\n",
    "'(number of observations) - (number of predicting variables - 1)'<br>\n",
    "'(n-k-1 = 4600-11-1 = 4588)'. <br>\n",
    "\n",
    "\n",
    "**R-squared** is one of the most important explanatory power, a measure of how much of the independent variable is explained by changes in our dependent variables. R-squared 0 means our regression explains NONE of the variabilty of the data, while R-sguared equal 1 means it explains the entire variability. In our case, the model can only explain 21% of our dataset.\n",
    "\n",
    "Checking the **adjusted R-squared** is essential to analyze the effectiveness of multiple dependent variables on the model. Excessive use of variables is penalized when measuring, so while adding some variables that don't contribute to our model can increase our R-square, it often has a negative impact on the adjusted R-squared. It is always smaller than R squared.\n",
    "\n",
    "In the second part of our summary, the table of coefficients, I want to focus on the coefficients of the **intercept** (the constant, they can be used interchangeably) first. This component expresses the biases of our model.(b0, b1 etc.) For each variable, it is the measure of how the change in that variable affects the independent one.\n",
    "\n",
    "**The standard error**, indicates the accuracy of our prediction for each variable. Lower the standard error better the estimate :)\n",
    "\n",
    "There are also other values called **t statistics and its P-value**. The null hypothesis in this test is H0: B=0 (Is the coefficient equal to zero?) *P-value < 0.05 means that the variable is significant. 0.000 shows us size is a significant variable when predicting house prices!\n",
    "\n",
    "As can be clearly seen from the explanations I have made so far, our model needs improvements. Let's start working on it!"
   ]
  },
  {
   "cell_type": "markdown",
   "id": "462a1407",
   "metadata": {
    "papermill": {
     "duration": 0.090907,
     "end_time": "2022-03-25T15:23:46.001033",
     "exception": false,
     "start_time": "2022-03-25T15:23:45.910126",
     "status": "completed"
    },
    "tags": []
   },
   "source": [
    "# Dealing with missing values\n",
    "\n",
    "There is no NaN value in our data set, but it would be good to check 0's or 999's for the sake of data consistency. I don't see any irrelevant max values in the describe output but there are some zeros to check.\n",
    "\n",
    "We have to deal with 49 houses that look free, plus 2 houses each without a bedroom and a bathroom. Since they are few in number, we can remove these values directly from our data set, but since I want to try a few different methods, I will try to keep them by replacing them with appropriate values.\n",
    "\n",
    "I will leave waterfront as it is because zero values indicate there is no \"waterfront\" rather than the information being unknown. Same for: view, sqft_basement and yr_renovated. \n"
   ]
  },
  {
   "cell_type": "code",
   "execution_count": 14,
   "id": "d4a9bd31",
   "metadata": {
    "execution": {
     "iopub.execute_input": "2022-03-25T15:23:46.189919Z",
     "iopub.status.busy": "2022-03-25T15:23:46.189235Z",
     "iopub.status.idle": "2022-03-25T15:23:46.194481Z",
     "shell.execute_reply": "2022-03-25T15:23:46.195059Z",
     "shell.execute_reply.started": "2022-03-24T13:52:23.526852Z"
    },
    "papermill": {
     "duration": 0.10384,
     "end_time": "2022-03-25T15:23:46.195219",
     "exception": false,
     "start_time": "2022-03-25T15:23:46.091379",
     "status": "completed"
    },
    "tags": []
   },
   "outputs": [
    {
     "data": {
      "text/plain": [
       "date             0\n",
       "price            0\n",
       "bedrooms         0\n",
       "bathrooms        0\n",
       "sqft_living      0\n",
       "sqft_lot         0\n",
       "floors           0\n",
       "waterfront       0\n",
       "view             0\n",
       "condition        0\n",
       "sqft_above       0\n",
       "sqft_basement    0\n",
       "yr_built         0\n",
       "yr_renovated     0\n",
       "street           0\n",
       "city             0\n",
       "statezip         0\n",
       "country          0\n",
       "dtype: int64"
      ]
     },
     "execution_count": 14,
     "metadata": {},
     "output_type": "execute_result"
    }
   ],
   "source": [
    "raw_data.isnull().sum()"
   ]
  },
  {
   "cell_type": "code",
   "execution_count": 15,
   "id": "db2f69bd",
   "metadata": {
    "execution": {
     "iopub.execute_input": "2022-03-25T15:23:46.380028Z",
     "iopub.status.busy": "2022-03-25T15:23:46.379419Z",
     "iopub.status.idle": "2022-03-25T15:23:46.404059Z",
     "shell.execute_reply": "2022-03-25T15:23:46.404639Z",
     "shell.execute_reply.started": "2022-03-24T13:52:23.551469Z"
    },
    "papermill": {
     "duration": 0.11866,
     "end_time": "2022-03-25T15:23:46.404817",
     "exception": false,
     "start_time": "2022-03-25T15:23:46.286157",
     "status": "completed"
    },
    "tags": []
   },
   "outputs": [
    {
     "data": {
      "text/plain": [
       "date                0\n",
       "price              49\n",
       "bedrooms            2\n",
       "bathrooms           2\n",
       "sqft_living         0\n",
       "sqft_lot            0\n",
       "floors              0\n",
       "waterfront       4567\n",
       "view             4140\n",
       "condition           0\n",
       "sqft_above          0\n",
       "sqft_basement    2745\n",
       "yr_built            0\n",
       "yr_renovated     2735\n",
       "street              0\n",
       "city                0\n",
       "statezip            0\n",
       "country             0\n",
       "dtype: int64"
      ]
     },
     "execution_count": 15,
     "metadata": {},
     "output_type": "execute_result"
    }
   ],
   "source": [
    "raw_data[raw_data==0].count()"
   ]
  },
  {
   "cell_type": "code",
   "execution_count": 16,
   "id": "9a43c96d",
   "metadata": {
    "execution": {
     "iopub.execute_input": "2022-03-25T15:23:46.591231Z",
     "iopub.status.busy": "2022-03-25T15:23:46.590619Z",
     "iopub.status.idle": "2022-03-25T15:23:46.634549Z",
     "shell.execute_reply": "2022-03-25T15:23:46.635138Z",
     "shell.execute_reply.started": "2022-03-24T13:52:23.592988Z"
    },
    "papermill": {
     "duration": 0.138513,
     "end_time": "2022-03-25T15:23:46.635312",
     "exception": false,
     "start_time": "2022-03-25T15:23:46.496799",
     "status": "completed"
    },
    "tags": []
   },
   "outputs": [
    {
     "data": {
      "text/html": [
       "<div>\n",
       "<style scoped>\n",
       "    .dataframe tbody tr th:only-of-type {\n",
       "        vertical-align: middle;\n",
       "    }\n",
       "\n",
       "    .dataframe tbody tr th {\n",
       "        vertical-align: top;\n",
       "    }\n",
       "\n",
       "    .dataframe thead th {\n",
       "        text-align: right;\n",
       "    }\n",
       "</style>\n",
       "<table border=\"1\" class=\"dataframe\">\n",
       "  <thead>\n",
       "    <tr style=\"text-align: right;\">\n",
       "      <th></th>\n",
       "      <th>count</th>\n",
       "      <th>mean</th>\n",
       "      <th>std</th>\n",
       "      <th>min</th>\n",
       "      <th>25%</th>\n",
       "      <th>50%</th>\n",
       "      <th>75%</th>\n",
       "      <th>max</th>\n",
       "    </tr>\n",
       "  </thead>\n",
       "  <tbody>\n",
       "    <tr>\n",
       "      <th>price</th>\n",
       "      <td>49.0</td>\n",
       "      <td>0.000000</td>\n",
       "      <td>0.000000</td>\n",
       "      <td>0.0</td>\n",
       "      <td>0.0</td>\n",
       "      <td>0.0</td>\n",
       "      <td>0.0</td>\n",
       "      <td>0.00</td>\n",
       "    </tr>\n",
       "    <tr>\n",
       "      <th>bedrooms</th>\n",
       "      <td>49.0</td>\n",
       "      <td>3.979592</td>\n",
       "      <td>1.108486</td>\n",
       "      <td>1.0</td>\n",
       "      <td>3.0</td>\n",
       "      <td>4.0</td>\n",
       "      <td>5.0</td>\n",
       "      <td>6.00</td>\n",
       "    </tr>\n",
       "    <tr>\n",
       "      <th>bathrooms</th>\n",
       "      <td>49.0</td>\n",
       "      <td>2.698980</td>\n",
       "      <td>1.194584</td>\n",
       "      <td>1.0</td>\n",
       "      <td>2.0</td>\n",
       "      <td>2.5</td>\n",
       "      <td>3.5</td>\n",
       "      <td>6.25</td>\n",
       "    </tr>\n",
       "    <tr>\n",
       "      <th>sqft_living</th>\n",
       "      <td>49.0</td>\n",
       "      <td>2787.142857</td>\n",
       "      <td>1354.375625</td>\n",
       "      <td>720.0</td>\n",
       "      <td>1910.0</td>\n",
       "      <td>2600.0</td>\n",
       "      <td>3500.0</td>\n",
       "      <td>8020.00</td>\n",
       "    </tr>\n",
       "    <tr>\n",
       "      <th>sqft_lot</th>\n",
       "      <td>49.0</td>\n",
       "      <td>16453.306122</td>\n",
       "      <td>27739.227932</td>\n",
       "      <td>3500.0</td>\n",
       "      <td>6863.0</td>\n",
       "      <td>9000.0</td>\n",
       "      <td>13783.0</td>\n",
       "      <td>188200.00</td>\n",
       "    </tr>\n",
       "    <tr>\n",
       "      <th>floors</th>\n",
       "      <td>49.0</td>\n",
       "      <td>1.500000</td>\n",
       "      <td>0.520416</td>\n",
       "      <td>1.0</td>\n",
       "      <td>1.0</td>\n",
       "      <td>1.5</td>\n",
       "      <td>2.0</td>\n",
       "      <td>3.00</td>\n",
       "    </tr>\n",
       "    <tr>\n",
       "      <th>waterfront</th>\n",
       "      <td>49.0</td>\n",
       "      <td>0.061224</td>\n",
       "      <td>0.242226</td>\n",
       "      <td>0.0</td>\n",
       "      <td>0.0</td>\n",
       "      <td>0.0</td>\n",
       "      <td>0.0</td>\n",
       "      <td>1.00</td>\n",
       "    </tr>\n",
       "    <tr>\n",
       "      <th>view</th>\n",
       "      <td>49.0</td>\n",
       "      <td>0.795918</td>\n",
       "      <td>1.485760</td>\n",
       "      <td>0.0</td>\n",
       "      <td>0.0</td>\n",
       "      <td>0.0</td>\n",
       "      <td>0.0</td>\n",
       "      <td>4.00</td>\n",
       "    </tr>\n",
       "    <tr>\n",
       "      <th>condition</th>\n",
       "      <td>49.0</td>\n",
       "      <td>3.673469</td>\n",
       "      <td>0.826331</td>\n",
       "      <td>2.0</td>\n",
       "      <td>3.0</td>\n",
       "      <td>3.0</td>\n",
       "      <td>4.0</td>\n",
       "      <td>5.00</td>\n",
       "    </tr>\n",
       "    <tr>\n",
       "      <th>sqft_above</th>\n",
       "      <td>49.0</td>\n",
       "      <td>2295.714286</td>\n",
       "      <td>1337.148708</td>\n",
       "      <td>720.0</td>\n",
       "      <td>1310.0</td>\n",
       "      <td>1990.0</td>\n",
       "      <td>3020.0</td>\n",
       "      <td>8020.00</td>\n",
       "    </tr>\n",
       "    <tr>\n",
       "      <th>sqft_basement</th>\n",
       "      <td>49.0</td>\n",
       "      <td>491.428571</td>\n",
       "      <td>612.726149</td>\n",
       "      <td>0.0</td>\n",
       "      <td>0.0</td>\n",
       "      <td>0.0</td>\n",
       "      <td>900.0</td>\n",
       "      <td>1950.00</td>\n",
       "    </tr>\n",
       "    <tr>\n",
       "      <th>yr_built</th>\n",
       "      <td>49.0</td>\n",
       "      <td>1969.918367</td>\n",
       "      <td>27.247964</td>\n",
       "      <td>1920.0</td>\n",
       "      <td>1952.0</td>\n",
       "      <td>1962.0</td>\n",
       "      <td>1998.0</td>\n",
       "      <td>2013.00</td>\n",
       "    </tr>\n",
       "    <tr>\n",
       "      <th>yr_renovated</th>\n",
       "      <td>49.0</td>\n",
       "      <td>812.714286</td>\n",
       "      <td>988.903054</td>\n",
       "      <td>0.0</td>\n",
       "      <td>0.0</td>\n",
       "      <td>0.0</td>\n",
       "      <td>1999.0</td>\n",
       "      <td>2009.00</td>\n",
       "    </tr>\n",
       "  </tbody>\n",
       "</table>\n",
       "</div>"
      ],
      "text/plain": [
       "               count          mean           std     min     25%     50%  \\\n",
       "price           49.0      0.000000      0.000000     0.0     0.0     0.0   \n",
       "bedrooms        49.0      3.979592      1.108486     1.0     3.0     4.0   \n",
       "bathrooms       49.0      2.698980      1.194584     1.0     2.0     2.5   \n",
       "sqft_living     49.0   2787.142857   1354.375625   720.0  1910.0  2600.0   \n",
       "sqft_lot        49.0  16453.306122  27739.227932  3500.0  6863.0  9000.0   \n",
       "floors          49.0      1.500000      0.520416     1.0     1.0     1.5   \n",
       "waterfront      49.0      0.061224      0.242226     0.0     0.0     0.0   \n",
       "view            49.0      0.795918      1.485760     0.0     0.0     0.0   \n",
       "condition       49.0      3.673469      0.826331     2.0     3.0     3.0   \n",
       "sqft_above      49.0   2295.714286   1337.148708   720.0  1310.0  1990.0   \n",
       "sqft_basement   49.0    491.428571    612.726149     0.0     0.0     0.0   \n",
       "yr_built        49.0   1969.918367     27.247964  1920.0  1952.0  1962.0   \n",
       "yr_renovated    49.0    812.714286    988.903054     0.0     0.0     0.0   \n",
       "\n",
       "                   75%        max  \n",
       "price              0.0       0.00  \n",
       "bedrooms           5.0       6.00  \n",
       "bathrooms          3.5       6.25  \n",
       "sqft_living     3500.0    8020.00  \n",
       "sqft_lot       13783.0  188200.00  \n",
       "floors             2.0       3.00  \n",
       "waterfront         0.0       1.00  \n",
       "view               0.0       4.00  \n",
       "condition          4.0       5.00  \n",
       "sqft_above      3020.0    8020.00  \n",
       "sqft_basement    900.0    1950.00  \n",
       "yr_built        1998.0    2013.00  \n",
       "yr_renovated    1999.0    2009.00  "
      ]
     },
     "execution_count": 16,
     "metadata": {},
     "output_type": "execute_result"
    }
   ],
   "source": [
    "zero_price = raw_data[raw_data['price']==0]\n",
    "zero_price.describe().T"
   ]
  },
  {
   "cell_type": "code",
   "execution_count": 17,
   "id": "a8c95d19",
   "metadata": {
    "execution": {
     "iopub.execute_input": "2022-03-25T15:23:46.821455Z",
     "iopub.status.busy": "2022-03-25T15:23:46.820794Z",
     "iopub.status.idle": "2022-03-25T15:23:48.152782Z",
     "shell.execute_reply": "2022-03-25T15:23:48.153384Z",
     "shell.execute_reply.started": "2022-03-24T13:52:23.651939Z"
    },
    "papermill": {
     "duration": 1.426744,
     "end_time": "2022-03-25T15:23:48.153584",
     "exception": false,
     "start_time": "2022-03-25T15:23:46.726840",
     "status": "completed"
    },
    "tags": []
   },
   "outputs": [
    {
     "data": {
      "text/plain": [
       "<AxesSubplot:>"
      ]
     },
     "execution_count": 17,
     "metadata": {},
     "output_type": "execute_result"
    },
    {
     "data": {
      "image/png": "[encoded data removed]",
      "text/plain": [
       "<Figure size 1080x432 with 2 Axes>"
      ]
     },
     "metadata": {},
     "output_type": "display_data"
    }
   ],
   "source": [
    "# In order to decide what to do with the null values in the price, \n",
    "# it is helpful to know the corelations between features.\n",
    "\n",
    "corr_matrix = raw_data.corr()\n",
    "\n",
    "fig, ax = plt.subplots(figsize = (15,6))\n",
    "sns.heatmap(corr_matrix, annot = True)"
   ]
  },
  {
   "cell_type": "code",
   "execution_count": 18,
   "id": "cf020955",
   "metadata": {
    "execution": {
     "iopub.execute_input": "2022-03-25T15:23:48.354633Z",
     "iopub.status.busy": "2022-03-25T15:23:48.353944Z",
     "iopub.status.idle": "2022-03-25T15:23:48.371639Z",
     "shell.execute_reply": "2022-03-25T15:23:48.372203Z",
     "shell.execute_reply.started": "2022-03-24T13:52:25.108512Z"
    },
    "papermill": {
     "duration": 0.119392,
     "end_time": "2022-03-25T15:23:48.372370",
     "exception": false,
     "start_time": "2022-03-25T15:23:48.252978",
     "status": "completed"
    },
    "tags": []
   },
   "outputs": [
    {
     "data": {
      "text/plain": [
       "0"
      ]
     },
     "execution_count": 18,
     "metadata": {},
     "output_type": "execute_result"
    }
   ],
   "source": [
    "# By looking at the median value of the sqft_living variable, which affects the price the most,\n",
    "# I divided the prices that appear 0 into two groups. \n",
    "# Afterwards, I decided on the value that I would assign to the empty prices in these two groups \n",
    "# by looking at the median values of the 3 variables that most affected the price value.\n",
    "\n",
    "low_price_data = raw_data[(raw_data['sqft_living'] < zero_price['sqft_living'].median()) &\n",
    "         (raw_data['bathrooms'] < zero_price['bathrooms'].median()) &\n",
    "         (raw_data['sqft_above'] < zero_price['sqft_above'].median()) ]\n",
    "low_price = low_price_data.price.median()\n",
    "\n",
    "high_price_data = raw_data[(raw_data['sqft_living'] > zero_price['sqft_living'].median()) &\n",
    "         (raw_data['bathrooms'] > zero_price['bathrooms'].median()) &\n",
    "         (raw_data['sqft_above'] > zero_price['sqft_above'].median()) ]\n",
    "high_price = high_price_data.price.median()\n",
    "\n",
    "data_prc = raw_data.copy()\n",
    "data_prc['price'] = np.where(((data_prc['price']==0) & (data_prc['sqft_living'] > zero_price['sqft_living'].median())), high_price, data_prc.price) \n",
    "data_prc['price'] = np.where(((data_prc['price']==0) & (data_prc['sqft_living'] <= zero_price['sqft_living'].median())), low_price, data_prc.price)\n",
    "\n",
    "data_prc.price[data_prc.price==0].count()"
   ]
  },
  {
   "cell_type": "code",
   "execution_count": 19,
   "id": "ebac6194",
   "metadata": {
    "execution": {
     "iopub.execute_input": "2022-03-25T15:23:48.589226Z",
     "iopub.status.busy": "2022-03-25T15:23:48.588562Z",
     "iopub.status.idle": "2022-03-25T15:23:49.292563Z",
     "shell.execute_reply": "2022-03-25T15:23:49.293084Z",
     "shell.execute_reply.started": "2022-03-24T13:52:25.137396Z"
    },
    "papermill": {
     "duration": 0.823783,
     "end_time": "2022-03-25T15:23:49.293288",
     "exception": false,
     "start_time": "2022-03-25T15:23:48.469505",
     "status": "completed"
    },
    "tags": []
   },
   "outputs": [
    {
     "data": {
      "text/plain": [
       "Text(0.5, 1.0, 'Bathrooms')"
      ]
     },
     "execution_count": 19,
     "metadata": {},
     "output_type": "execute_result"
    },
    {
     "data": {
      "image/png": "[encoded data removed]",
      "text/plain": [
       "<Figure size 1440x432 with 2 Axes>"
      ]
     },
     "metadata": {},
     "output_type": "display_data"
    }
   ],
   "source": [
    "# I will print the distrubution plots to decide \n",
    "# which method to use fill in the unknown zero values in the bedrooms and batromms columns.\n",
    "# As you may notice, there is some skewness that will affect the mean of both features. \n",
    "# I will use the median imputation for replacing zero values.\n",
    "\n",
    "fig, ax = plt.subplots(1,2, figsize = (20,6))\n",
    "\n",
    "sns.distplot(ax = ax[0], x= data_prc.bedrooms, color='darkmagenta')\n",
    "ax[0].set_title('Bedrooms', size = 18)\n",
    "sns.distplot(ax = ax[1], x = data_prc.bathrooms, color='darkmagenta')\n",
    "ax[1].set_title('Bathrooms', size = 18)"
   ]
  },
  {
   "cell_type": "code",
   "execution_count": 20,
   "id": "aafc8028",
   "metadata": {
    "execution": {
     "iopub.execute_input": "2022-03-25T15:23:49.497909Z",
     "iopub.status.busy": "2022-03-25T15:23:49.497294Z",
     "iopub.status.idle": "2022-03-25T15:23:49.532352Z",
     "shell.execute_reply": "2022-03-25T15:23:49.531634Z",
     "shell.execute_reply.started": "2022-03-24T13:52:25.897339Z"
    },
    "papermill": {
     "duration": 0.138372,
     "end_time": "2022-03-25T15:23:49.532497",
     "exception": false,
     "start_time": "2022-03-25T15:23:49.394125",
     "status": "completed"
    },
    "tags": []
   },
   "outputs": [
    {
     "data": {
      "text/html": [
       "<div>\n",
       "<style scoped>\n",
       "    .dataframe tbody tr th:only-of-type {\n",
       "        vertical-align: middle;\n",
       "    }\n",
       "\n",
       "    .dataframe tbody tr th {\n",
       "        vertical-align: top;\n",
       "    }\n",
       "\n",
       "    .dataframe thead th {\n",
       "        text-align: right;\n",
       "    }\n",
       "</style>\n",
       "<table border=\"1\" class=\"dataframe\">\n",
       "  <thead>\n",
       "    <tr style=\"text-align: right;\">\n",
       "      <th></th>\n",
       "      <th>bathrooms</th>\n",
       "      <th>sqft_living</th>\n",
       "      <th>sqft_lot</th>\n",
       "      <th>floors</th>\n",
       "      <th>waterfront</th>\n",
       "      <th>view</th>\n",
       "      <th>condition</th>\n",
       "      <th>sqft_above</th>\n",
       "      <th>sqft_basement</th>\n",
       "      <th>yr_built</th>\n",
       "      <th>yr_renovated</th>\n",
       "    </tr>\n",
       "    <tr>\n",
       "      <th>bedrooms</th>\n",
       "      <th></th>\n",
       "      <th></th>\n",
       "      <th></th>\n",
       "      <th></th>\n",
       "      <th></th>\n",
       "      <th></th>\n",
       "      <th></th>\n",
       "      <th></th>\n",
       "      <th></th>\n",
       "      <th></th>\n",
       "      <th></th>\n",
       "    </tr>\n",
       "  </thead>\n",
       "  <tbody>\n",
       "    <tr>\n",
       "      <th>0.0</th>\n",
       "      <td>0.000000</td>\n",
       "      <td>3937.000000</td>\n",
       "      <td>16386.000000</td>\n",
       "      <td>2.750000</td>\n",
       "      <td>0.000000</td>\n",
       "      <td>1.000000</td>\n",
       "      <td>3.000000</td>\n",
       "      <td>3937.000000</td>\n",
       "      <td>0.000000</td>\n",
       "      <td>1990.000000</td>\n",
       "      <td>2009.000000</td>\n",
       "    </tr>\n",
       "    <tr>\n",
       "      <th>1.0</th>\n",
       "      <td>1.072368</td>\n",
       "      <td>822.105263</td>\n",
       "      <td>9425.710526</td>\n",
       "      <td>1.144737</td>\n",
       "      <td>0.000000</td>\n",
       "      <td>0.000000</td>\n",
       "      <td>3.263158</td>\n",
       "      <td>771.578947</td>\n",
       "      <td>50.526316</td>\n",
       "      <td>1947.289474</td>\n",
       "      <td>994.684211</td>\n",
       "    </tr>\n",
       "    <tr>\n",
       "      <th>2.0</th>\n",
       "      <td>1.401943</td>\n",
       "      <td>1247.268551</td>\n",
       "      <td>12137.515901</td>\n",
       "      <td>1.303004</td>\n",
       "      <td>0.012367</td>\n",
       "      <td>0.197880</td>\n",
       "      <td>3.434629</td>\n",
       "      <td>1118.971731</td>\n",
       "      <td>128.296820</td>\n",
       "      <td>1954.842756</td>\n",
       "      <td>1014.929329</td>\n",
       "    </tr>\n",
       "    <tr>\n",
       "      <th>3.0</th>\n",
       "      <td>1.996924</td>\n",
       "      <td>1829.022638</td>\n",
       "      <td>13249.980315</td>\n",
       "      <td>1.472195</td>\n",
       "      <td>0.006890</td>\n",
       "      <td>0.187008</td>\n",
       "      <td>3.465551</td>\n",
       "      <td>1595.616634</td>\n",
       "      <td>233.406004</td>\n",
       "      <td>1971.444390</td>\n",
       "      <td>804.400098</td>\n",
       "    </tr>\n",
       "    <tr>\n",
       "      <th>4.0</th>\n",
       "      <td>2.472894</td>\n",
       "      <td>2608.437622</td>\n",
       "      <td>16609.540823</td>\n",
       "      <td>1.627694</td>\n",
       "      <td>0.003919</td>\n",
       "      <td>0.254082</td>\n",
       "      <td>3.416721</td>\n",
       "      <td>2237.169170</td>\n",
       "      <td>371.268452</td>\n",
       "      <td>1976.591117</td>\n",
       "      <td>739.542129</td>\n",
       "    </tr>\n",
       "    <tr>\n",
       "      <th>5.0</th>\n",
       "      <td>2.859065</td>\n",
       "      <td>3140.390935</td>\n",
       "      <td>18985.892351</td>\n",
       "      <td>1.576487</td>\n",
       "      <td>0.014164</td>\n",
       "      <td>0.439093</td>\n",
       "      <td>3.541076</td>\n",
       "      <td>2437.654391</td>\n",
       "      <td>702.736544</td>\n",
       "      <td>1972.586402</td>\n",
       "      <td>750.175637</td>\n",
       "    </tr>\n",
       "    <tr>\n",
       "      <th>6.0</th>\n",
       "      <td>2.979508</td>\n",
       "      <td>3321.606557</td>\n",
       "      <td>24394.918033</td>\n",
       "      <td>1.631148</td>\n",
       "      <td>0.016393</td>\n",
       "      <td>0.901639</td>\n",
       "      <td>3.655738</td>\n",
       "      <td>2488.327869</td>\n",
       "      <td>833.278689</td>\n",
       "      <td>1956.885246</td>\n",
       "      <td>847.737705</td>\n",
       "    </tr>\n",
       "    <tr>\n",
       "      <th>7.0</th>\n",
       "      <td>4.285714</td>\n",
       "      <td>4542.857143</td>\n",
       "      <td>35525.071429</td>\n",
       "      <td>1.714286</td>\n",
       "      <td>0.000000</td>\n",
       "      <td>0.785714</td>\n",
       "      <td>3.357143</td>\n",
       "      <td>3439.285714</td>\n",
       "      <td>1103.571429</td>\n",
       "      <td>1964.000000</td>\n",
       "      <td>1144.357143</td>\n",
       "    </tr>\n",
       "    <tr>\n",
       "      <th>8.0</th>\n",
       "      <td>3.125000</td>\n",
       "      <td>3615.000000</td>\n",
       "      <td>6587.500000</td>\n",
       "      <td>1.500000</td>\n",
       "      <td>0.000000</td>\n",
       "      <td>1.500000</td>\n",
       "      <td>4.000000</td>\n",
       "      <td>2305.000000</td>\n",
       "      <td>1310.000000</td>\n",
       "      <td>1968.000000</td>\n",
       "      <td>1002.000000</td>\n",
       "    </tr>\n",
       "    <tr>\n",
       "      <th>9.0</th>\n",
       "      <td>4.500000</td>\n",
       "      <td>3830.000000</td>\n",
       "      <td>6988.000000</td>\n",
       "      <td>2.500000</td>\n",
       "      <td>0.000000</td>\n",
       "      <td>0.000000</td>\n",
       "      <td>3.000000</td>\n",
       "      <td>2450.000000</td>\n",
       "      <td>1380.000000</td>\n",
       "      <td>1938.000000</td>\n",
       "      <td>2003.000000</td>\n",
       "    </tr>\n",
       "  </tbody>\n",
       "</table>\n",
       "</div>"
      ],
      "text/plain": [
       "          bathrooms  sqft_living      sqft_lot    floors  waterfront  \\\n",
       "bedrooms                                                               \n",
       "0.0        0.000000  3937.000000  16386.000000  2.750000    0.000000   \n",
       "1.0        1.072368   822.105263   9425.710526  1.144737    0.000000   \n",
       "2.0        1.401943  1247.268551  12137.515901  1.303004    0.012367   \n",
       "3.0        1.996924  1829.022638  13249.980315  1.472195    0.006890   \n",
       "4.0        2.472894  2608.437622  16609.540823  1.627694    0.003919   \n",
       "5.0        2.859065  3140.390935  18985.892351  1.576487    0.014164   \n",
       "6.0        2.979508  3321.606557  24394.918033  1.631148    0.016393   \n",
       "7.0        4.285714  4542.857143  35525.071429  1.714286    0.000000   \n",
       "8.0        3.125000  3615.000000   6587.500000  1.500000    0.000000   \n",
       "9.0        4.500000  3830.000000   6988.000000  2.500000    0.000000   \n",
       "\n",
       "              view  condition   sqft_above  sqft_basement     yr_built  \\\n",
       "bedrooms                                                                 \n",
       "0.0       1.000000   3.000000  3937.000000       0.000000  1990.000000   \n",
       "1.0       0.000000   3.263158   771.578947      50.526316  1947.289474   \n",
       "2.0       0.197880   3.434629  1118.971731     128.296820  1954.842756   \n",
       "3.0       0.187008   3.465551  1595.616634     233.406004  1971.444390   \n",
       "4.0       0.254082   3.416721  2237.169170     371.268452  1976.591117   \n",
       "5.0       0.439093   3.541076  2437.654391     702.736544  1972.586402   \n",
       "6.0       0.901639   3.655738  2488.327869     833.278689  1956.885246   \n",
       "7.0       0.785714   3.357143  3439.285714    1103.571429  1964.000000   \n",
       "8.0       1.500000   4.000000  2305.000000    1310.000000  1968.000000   \n",
       "9.0       0.000000   3.000000  2450.000000    1380.000000  1938.000000   \n",
       "\n",
       "          yr_renovated  \n",
       "bedrooms                \n",
       "0.0        2009.000000  \n",
       "1.0         994.684211  \n",
       "2.0        1014.929329  \n",
       "3.0         804.400098  \n",
       "4.0         739.542129  \n",
       "5.0         750.175637  \n",
       "6.0         847.737705  \n",
       "7.0        1144.357143  \n",
       "8.0        1002.000000  \n",
       "9.0        2003.000000  "
      ]
     },
     "execution_count": 20,
     "metadata": {},
     "output_type": "execute_result"
    }
   ],
   "source": [
    "data_prc.groupby('bedrooms')[['bathrooms', 'sqft_living',\n",
    "       'sqft_lot', 'floors', 'waterfront', 'view', 'condition',\n",
    "       'sqft_above', 'sqft_basement', 'yr_built', 'yr_renovated']].mean()"
   ]
  },
  {
   "cell_type": "code",
   "execution_count": 21,
   "id": "250d729d",
   "metadata": {
    "execution": {
     "iopub.execute_input": "2022-03-25T15:23:49.739846Z",
     "iopub.status.busy": "2022-03-25T15:23:49.739118Z",
     "iopub.status.idle": "2022-03-25T15:23:49.747064Z",
     "shell.execute_reply": "2022-03-25T15:23:49.747558Z",
     "shell.execute_reply.started": "2022-03-24T13:52:25.9248Z"
    },
    "papermill": {
     "duration": 0.113118,
     "end_time": "2022-03-25T15:23:49.747764",
     "exception": false,
     "start_time": "2022-03-25T15:23:49.634646",
     "status": "completed"
    },
    "tags": []
   },
   "outputs": [
    {
     "data": {
      "text/plain": [
       "0"
      ]
     },
     "execution_count": 21,
     "metadata": {},
     "output_type": "execute_result"
    }
   ],
   "source": [
    "data_prc['bedrooms'] = data_prc['bedrooms'].replace(0, np.NaN)\n",
    "data_prc['bedrooms'] = data_prc['bedrooms'].fillna(data_prc.bedrooms.median())\n",
    "\n",
    "data_prc.bedrooms[data_prc.bedrooms==0].count()"
   ]
  },
  {
   "cell_type": "code",
   "execution_count": 22,
   "id": "b1a9b93e",
   "metadata": {
    "execution": {
     "iopub.execute_input": "2022-03-25T15:23:49.957975Z",
     "iopub.status.busy": "2022-03-25T15:23:49.957284Z",
     "iopub.status.idle": "2022-03-25T15:23:49.964377Z",
     "shell.execute_reply": "2022-03-25T15:23:49.965000Z",
     "shell.execute_reply.started": "2022-03-24T13:52:25.936133Z"
    },
    "papermill": {
     "duration": 0.114521,
     "end_time": "2022-03-25T15:23:49.965167",
     "exception": false,
     "start_time": "2022-03-25T15:23:49.850646",
     "status": "completed"
    },
    "tags": []
   },
   "outputs": [
    {
     "data": {
      "text/plain": [
       "0"
      ]
     },
     "execution_count": 22,
     "metadata": {},
     "output_type": "execute_result"
    }
   ],
   "source": [
    "data_prc['bathrooms'].replace(to_replace = 0, value = data_prc.bathrooms.median(), inplace= True)\n",
    "\n",
    "data_prc.bathrooms[data_prc.bathrooms==0].count()"
   ]
  },
  {
   "cell_type": "code",
   "execution_count": 23,
   "id": "df29c5c4",
   "metadata": {
    "execution": {
     "iopub.execute_input": "2022-03-25T15:23:50.171869Z",
     "iopub.status.busy": "2022-03-25T15:23:50.171236Z",
     "iopub.status.idle": "2022-03-25T15:23:50.193898Z",
     "shell.execute_reply": "2022-03-25T15:23:50.194424Z",
     "shell.execute_reply.started": "2022-03-24T13:52:25.952653Z"
    },
    "papermill": {
     "duration": 0.12775,
     "end_time": "2022-03-25T15:23:50.194603",
     "exception": false,
     "start_time": "2022-03-25T15:23:50.066853",
     "status": "completed"
    },
    "tags": []
   },
   "outputs": [
    {
     "data": {
      "text/html": [
       "<div>\n",
       "<style scoped>\n",
       "    .dataframe tbody tr th:only-of-type {\n",
       "        vertical-align: middle;\n",
       "    }\n",
       "\n",
       "    .dataframe tbody tr th {\n",
       "        vertical-align: top;\n",
       "    }\n",
       "\n",
       "    .dataframe thead th {\n",
       "        text-align: right;\n",
       "    }\n",
       "</style>\n",
       "<table border=\"1\" class=\"dataframe\">\n",
       "  <thead>\n",
       "    <tr style=\"text-align: right;\">\n",
       "      <th></th>\n",
       "      <th>bathrooms</th>\n",
       "      <th>sqft_living</th>\n",
       "      <th>sqft_lot</th>\n",
       "      <th>floors</th>\n",
       "      <th>waterfront</th>\n",
       "      <th>view</th>\n",
       "      <th>condition</th>\n",
       "      <th>sqft_above</th>\n",
       "      <th>sqft_basement</th>\n",
       "      <th>yr_built</th>\n",
       "      <th>yr_renovated</th>\n",
       "    </tr>\n",
       "    <tr>\n",
       "      <th>bedrooms</th>\n",
       "      <th></th>\n",
       "      <th></th>\n",
       "      <th></th>\n",
       "      <th></th>\n",
       "      <th></th>\n",
       "      <th></th>\n",
       "      <th></th>\n",
       "      <th></th>\n",
       "      <th></th>\n",
       "      <th></th>\n",
       "      <th></th>\n",
       "    </tr>\n",
       "  </thead>\n",
       "  <tbody>\n",
       "    <tr>\n",
       "      <th>1.0</th>\n",
       "      <td>1.072368</td>\n",
       "      <td>822.105263</td>\n",
       "      <td>9425.710526</td>\n",
       "      <td>1.144737</td>\n",
       "      <td>0.000000</td>\n",
       "      <td>0.000000</td>\n",
       "      <td>3.263158</td>\n",
       "      <td>771.578947</td>\n",
       "      <td>50.526316</td>\n",
       "      <td>1947.289474</td>\n",
       "      <td>994.684211</td>\n",
       "    </tr>\n",
       "    <tr>\n",
       "      <th>2.0</th>\n",
       "      <td>1.401943</td>\n",
       "      <td>1247.268551</td>\n",
       "      <td>12137.515901</td>\n",
       "      <td>1.303004</td>\n",
       "      <td>0.012367</td>\n",
       "      <td>0.197880</td>\n",
       "      <td>3.434629</td>\n",
       "      <td>1118.971731</td>\n",
       "      <td>128.296820</td>\n",
       "      <td>1954.842756</td>\n",
       "      <td>1014.929329</td>\n",
       "    </tr>\n",
       "    <tr>\n",
       "      <th>3.0</th>\n",
       "      <td>1.997173</td>\n",
       "      <td>1831.095379</td>\n",
       "      <td>13253.063913</td>\n",
       "      <td>1.473451</td>\n",
       "      <td>0.006883</td>\n",
       "      <td>0.187807</td>\n",
       "      <td>3.465093</td>\n",
       "      <td>1597.918879</td>\n",
       "      <td>233.176500</td>\n",
       "      <td>1971.462635</td>\n",
       "      <td>805.584562</td>\n",
       "    </tr>\n",
       "    <tr>\n",
       "      <th>4.0</th>\n",
       "      <td>2.472894</td>\n",
       "      <td>2608.437622</td>\n",
       "      <td>16609.540823</td>\n",
       "      <td>1.627694</td>\n",
       "      <td>0.003919</td>\n",
       "      <td>0.254082</td>\n",
       "      <td>3.416721</td>\n",
       "      <td>2237.169170</td>\n",
       "      <td>371.268452</td>\n",
       "      <td>1976.591117</td>\n",
       "      <td>739.542129</td>\n",
       "    </tr>\n",
       "    <tr>\n",
       "      <th>5.0</th>\n",
       "      <td>2.859065</td>\n",
       "      <td>3140.390935</td>\n",
       "      <td>18985.892351</td>\n",
       "      <td>1.576487</td>\n",
       "      <td>0.014164</td>\n",
       "      <td>0.439093</td>\n",
       "      <td>3.541076</td>\n",
       "      <td>2437.654391</td>\n",
       "      <td>702.736544</td>\n",
       "      <td>1972.586402</td>\n",
       "      <td>750.175637</td>\n",
       "    </tr>\n",
       "    <tr>\n",
       "      <th>6.0</th>\n",
       "      <td>2.979508</td>\n",
       "      <td>3321.606557</td>\n",
       "      <td>24394.918033</td>\n",
       "      <td>1.631148</td>\n",
       "      <td>0.016393</td>\n",
       "      <td>0.901639</td>\n",
       "      <td>3.655738</td>\n",
       "      <td>2488.327869</td>\n",
       "      <td>833.278689</td>\n",
       "      <td>1956.885246</td>\n",
       "      <td>847.737705</td>\n",
       "    </tr>\n",
       "    <tr>\n",
       "      <th>7.0</th>\n",
       "      <td>4.285714</td>\n",
       "      <td>4542.857143</td>\n",
       "      <td>35525.071429</td>\n",
       "      <td>1.714286</td>\n",
       "      <td>0.000000</td>\n",
       "      <td>0.785714</td>\n",
       "      <td>3.357143</td>\n",
       "      <td>3439.285714</td>\n",
       "      <td>1103.571429</td>\n",
       "      <td>1964.000000</td>\n",
       "      <td>1144.357143</td>\n",
       "    </tr>\n",
       "    <tr>\n",
       "      <th>8.0</th>\n",
       "      <td>3.125000</td>\n",
       "      <td>3615.000000</td>\n",
       "      <td>6587.500000</td>\n",
       "      <td>1.500000</td>\n",
       "      <td>0.000000</td>\n",
       "      <td>1.500000</td>\n",
       "      <td>4.000000</td>\n",
       "      <td>2305.000000</td>\n",
       "      <td>1310.000000</td>\n",
       "      <td>1968.000000</td>\n",
       "      <td>1002.000000</td>\n",
       "    </tr>\n",
       "    <tr>\n",
       "      <th>9.0</th>\n",
       "      <td>4.500000</td>\n",
       "      <td>3830.000000</td>\n",
       "      <td>6988.000000</td>\n",
       "      <td>2.500000</td>\n",
       "      <td>0.000000</td>\n",
       "      <td>0.000000</td>\n",
       "      <td>3.000000</td>\n",
       "      <td>2450.000000</td>\n",
       "      <td>1380.000000</td>\n",
       "      <td>1938.000000</td>\n",
       "      <td>2003.000000</td>\n",
       "    </tr>\n",
       "  </tbody>\n",
       "</table>\n",
       "</div>"
      ],
      "text/plain": [
       "          bathrooms  sqft_living      sqft_lot    floors  waterfront  \\\n",
       "bedrooms                                                               \n",
       "1.0        1.072368   822.105263   9425.710526  1.144737    0.000000   \n",
       "2.0        1.401943  1247.268551  12137.515901  1.303004    0.012367   \n",
       "3.0        1.997173  1831.095379  13253.063913  1.473451    0.006883   \n",
       "4.0        2.472894  2608.437622  16609.540823  1.627694    0.003919   \n",
       "5.0        2.859065  3140.390935  18985.892351  1.576487    0.014164   \n",
       "6.0        2.979508  3321.606557  24394.918033  1.631148    0.016393   \n",
       "7.0        4.285714  4542.857143  35525.071429  1.714286    0.000000   \n",
       "8.0        3.125000  3615.000000   6587.500000  1.500000    0.000000   \n",
       "9.0        4.500000  3830.000000   6988.000000  2.500000    0.000000   \n",
       "\n",
       "              view  condition   sqft_above  sqft_basement     yr_built  \\\n",
       "bedrooms                                                                 \n",
       "1.0       0.000000   3.263158   771.578947      50.526316  1947.289474   \n",
       "2.0       0.197880   3.434629  1118.971731     128.296820  1954.842756   \n",
       "3.0       0.187807   3.465093  1597.918879     233.176500  1971.462635   \n",
       "4.0       0.254082   3.416721  2237.169170     371.268452  1976.591117   \n",
       "5.0       0.439093   3.541076  2437.654391     702.736544  1972.586402   \n",
       "6.0       0.901639   3.655738  2488.327869     833.278689  1956.885246   \n",
       "7.0       0.785714   3.357143  3439.285714    1103.571429  1964.000000   \n",
       "8.0       1.500000   4.000000  2305.000000    1310.000000  1968.000000   \n",
       "9.0       0.000000   3.000000  2450.000000    1380.000000  1938.000000   \n",
       "\n",
       "          yr_renovated  \n",
       "bedrooms                \n",
       "1.0         994.684211  \n",
       "2.0        1014.929329  \n",
       "3.0         805.584562  \n",
       "4.0         739.542129  \n",
       "5.0         750.175637  \n",
       "6.0         847.737705  \n",
       "7.0        1144.357143  \n",
       "8.0        1002.000000  \n",
       "9.0        2003.000000  "
      ]
     },
     "execution_count": 23,
     "metadata": {},
     "output_type": "execute_result"
    }
   ],
   "source": [
    "data_prc.groupby('bedrooms')[['bathrooms', 'sqft_living',\n",
    "       'sqft_lot', 'floors', 'waterfront', 'view', 'condition',\n",
    "       'sqft_above', 'sqft_basement', 'yr_built', 'yr_renovated']].mean()"
   ]
  },
  {
   "cell_type": "markdown",
   "id": "a55c4a65",
   "metadata": {
    "papermill": {
     "duration": 0.102537,
     "end_time": "2022-03-25T15:23:50.399930",
     "exception": false,
     "start_time": "2022-03-25T15:23:50.297393",
     "status": "completed"
    },
    "tags": []
   },
   "source": [
    "# Dealing with outliers\n",
    "\n",
    "One of the most important parts of data preprocessing is detecting and treating the outliers as they affect our analysis and training process in a bad way.\n",
    "\n",
    "Simply, an outlier is an observation that lies far from the rest of the observations in a given dataset and they cause a skew. We can use some techniques such as boxplots, Z-score or Inter Quantile Range(IQR) to detect outliers. \n",
    "\n",
    "After determining these values, the next step is to decide what to do with these values. We can remove these values, use either method quarter-based flooring and covering, or mean/median imputation."
   ]
  },
  {
   "cell_type": "code",
   "execution_count": 24,
   "id": "f6007754",
   "metadata": {
    "execution": {
     "iopub.execute_input": "2022-03-25T15:23:50.609011Z",
     "iopub.status.busy": "2022-03-25T15:23:50.608396Z",
     "iopub.status.idle": "2022-03-25T15:23:50.975246Z",
     "shell.execute_reply": "2022-03-25T15:23:50.974552Z",
     "shell.execute_reply.started": "2022-03-24T13:52:25.986Z"
    },
    "papermill": {
     "duration": 0.472738,
     "end_time": "2022-03-25T15:23:50.975390",
     "exception": false,
     "start_time": "2022-03-25T15:23:50.502652",
     "status": "completed"
    },
    "tags": []
   },
   "outputs": [
    {
     "data": {
      "text/plain": [
       "<seaborn.axisgrid.FacetGrid at 0x7fc743d05b90>"
      ]
     },
     "execution_count": 24,
     "metadata": {},
     "output_type": "execute_result"
    },
    {
     "data": {
      "image/png": "[encoded data removed]",
      "text/plain": [
       "<Figure size 648x216 with 1 Axes>"
      ]
     },
     "metadata": {},
     "output_type": "display_data"
    }
   ],
   "source": [
    "# A great step in the data exploration is to display the boxplot to see outliers\n",
    "\n",
    "sns.catplot(x='price', data=data_prc, kind='box', height=3, aspect=3)"
   ]
  },
  {
   "cell_type": "code",
   "execution_count": 25,
   "id": "24188bb7",
   "metadata": {
    "execution": {
     "iopub.execute_input": "2022-03-25T15:23:51.221985Z",
     "iopub.status.busy": "2022-03-25T15:23:51.220953Z",
     "iopub.status.idle": "2022-03-25T15:23:51.601340Z",
     "shell.execute_reply": "2022-03-25T15:23:51.601860Z",
     "shell.execute_reply.started": "2022-03-24T13:52:26.401643Z"
    },
    "papermill": {
     "duration": 0.505078,
     "end_time": "2022-03-25T15:23:51.602030",
     "exception": false,
     "start_time": "2022-03-25T15:23:51.096952",
     "status": "completed"
    },
    "tags": []
   },
   "outputs": [
    {
     "data": {
      "text/plain": [
       "<AxesSubplot:xlabel='price', ylabel='Density'>"
      ]
     },
     "execution_count": 25,
     "metadata": {},
     "output_type": "execute_result"
    },
    {
     "data": {
      "image/png": "[encoded data removed]",
      "text/plain": [
       "<Figure size 432x288 with 1 Axes>"
      ]
     },
     "metadata": {},
     "output_type": "display_data"
    }
   ],
   "source": [
    "# Also we can print the probability distribution function (PDF) of a variable\n",
    "# The PDF will show us how that variable is distributed \n",
    "# This makes it very easy to spot anomalies, icluded outliers\n",
    "# The PDF is often the basis on which we decide whether we want to transform a feature\n",
    "\n",
    "sns.distplot(data_prc.price, color='darkmagenta')"
   ]
  },
  {
   "cell_type": "code",
   "execution_count": 26,
   "id": "7a4ac048",
   "metadata": {
    "execution": {
     "iopub.execute_input": "2022-03-25T15:23:51.816276Z",
     "iopub.status.busy": "2022-03-25T15:23:51.815280Z",
     "iopub.status.idle": "2022-03-25T15:23:51.822303Z",
     "shell.execute_reply": "2022-03-25T15:23:51.822947Z",
     "shell.execute_reply.started": "2022-03-24T13:52:26.827785Z"
    },
    "papermill": {
     "duration": 0.116053,
     "end_time": "2022-03-25T15:23:51.823116",
     "exception": false,
     "start_time": "2022-03-25T15:23:51.707063",
     "status": "completed"
    },
    "tags": []
   },
   "outputs": [],
   "source": [
    "# I will use the IQR measurement for removing outliers.\n",
    "\n",
    "Q75 = np.percentile(data_prc['price'],75)\n",
    "Q25 = np.percentile(data_prc['price'],25)\n",
    "IQR = Q75-Q25\n",
    "cutoff = IQR * 1.5\n",
    "upper = Q75 + cutoff\n",
    "lower = 1\n",
    "\n",
    "data1 = data_prc[(data_prc['price']<upper)]\n",
    "\n"
   ]
  },
  {
   "cell_type": "code",
   "execution_count": 27,
   "id": "bc6e6502",
   "metadata": {
    "execution": {
     "iopub.execute_input": "2022-03-25T15:23:52.036978Z",
     "iopub.status.busy": "2022-03-25T15:23:52.036065Z",
     "iopub.status.idle": "2022-03-25T15:23:52.405109Z",
     "shell.execute_reply": "2022-03-25T15:23:52.404522Z",
     "shell.execute_reply.started": "2022-03-24T13:52:26.838369Z"
    },
    "papermill": {
     "duration": 0.477145,
     "end_time": "2022-03-25T15:23:52.405254",
     "exception": false,
     "start_time": "2022-03-25T15:23:51.928109",
     "status": "completed"
    },
    "tags": []
   },
   "outputs": [
    {
     "name": "stdout",
     "output_type": "stream",
     "text": [
      "25.070457468172982 , 0.7257728771054042\n"
     ]
    },
    {
     "data": {
      "image/png": "[encoded data removed]",
      "text/plain": [
       "<Figure size 432x288 with 1 Axes>"
      ]
     },
     "metadata": {},
     "output_type": "display_data"
    }
   ],
   "source": [
    "# What a change!\n",
    "\n",
    "sns.distplot(data1.price, color='darkmagenta') \n",
    "\n",
    "print(data_prc['price'].skew(),',', data1['price'].skew())"
   ]
  },
  {
   "cell_type": "code",
   "execution_count": 28,
   "id": "8781e7ff",
   "metadata": {
    "execution": {
     "iopub.execute_input": "2022-03-25T15:23:52.622029Z",
     "iopub.status.busy": "2022-03-25T15:23:52.621071Z",
     "iopub.status.idle": "2022-03-25T15:23:52.626280Z",
     "shell.execute_reply": "2022-03-25T15:23:52.626787Z",
     "shell.execute_reply.started": "2022-03-24T13:52:27.246422Z"
    },
    "papermill": {
     "duration": 0.115184,
     "end_time": "2022-03-25T15:23:52.626945",
     "exception": false,
     "start_time": "2022-03-25T15:23:52.511761",
     "status": "completed"
    },
    "tags": []
   },
   "outputs": [
    {
     "data": {
      "text/plain": [
       "array(['date', 'price', 'bedrooms', 'bathrooms', 'sqft_living',\n",
       "       'sqft_lot', 'floors', 'waterfront', 'view', 'condition',\n",
       "       'sqft_above', 'sqft_basement', 'yr_built', 'yr_renovated',\n",
       "       'street', 'city', 'statezip', 'country'], dtype=object)"
      ]
     },
     "execution_count": 28,
     "metadata": {},
     "output_type": "execute_result"
    }
   ],
   "source": [
    "data1.columns.values"
   ]
  },
  {
   "cell_type": "code",
   "execution_count": 29,
   "id": "0b7fa0be",
   "metadata": {
    "execution": {
     "iopub.execute_input": "2022-03-25T15:23:52.845561Z",
     "iopub.status.busy": "2022-03-25T15:23:52.844446Z",
     "iopub.status.idle": "2022-03-25T15:23:56.717003Z",
     "shell.execute_reply": "2022-03-25T15:23:56.717523Z",
     "shell.execute_reply.started": "2022-03-24T13:52:27.256697Z"
    },
    "papermill": {
     "duration": 3.984376,
     "end_time": "2022-03-25T15:23:56.717714",
     "exception": false,
     "start_time": "2022-03-25T15:23:52.733338",
     "status": "completed"
    },
    "tags": []
   },
   "outputs": [
    {
     "data": {
      "image/png": "[encoded data removed]",
      "text/plain": [
       "<Figure size 2160x1080 with 12 Axes>"
      ]
     },
     "metadata": {},
     "output_type": "display_data"
    }
   ],
   "source": [
    "# Let's look other variables.\n",
    "\n",
    "cols = ['bedrooms', 'bathrooms', 'sqft_living',\n",
    "       'sqft_lot', 'floors', 'waterfront', 'view', 'condition',\n",
    "       'sqft_above', 'sqft_basement', 'yr_built', 'yr_renovated']\n",
    "\n",
    "fig, ax = plt.subplots(4,3, figsize = (30,15))\n",
    "\n",
    "for idx, col in enumerate(cols):\n",
    "    rn = math.floor(idx/3)\n",
    "    cn = idx%3\n",
    "    sns.distplot(ax=ax[rn,cn], x=data1[col], color='darkmagenta')\n",
    "    ax[rn,cn].set_title(col, size=20)"
   ]
  },
  {
   "cell_type": "code",
   "execution_count": 30,
   "id": "91036329",
   "metadata": {
    "execution": {
     "iopub.execute_input": "2022-03-25T15:23:56.949369Z",
     "iopub.status.busy": "2022-03-25T15:23:56.948354Z",
     "iopub.status.idle": "2022-03-25T15:23:57.429153Z",
     "shell.execute_reply": "2022-03-25T15:23:57.429643Z",
     "shell.execute_reply.started": "2022-03-24T13:52:31.297708Z"
    },
    "papermill": {
     "duration": 0.598305,
     "end_time": "2022-03-25T15:23:57.429815",
     "exception": false,
     "start_time": "2022-03-25T15:23:56.831510",
     "status": "completed"
    },
    "tags": []
   },
   "outputs": [
    {
     "name": "stdout",
     "output_type": "stream",
     "text": [
      "1.0      38\n",
      "2.0     562\n",
      "3.0    1990\n",
      "4.0    1414\n",
      "5.0     297\n",
      "6.0      49\n",
      "7.0      10\n",
      "8.0       1\n",
      "9.0       1\n",
      "Name: bedrooms, dtype: int64\n"
     ]
    },
    {
     "data": {
      "text/plain": [
       "<seaborn.axisgrid.FacetGrid at 0x7fc7401adad0>"
      ]
     },
     "execution_count": 30,
     "metadata": {},
     "output_type": "execute_result"
    },
    {
     "data": {
      "image/png": "[encoded data removed]",
      "text/plain": [
       "<Figure size 648x216 with 1 Axes>"
      ]
     },
     "metadata": {},
     "output_type": "display_data"
    }
   ],
   "source": [
    "# bedrooms:\n",
    "print(data1.bedrooms.value_counts().sort_index())\n",
    "sns.catplot(x='bedrooms', y='price', data=data1, height=3, aspect=3)"
   ]
  },
  {
   "cell_type": "code",
   "execution_count": 31,
   "id": "c42199d7",
   "metadata": {
    "execution": {
     "iopub.execute_input": "2022-03-25T15:23:57.665657Z",
     "iopub.status.busy": "2022-03-25T15:23:57.664939Z",
     "iopub.status.idle": "2022-03-25T15:23:57.668059Z",
     "shell.execute_reply": "2022-03-25T15:23:57.667529Z",
     "shell.execute_reply.started": "2022-03-24T13:52:31.81433Z"
    },
    "papermill": {
     "duration": 0.123036,
     "end_time": "2022-03-25T15:23:57.668195",
     "exception": false,
     "start_time": "2022-03-25T15:23:57.545159",
     "status": "completed"
    },
    "tags": []
   },
   "outputs": [],
   "source": [
    "# The number of houses with 7,8 and 9 bedrooms seems very low. \n",
    "# I will subtract these values\n",
    "\n",
    "data2 = data1[data1.bedrooms<7]"
   ]
  },
  {
   "cell_type": "code",
   "execution_count": 32,
   "id": "0da83220",
   "metadata": {
    "execution": {
     "iopub.execute_input": "2022-03-25T15:23:57.907659Z",
     "iopub.status.busy": "2022-03-25T15:23:57.906848Z",
     "iopub.status.idle": "2022-03-25T15:23:57.909947Z",
     "shell.execute_reply": "2022-03-25T15:23:57.910425Z",
     "shell.execute_reply.started": "2022-03-24T13:52:31.822134Z"
    },
    "papermill": {
     "duration": 0.126742,
     "end_time": "2022-03-25T15:23:57.910607",
     "exception": false,
     "start_time": "2022-03-25T15:23:57.783865",
     "status": "completed"
    },
    "tags": []
   },
   "outputs": [
    {
     "data": {
      "text/plain": [
       "0.75      17\n",
       "1.00     742\n",
       "1.25       3\n",
       "1.50     288\n",
       "1.75     620\n",
       "2.00     422\n",
       "2.25     404\n",
       "2.50    1148\n",
       "2.75     261\n",
       "3.00     147\n",
       "3.25     103\n",
       "3.50     120\n",
       "3.75      28\n",
       "4.00      15\n",
       "4.25      11\n",
       "4.50      12\n",
       "4.75       2\n",
       "5.00       4\n",
       "5.25       1\n",
       "5.50       1\n",
       "6.25       1\n",
       "Name: bathrooms, dtype: int64"
      ]
     },
     "execution_count": 32,
     "metadata": {},
     "output_type": "execute_result"
    }
   ],
   "source": [
    "# I could not understand the meaning of 0.75 or 1.25 bathroom houses. \n",
    "# I'll first convert their types to integers.\n",
    "\n",
    "data2.bathrooms.value_counts().sort_index()"
   ]
  },
  {
   "cell_type": "code",
   "execution_count": 33,
   "id": "e00cbc2a",
   "metadata": {
    "execution": {
     "iopub.execute_input": "2022-03-25T15:23:58.148172Z",
     "iopub.status.busy": "2022-03-25T15:23:58.147547Z",
     "iopub.status.idle": "2022-03-25T15:23:58.577794Z",
     "shell.execute_reply": "2022-03-25T15:23:58.577257Z",
     "shell.execute_reply.started": "2022-03-24T13:52:31.840789Z"
    },
    "papermill": {
     "duration": 0.547261,
     "end_time": "2022-03-25T15:23:58.577924",
     "exception": false,
     "start_time": "2022-03-25T15:23:58.030663",
     "status": "completed"
    },
    "tags": []
   },
   "outputs": [
    {
     "name": "stdout",
     "output_type": "stream",
     "text": [
      "0      17\n",
      "1    1653\n",
      "2    2235\n",
      "3     398\n",
      "4      40\n",
      "5       6\n",
      "6       1\n",
      "Name: bathrooms, dtype: int64\n"
     ]
    },
    {
     "data": {
      "text/plain": [
       "<seaborn.axisgrid.FacetGrid at 0x7fc74016acd0>"
      ]
     },
     "execution_count": 33,
     "metadata": {},
     "output_type": "execute_result"
    },
    {
     "data": {
      "image/png": "[encoded data removed]",
      "text/plain": [
       "<Figure size 648x216 with 1 Axes>"
      ]
     },
     "metadata": {},
     "output_type": "display_data"
    }
   ],
   "source": [
    "data2.bathrooms = data2.bathrooms.astype(int)\n",
    "print(data2.bathrooms.value_counts().sort_index())\n",
    "\n",
    "sns.catplot(x='bathrooms', y='price', data=data2, height=3, aspect=3)"
   ]
  },
  {
   "cell_type": "code",
   "execution_count": 34,
   "id": "73cac7a9",
   "metadata": {
    "execution": {
     "iopub.execute_input": "2022-03-25T15:23:58.815709Z",
     "iopub.status.busy": "2022-03-25T15:23:58.815073Z",
     "iopub.status.idle": "2022-03-25T15:23:58.820249Z",
     "shell.execute_reply": "2022-03-25T15:23:58.819750Z",
     "shell.execute_reply.started": "2022-03-24T13:52:32.304366Z"
    },
    "papermill": {
     "duration": 0.125561,
     "end_time": "2022-03-25T15:23:58.820386",
     "exception": false,
     "start_time": "2022-03-25T15:23:58.694825",
     "status": "completed"
    },
    "tags": []
   },
   "outputs": [],
   "source": [
    "data3 = data2[data2.bathrooms<4]"
   ]
  },
  {
   "cell_type": "code",
   "execution_count": 35,
   "id": "fa672bc9",
   "metadata": {
    "execution": {
     "iopub.execute_input": "2022-03-25T15:23:59.062594Z",
     "iopub.status.busy": "2022-03-25T15:23:59.061798Z",
     "iopub.status.idle": "2022-03-25T15:23:59.066737Z",
     "shell.execute_reply": "2022-03-25T15:23:59.067312Z",
     "shell.execute_reply.started": "2022-03-24T13:52:32.312676Z"
    },
    "papermill": {
     "duration": 0.129511,
     "end_time": "2022-03-25T15:23:59.067465",
     "exception": false,
     "start_time": "2022-03-25T15:23:58.937954",
     "status": "completed"
    },
    "tags": []
   },
   "outputs": [
    {
     "name": "stdout",
     "output_type": "stream",
     "text": [
      "0.7556982006741865 , 0.5233236461468229\n"
     ]
    }
   ],
   "source": [
    "q = data3.sqft_living.quantile(0.99)\n",
    "data4 = data3[data3.sqft_living<q]\n",
    "print(data3.sqft_living.skew(),',', data4.sqft_living.skew())"
   ]
  },
  {
   "cell_type": "code",
   "execution_count": 36,
   "id": "92ebf0b6",
   "metadata": {
    "execution": {
     "iopub.execute_input": "2022-03-25T15:23:59.306002Z",
     "iopub.status.busy": "2022-03-25T15:23:59.305381Z",
     "iopub.status.idle": "2022-03-25T15:24:00.177142Z",
     "shell.execute_reply": "2022-03-25T15:24:00.176145Z",
     "shell.execute_reply.started": "2022-03-24T13:52:32.331048Z"
    },
    "papermill": {
     "duration": 0.992233,
     "end_time": "2022-03-25T15:24:00.177366",
     "exception": false,
     "start_time": "2022-03-25T15:23:59.185133",
     "status": "completed"
    },
    "tags": []
   },
   "outputs": [
    {
     "data": {
      "text/plain": [
       "(-100000.0, 1300000.0)"
      ]
     },
     "execution_count": 36,
     "metadata": {},
     "output_type": "execute_result"
    },
    {
     "data": {
      "image/png": "[encoded data removed]",
      "text/plain": [
       "<Figure size 720x216 with 2 Axes>"
      ]
     },
     "metadata": {},
     "output_type": "display_data"
    }
   ],
   "source": [
    "# There is still some skew\n",
    "# But when we look at the price versus scatter plot, it looks much better now.\n",
    "\n",
    "fig, (ax1, ax2) = plt.subplots(1,2, figsize = (10,3))\n",
    "\n",
    "ax1.scatter(x= 'sqft_living', y= 'price', data = data3, c= 'sqft_living', cmap='inferno')\n",
    "ax1.set_title('With Outliers')\n",
    "ax1.set_xlim(0,7000)\n",
    "ax1.set_ylim(-0.1e6,1.3e6)\n",
    "ax2.scatter(x= 'sqft_living', y= 'price', data = data4, c= 'sqft_living', cmap='inferno')\n",
    "ax2.set_title('Without Outliers')\n",
    "ax2.set_xlim(0,7000)\n",
    "ax2.set_ylim(-0.1e6,1.3e6)"
   ]
  },
  {
   "cell_type": "code",
   "execution_count": 37,
   "id": "b35f5827",
   "metadata": {
    "execution": {
     "iopub.execute_input": "2022-03-25T15:24:00.437203Z",
     "iopub.status.busy": "2022-03-25T15:24:00.436534Z",
     "iopub.status.idle": "2022-03-25T15:24:00.439264Z",
     "shell.execute_reply": "2022-03-25T15:24:00.438666Z",
     "shell.execute_reply.started": "2022-03-24T13:52:33.153012Z"
    },
    "papermill": {
     "duration": 0.133416,
     "end_time": "2022-03-25T15:24:00.439400",
     "exception": false,
     "start_time": "2022-03-25T15:24:00.305984",
     "status": "completed"
    },
    "tags": []
   },
   "outputs": [],
   "source": [
    "q = data4.sqft_lot.quantile(0.99)\n",
    "data5 = data4[data4.sqft_lot<q]"
   ]
  },
  {
   "cell_type": "code",
   "execution_count": 38,
   "id": "0b7e01bb",
   "metadata": {
    "execution": {
     "iopub.execute_input": "2022-03-25T15:24:00.696632Z",
     "iopub.status.busy": "2022-03-25T15:24:00.695956Z",
     "iopub.status.idle": "2022-03-25T15:24:01.072935Z",
     "shell.execute_reply": "2022-03-25T15:24:01.072295Z",
     "shell.execute_reply.started": "2022-03-24T13:52:33.162516Z"
    },
    "papermill": {
     "duration": 0.509636,
     "end_time": "2022-03-25T15:24:01.073074",
     "exception": false,
     "start_time": "2022-03-25T15:24:00.563438",
     "status": "completed"
    },
    "tags": []
   },
   "outputs": [
    {
     "data": {
      "text/plain": [
       "Text(0.5, 1.0, 'Without Outliers')"
      ]
     },
     "execution_count": 38,
     "metadata": {},
     "output_type": "execute_result"
    },
    {
     "data": {
      "image/png": "[encoded data removed]",
      "text/plain": [
       "<Figure size 720x432 with 2 Axes>"
      ]
     },
     "metadata": {},
     "output_type": "display_data"
    }
   ],
   "source": [
    "# Let's compare the boxplots this time, there is a visible improvement.\n",
    "\n",
    "fig, ax = plt.subplots(1,2, figsize=(10,6))\n",
    "\n",
    "sns.boxplot(ax=ax[0], x=data4.sqft_lot, color = 'darkmagenta')\n",
    "ax[0].set_title('With Outliers')\n",
    "sns.boxplot(ax=ax[1], x=data5.sqft_lot, color = 'darkmagenta')\n",
    "ax[1].set_title('Without Outliers')"
   ]
  },
  {
   "cell_type": "code",
   "execution_count": 39,
   "id": "dca591b7",
   "metadata": {
    "execution": {
     "iopub.execute_input": "2022-03-25T15:24:01.323277Z",
     "iopub.status.busy": "2022-03-25T15:24:01.322611Z",
     "iopub.status.idle": "2022-03-25T15:24:01.329012Z",
     "shell.execute_reply": "2022-03-25T15:24:01.329596Z",
     "shell.execute_reply.started": "2022-03-24T13:52:33.524547Z"
    },
    "papermill": {
     "duration": 0.133835,
     "end_time": "2022-03-25T15:24:01.329760",
     "exception": false,
     "start_time": "2022-03-25T15:24:01.195925",
     "status": "completed"
    },
    "tags": []
   },
   "outputs": [
    {
     "data": {
      "text/plain": [
       "1.0    2097\n",
       "2.0    1566\n",
       "1.5     409\n",
       "3.0     119\n",
       "2.5      23\n",
       "3.5       2\n",
       "Name: floors, dtype: int64"
      ]
     },
     "execution_count": 39,
     "metadata": {},
     "output_type": "execute_result"
    }
   ],
   "source": [
    "data5.floors.value_counts()"
   ]
  },
  {
   "cell_type": "code",
   "execution_count": 40,
   "id": "9b04ede7",
   "metadata": {
    "execution": {
     "iopub.execute_input": "2022-03-25T15:24:01.579944Z",
     "iopub.status.busy": "2022-03-25T15:24:01.579335Z",
     "iopub.status.idle": "2022-03-25T15:24:01.941661Z",
     "shell.execute_reply": "2022-03-25T15:24:01.942176Z",
     "shell.execute_reply.started": "2022-03-24T13:52:33.535701Z"
    },
    "papermill": {
     "duration": 0.489451,
     "end_time": "2022-03-25T15:24:01.942365",
     "exception": false,
     "start_time": "2022-03-25T15:24:01.452914",
     "status": "completed"
    },
    "tags": []
   },
   "outputs": [
    {
     "name": "stdout",
     "output_type": "stream",
     "text": [
      "1    2506\n",
      "2    1589\n",
      "3     121\n",
      "Name: floors, dtype: int64\n"
     ]
    },
    {
     "data": {
      "text/plain": [
       "<seaborn.axisgrid.FacetGrid at 0x7fc733724210>"
      ]
     },
     "execution_count": 40,
     "metadata": {},
     "output_type": "execute_result"
    },
    {
     "data": {
      "image/png": "[encoded data removed]",
      "text/plain": [
       "<Figure size 648x216 with 1 Axes>"
      ]
     },
     "metadata": {},
     "output_type": "display_data"
    }
   ],
   "source": [
    "# Again, I will convert the data type to integer.\n",
    "\n",
    "data6 = data5.copy()\n",
    "data6.floors = data6.floors.astype(int)\n",
    "print(data6.floors.value_counts())\n",
    "\n",
    "sns.catplot(x='floors', y='price', data=data6, height=3, aspect=3)"
   ]
  },
  {
   "cell_type": "code",
   "execution_count": 41,
   "id": "cbcd7ad2",
   "metadata": {
    "execution": {
     "iopub.execute_input": "2022-03-25T15:24:02.221995Z",
     "iopub.status.busy": "2022-03-25T15:24:02.221325Z",
     "iopub.status.idle": "2022-03-25T15:24:02.227010Z",
     "shell.execute_reply": "2022-03-25T15:24:02.227471Z",
     "shell.execute_reply.started": "2022-03-24T13:52:33.844223Z"
    },
    "papermill": {
     "duration": 0.13393,
     "end_time": "2022-03-25T15:24:02.227652",
     "exception": false,
     "start_time": "2022-03-25T15:24:02.093722",
     "status": "completed"
    },
    "tags": []
   },
   "outputs": [
    {
     "data": {
      "text/plain": [
       "0    4200\n",
       "1      16\n",
       "Name: waterfront, dtype: int64"
      ]
     },
     "execution_count": 41,
     "metadata": {},
     "output_type": "execute_result"
    }
   ],
   "source": [
    "# As I said at the beginning, Waterfront is divided into two categories, I will keep it that way.\n",
    "\n",
    "data6.waterfront.value_counts()"
   ]
  },
  {
   "cell_type": "code",
   "execution_count": 42,
   "id": "91d294e4",
   "metadata": {
    "execution": {
     "iopub.execute_input": "2022-03-25T15:24:02.481499Z",
     "iopub.status.busy": "2022-03-25T15:24:02.480905Z",
     "iopub.status.idle": "2022-03-25T15:24:02.489735Z",
     "shell.execute_reply": "2022-03-25T15:24:02.490328Z",
     "shell.execute_reply.started": "2022-03-24T13:52:33.854765Z"
    },
    "papermill": {
     "duration": 0.137058,
     "end_time": "2022-03-25T15:24:02.490497",
     "exception": false,
     "start_time": "2022-03-25T15:24:02.353439",
     "status": "completed"
    },
    "tags": []
   },
   "outputs": [
    {
     "name": "stdout",
     "output_type": "stream",
     "text": [
      "0    3911\n",
      "2     154\n",
      "3      64\n",
      "1      54\n",
      "4      33\n",
      "Name: view, dtype: int64\n",
      "0    3911\n",
      "1     305\n",
      "Name: view, dtype: int64\n"
     ]
    }
   ],
   "source": [
    "# Since the number of house with a view is very few, it will be more useful for our analysis to see this feature as 0 and 1. \n",
    "\n",
    "print(data6.view.value_counts())\n",
    "\n",
    "data7=data6.copy()\n",
    "data7.view = data7.view.map({0:0, 1:1, 2:1, 3:1, 4:1})\n",
    "print(data7.view.value_counts())\n",
    "\n"
   ]
  },
  {
   "cell_type": "code",
   "execution_count": 43,
   "id": "b88533d1",
   "metadata": {
    "execution": {
     "iopub.execute_input": "2022-03-25T15:24:02.747064Z",
     "iopub.status.busy": "2022-03-25T15:24:02.746400Z",
     "iopub.status.idle": "2022-03-25T15:24:02.751765Z",
     "shell.execute_reply": "2022-03-25T15:24:02.751253Z",
     "shell.execute_reply.started": "2022-03-24T13:52:33.870819Z"
    },
    "papermill": {
     "duration": 0.135513,
     "end_time": "2022-03-25T15:24:02.751935",
     "exception": false,
     "start_time": "2022-03-25T15:24:02.616422",
     "status": "completed"
    },
    "tags": []
   },
   "outputs": [
    {
     "name": "stdout",
     "output_type": "stream",
     "text": [
      "3    2623\n",
      "4    1171\n",
      "5     386\n",
      "2      30\n",
      "1       6\n",
      "Name: condition, dtype: int64\n"
     ]
    }
   ],
   "source": [
    "# There doesn't seem to be many homes in bad shape in the US, I'll just remove 1's.\n",
    "\n",
    "print(data7.condition.value_counts())\n",
    "\n",
    "data7 = data7[data7['condition']>1]"
   ]
  },
  {
   "cell_type": "code",
   "execution_count": 44,
   "id": "f4890096",
   "metadata": {
    "execution": {
     "iopub.execute_input": "2022-03-25T15:24:03.024770Z",
     "iopub.status.busy": "2022-03-25T15:24:03.013871Z",
     "iopub.status.idle": "2022-03-25T15:24:03.247052Z",
     "shell.execute_reply": "2022-03-25T15:24:03.247492Z",
     "shell.execute_reply.started": "2022-03-24T13:52:33.87944Z"
    },
    "papermill": {
     "duration": 0.367547,
     "end_time": "2022-03-25T15:24:03.247677",
     "exception": false,
     "start_time": "2022-03-25T15:24:02.880130",
     "status": "completed"
    },
    "tags": []
   },
   "outputs": [
    {
     "data": {
      "text/plain": [
       "<AxesSubplot:xlabel='sqft_above'>"
      ]
     },
     "execution_count": 44,
     "metadata": {},
     "output_type": "execute_result"
    },
    {
     "data": {
      "image/png": "[encoded data removed]",
      "text/plain": [
       "<Figure size 432x288 with 1 Axes>"
      ]
     },
     "metadata": {},
     "output_type": "display_data"
    }
   ],
   "source": [
    "# I will keep sqft_above as is.\n",
    "\n",
    "data8 = data7.copy()\n",
    "sns.boxplot(data7.sqft_above, color= 'darkmagenta')"
   ]
  },
  {
   "cell_type": "code",
   "execution_count": 45,
   "id": "4d36d81e",
   "metadata": {
    "execution": {
     "iopub.execute_input": "2022-03-25T15:24:03.509089Z",
     "iopub.status.busy": "2022-03-25T15:24:03.508140Z",
     "iopub.status.idle": "2022-03-25T15:24:03.512752Z",
     "shell.execute_reply": "2022-03-25T15:24:03.513198Z",
     "shell.execute_reply.started": "2022-03-24T13:52:34.082351Z"
    },
    "papermill": {
     "duration": 0.138123,
     "end_time": "2022-03-25T15:24:03.513360",
     "exception": false,
     "start_time": "2022-03-25T15:24:03.375237",
     "status": "completed"
    },
    "tags": []
   },
   "outputs": [],
   "source": [
    "# I think removing 1% would be enough.\n",
    "\n",
    "q = data8.sqft_basement.quantile(0.99)\n",
    "data9 = data8[data8.sqft_basement<q]"
   ]
  },
  {
   "cell_type": "code",
   "execution_count": 46,
   "id": "dc284160",
   "metadata": {
    "execution": {
     "iopub.execute_input": "2022-03-25T15:24:03.803017Z",
     "iopub.status.busy": "2022-03-25T15:24:03.801409Z",
     "iopub.status.idle": "2022-03-25T15:24:04.534949Z",
     "shell.execute_reply": "2022-03-25T15:24:04.535421Z",
     "shell.execute_reply.started": "2022-03-24T13:52:34.095703Z"
    },
    "papermill": {
     "duration": 0.8945,
     "end_time": "2022-03-25T15:24:04.535597",
     "exception": false,
     "start_time": "2022-03-25T15:24:03.641097",
     "status": "completed"
    },
    "tags": []
   },
   "outputs": [
    {
     "data": {
      "text/plain": [
       "(-100000.0, 1250000.0)"
      ]
     },
     "execution_count": 46,
     "metadata": {},
     "output_type": "execute_result"
    },
    {
     "data": {
      "image/png": "[encoded data removed]",
      "text/plain": [
       "<Figure size 720x216 with 2 Axes>"
      ]
     },
     "metadata": {},
     "output_type": "display_data"
    }
   ],
   "source": [
    "# There are many houses that do not have a basement.\n",
    "\n",
    "fig, (ax1, ax2) = plt.subplots(1,2, figsize = (10,3))\n",
    "\n",
    "ax1.scatter(x= 'sqft_basement', y= 'price', data = data8, c= 'sqft_basement', cmap='inferno')\n",
    "ax1.set_title('With Outliers')\n",
    "ax1.set_xlim(-100,2500)\n",
    "ax1.set_ylim(-0.1e6,1.25e6)\n",
    "ax2.scatter(x= 'sqft_basement', y= 'price', data = data9, c= 'sqft_basement', cmap='inferno')\n",
    "ax2.set_title('Without Outliers')\n",
    "ax2.set_xlim(-100,2500)\n",
    "ax2.set_ylim(-0.1e6,1.25e6)"
   ]
  },
  {
   "cell_type": "code",
   "execution_count": 47,
   "id": "6e72cbfd",
   "metadata": {
    "execution": {
     "iopub.execute_input": "2022-03-25T15:24:04.803928Z",
     "iopub.status.busy": "2022-03-25T15:24:04.802844Z",
     "iopub.status.idle": "2022-03-25T15:24:05.022399Z",
     "shell.execute_reply": "2022-03-25T15:24:05.021295Z",
     "shell.execute_reply.started": "2022-03-24T13:52:34.808556Z"
    },
    "papermill": {
     "duration": 0.355133,
     "end_time": "2022-03-25T15:24:05.022544",
     "exception": false,
     "start_time": "2022-03-25T15:24:04.667411",
     "status": "completed"
    },
    "tags": []
   },
   "outputs": [
    {
     "data": {
      "text/plain": [
       "<AxesSubplot:xlabel='yr_built'>"
      ]
     },
     "execution_count": 47,
     "metadata": {},
     "output_type": "execute_result"
    },
    {
     "data": {
      "image/png": "[encoded data removed]",
      "text/plain": [
       "<Figure size 432x288 with 1 Axes>"
      ]
     },
     "metadata": {},
     "output_type": "display_data"
    }
   ],
   "source": [
    "# I will keep building year as is.\n",
    "\n",
    "sns.boxplot(data9.yr_built, color= 'darkmagenta')"
   ]
  },
  {
   "cell_type": "code",
   "execution_count": 48,
   "id": "80aff9aa",
   "metadata": {
    "execution": {
     "iopub.execute_input": "2022-03-25T15:24:05.306370Z",
     "iopub.status.busy": "2022-03-25T15:24:05.305320Z",
     "iopub.status.idle": "2022-03-25T15:24:05.558054Z",
     "shell.execute_reply": "2022-03-25T15:24:05.557470Z",
     "shell.execute_reply.started": "2022-03-24T13:52:34.995064Z"
    },
    "papermill": {
     "duration": 0.402843,
     "end_time": "2022-03-25T15:24:05.558194",
     "exception": false,
     "start_time": "2022-03-25T15:24:05.155351",
     "status": "completed"
    },
    "tags": []
   },
   "outputs": [
    {
     "data": {
      "text/plain": [
       "<AxesSubplot:xlabel='yr_renovated', ylabel='Density'>"
      ]
     },
     "execution_count": 48,
     "metadata": {},
     "output_type": "execute_result"
    },
    {
     "data": {
      "image/png": "[encoded data removed]",
      "text/plain": [
       "<Figure size 432x288 with 1 Axes>"
      ]
     },
     "metadata": {},
     "output_type": "display_data"
    }
   ],
   "source": [
    "# This is the last feature I will take as renovated(1) not (0).\n",
    "\n",
    "sns.distplot(data9.yr_renovated, color= 'darkmagenta')"
   ]
  },
  {
   "cell_type": "code",
   "execution_count": 49,
   "id": "c12e350b",
   "metadata": {
    "execution": {
     "iopub.execute_input": "2022-03-25T15:24:05.830486Z",
     "iopub.status.busy": "2022-03-25T15:24:05.829865Z",
     "iopub.status.idle": "2022-03-25T15:24:05.833598Z",
     "shell.execute_reply": "2022-03-25T15:24:05.834064Z",
     "shell.execute_reply.started": "2022-03-24T13:52:35.26695Z"
    },
    "papermill": {
     "duration": 0.141145,
     "end_time": "2022-03-25T15:24:05.834234",
     "exception": false,
     "start_time": "2022-03-25T15:24:05.693089",
     "status": "completed"
    },
    "tags": []
   },
   "outputs": [],
   "source": [
    "data9.yr_renovated = pd.np.where(data9.yr_renovated==0,0,1)"
   ]
  },
  {
   "cell_type": "code",
   "execution_count": 50,
   "id": "9d8954f9",
   "metadata": {
    "execution": {
     "iopub.execute_input": "2022-03-25T15:24:06.105837Z",
     "iopub.status.busy": "2022-03-25T15:24:06.105174Z",
     "iopub.status.idle": "2022-03-25T15:24:06.154868Z",
     "shell.execute_reply": "2022-03-25T15:24:06.154339Z",
     "shell.execute_reply.started": "2022-03-24T13:52:35.274859Z"
    },
    "papermill": {
     "duration": 0.186336,
     "end_time": "2022-03-25T15:24:06.155004",
     "exception": false,
     "start_time": "2022-03-25T15:24:05.968668",
     "status": "completed"
    },
    "tags": []
   },
   "outputs": [
    {
     "data": {
      "text/html": [
       "<div>\n",
       "<style scoped>\n",
       "    .dataframe tbody tr th:only-of-type {\n",
       "        vertical-align: middle;\n",
       "    }\n",
       "\n",
       "    .dataframe tbody tr th {\n",
       "        vertical-align: top;\n",
       "    }\n",
       "\n",
       "    .dataframe thead th {\n",
       "        text-align: right;\n",
       "    }\n",
       "</style>\n",
       "<table border=\"1\" class=\"dataframe\">\n",
       "  <thead>\n",
       "    <tr style=\"text-align: right;\">\n",
       "      <th></th>\n",
       "      <th>count</th>\n",
       "      <th>mean</th>\n",
       "      <th>std</th>\n",
       "      <th>min</th>\n",
       "      <th>25%</th>\n",
       "      <th>50%</th>\n",
       "      <th>75%</th>\n",
       "      <th>max</th>\n",
       "    </tr>\n",
       "  </thead>\n",
       "  <tbody>\n",
       "    <tr>\n",
       "      <th>price</th>\n",
       "      <td>4167.0</td>\n",
       "      <td>478474.534624</td>\n",
       "      <td>208784.796665</td>\n",
       "      <td>80000.0</td>\n",
       "      <td>315684.35</td>\n",
       "      <td>440000.0</td>\n",
       "      <td>602250.0</td>\n",
       "      <td>1157400.0</td>\n",
       "    </tr>\n",
       "    <tr>\n",
       "      <th>bedrooms</th>\n",
       "      <td>4167.0</td>\n",
       "      <td>3.317495</td>\n",
       "      <td>0.844478</td>\n",
       "      <td>1.0</td>\n",
       "      <td>3.00</td>\n",
       "      <td>3.0</td>\n",
       "      <td>4.0</td>\n",
       "      <td>6.0</td>\n",
       "    </tr>\n",
       "    <tr>\n",
       "      <th>bathrooms</th>\n",
       "      <td>4167.0</td>\n",
       "      <td>1.681785</td>\n",
       "      <td>0.623212</td>\n",
       "      <td>0.0</td>\n",
       "      <td>1.00</td>\n",
       "      <td>2.0</td>\n",
       "      <td>2.0</td>\n",
       "      <td>3.0</td>\n",
       "    </tr>\n",
       "    <tr>\n",
       "      <th>sqft_living</th>\n",
       "      <td>4167.0</td>\n",
       "      <td>1965.253180</td>\n",
       "      <td>721.459840</td>\n",
       "      <td>370.0</td>\n",
       "      <td>1410.00</td>\n",
       "      <td>1890.0</td>\n",
       "      <td>2440.0</td>\n",
       "      <td>4240.0</td>\n",
       "    </tr>\n",
       "    <tr>\n",
       "      <th>sqft_lot</th>\n",
       "      <td>4167.0</td>\n",
       "      <td>11192.053516</td>\n",
       "      <td>16057.534463</td>\n",
       "      <td>638.0</td>\n",
       "      <td>5000.00</td>\n",
       "      <td>7476.0</td>\n",
       "      <td>10280.5</td>\n",
       "      <td>191228.0</td>\n",
       "    </tr>\n",
       "    <tr>\n",
       "      <th>floors</th>\n",
       "      <td>4167.0</td>\n",
       "      <td>1.439405</td>\n",
       "      <td>0.551794</td>\n",
       "      <td>1.0</td>\n",
       "      <td>1.00</td>\n",
       "      <td>1.0</td>\n",
       "      <td>2.0</td>\n",
       "      <td>3.0</td>\n",
       "    </tr>\n",
       "    <tr>\n",
       "      <th>waterfront</th>\n",
       "      <td>4167.0</td>\n",
       "      <td>0.003840</td>\n",
       "      <td>0.061854</td>\n",
       "      <td>0.0</td>\n",
       "      <td>0.00</td>\n",
       "      <td>0.0</td>\n",
       "      <td>0.0</td>\n",
       "      <td>1.0</td>\n",
       "    </tr>\n",
       "    <tr>\n",
       "      <th>view</th>\n",
       "      <td>4167.0</td>\n",
       "      <td>0.069354</td>\n",
       "      <td>0.254086</td>\n",
       "      <td>0.0</td>\n",
       "      <td>0.00</td>\n",
       "      <td>0.0</td>\n",
       "      <td>0.0</td>\n",
       "      <td>1.0</td>\n",
       "    </tr>\n",
       "    <tr>\n",
       "      <th>condition</th>\n",
       "      <td>4167.0</td>\n",
       "      <td>3.451884</td>\n",
       "      <td>0.665684</td>\n",
       "      <td>2.0</td>\n",
       "      <td>3.00</td>\n",
       "      <td>3.0</td>\n",
       "      <td>4.0</td>\n",
       "      <td>5.0</td>\n",
       "    </tr>\n",
       "    <tr>\n",
       "      <th>sqft_above</th>\n",
       "      <td>4167.0</td>\n",
       "      <td>1703.894648</td>\n",
       "      <td>710.554020</td>\n",
       "      <td>370.0</td>\n",
       "      <td>1160.00</td>\n",
       "      <td>1510.0</td>\n",
       "      <td>2137.0</td>\n",
       "      <td>4230.0</td>\n",
       "    </tr>\n",
       "    <tr>\n",
       "      <th>sqft_basement</th>\n",
       "      <td>4167.0</td>\n",
       "      <td>261.358531</td>\n",
       "      <td>386.507351</td>\n",
       "      <td>0.0</td>\n",
       "      <td>0.00</td>\n",
       "      <td>0.0</td>\n",
       "      <td>530.0</td>\n",
       "      <td>1440.0</td>\n",
       "    </tr>\n",
       "    <tr>\n",
       "      <th>yr_built</th>\n",
       "      <td>4167.0</td>\n",
       "      <td>1970.460283</td>\n",
       "      <td>29.621874</td>\n",
       "      <td>1900.0</td>\n",
       "      <td>1951.00</td>\n",
       "      <td>1975.0</td>\n",
       "      <td>1996.0</td>\n",
       "      <td>2014.0</td>\n",
       "    </tr>\n",
       "    <tr>\n",
       "      <th>yr_renovated</th>\n",
       "      <td>4167.0</td>\n",
       "      <td>0.409167</td>\n",
       "      <td>0.491739</td>\n",
       "      <td>0.0</td>\n",
       "      <td>0.00</td>\n",
       "      <td>0.0</td>\n",
       "      <td>1.0</td>\n",
       "      <td>1.0</td>\n",
       "    </tr>\n",
       "  </tbody>\n",
       "</table>\n",
       "</div>"
      ],
      "text/plain": [
       "                count           mean            std      min        25%  \\\n",
       "price          4167.0  478474.534624  208784.796665  80000.0  315684.35   \n",
       "bedrooms       4167.0       3.317495       0.844478      1.0       3.00   \n",
       "bathrooms      4167.0       1.681785       0.623212      0.0       1.00   \n",
       "sqft_living    4167.0    1965.253180     721.459840    370.0    1410.00   \n",
       "sqft_lot       4167.0   11192.053516   16057.534463    638.0    5000.00   \n",
       "floors         4167.0       1.439405       0.551794      1.0       1.00   \n",
       "waterfront     4167.0       0.003840       0.061854      0.0       0.00   \n",
       "view           4167.0       0.069354       0.254086      0.0       0.00   \n",
       "condition      4167.0       3.451884       0.665684      2.0       3.00   \n",
       "sqft_above     4167.0    1703.894648     710.554020    370.0    1160.00   \n",
       "sqft_basement  4167.0     261.358531     386.507351      0.0       0.00   \n",
       "yr_built       4167.0    1970.460283      29.621874   1900.0    1951.00   \n",
       "yr_renovated   4167.0       0.409167       0.491739      0.0       0.00   \n",
       "\n",
       "                    50%       75%        max  \n",
       "price          440000.0  602250.0  1157400.0  \n",
       "bedrooms            3.0       4.0        6.0  \n",
       "bathrooms           2.0       2.0        3.0  \n",
       "sqft_living      1890.0    2440.0     4240.0  \n",
       "sqft_lot         7476.0   10280.5   191228.0  \n",
       "floors              1.0       2.0        3.0  \n",
       "waterfront          0.0       0.0        1.0  \n",
       "view                0.0       0.0        1.0  \n",
       "condition           3.0       4.0        5.0  \n",
       "sqft_above       1510.0    2137.0     4230.0  \n",
       "sqft_basement       0.0     530.0     1440.0  \n",
       "yr_built         1975.0    1996.0     2014.0  \n",
       "yr_renovated        0.0       1.0        1.0  "
      ]
     },
     "execution_count": 50,
     "metadata": {},
     "output_type": "execute_result"
    }
   ],
   "source": [
    "# We've removed most of the outliers. First I'll just continue with numeric values.\n",
    "# Let's continue by dropping the categorical variables and saving it as a separate data set.\n",
    "\n",
    "data_pp = data9.drop(['date', 'city', 'street', 'statezip', 'country'], axis=1)\n",
    "data_pp.describe().T"
   ]
  },
  {
   "cell_type": "markdown",
   "id": "b12eb299",
   "metadata": {
    "papermill": {
     "duration": 0.133879,
     "end_time": "2022-03-25T15:24:06.423048",
     "exception": false,
     "start_time": "2022-03-25T15:24:06.289169",
     "status": "completed"
    },
    "tags": []
   },
   "source": [
    "# Scaling the data\n",
    "\n",
    "Scaling is transforming our data to fit on a specific scale like 0-100 or 0-1. It is critical when using metrics-based methods of how far away data points are, such as support vector machines (SVM) or k-nearest neighbors (KNN), rather than linear regression. However, I still think it will be useful to scale the data, I will use the Robust Scaler as there is still some outlier in our data."
   ]
  },
  {
   "cell_type": "code",
   "execution_count": 51,
   "id": "50709d30",
   "metadata": {
    "execution": {
     "iopub.execute_input": "2022-03-25T15:24:06.695849Z",
     "iopub.status.busy": "2022-03-25T15:24:06.695055Z",
     "iopub.status.idle": "2022-03-25T15:24:06.697319Z",
     "shell.execute_reply": "2022-03-25T15:24:06.697760Z",
     "shell.execute_reply.started": "2022-03-24T13:52:35.335338Z"
    },
    "papermill": {
     "duration": 0.141552,
     "end_time": "2022-03-25T15:24:06.697930",
     "exception": false,
     "start_time": "2022-03-25T15:24:06.556378",
     "status": "completed"
    },
    "tags": []
   },
   "outputs": [],
   "source": [
    "data_pp = data_pp.reset_index(drop=True)"
   ]
  },
  {
   "cell_type": "code",
   "execution_count": 52,
   "id": "09d3a762",
   "metadata": {
    "execution": {
     "iopub.execute_input": "2022-03-25T15:24:06.972620Z",
     "iopub.status.busy": "2022-03-25T15:24:06.971647Z",
     "iopub.status.idle": "2022-03-25T15:24:06.986537Z",
     "shell.execute_reply": "2022-03-25T15:24:06.987155Z",
     "shell.execute_reply.started": "2022-03-24T13:52:35.340697Z"
    },
    "papermill": {
     "duration": 0.154438,
     "end_time": "2022-03-25T15:24:06.987327",
     "exception": false,
     "start_time": "2022-03-25T15:24:06.832889",
     "status": "completed"
    },
    "tags": []
   },
   "outputs": [
    {
     "data": {
      "text/html": [
       "<div>\n",
       "<style scoped>\n",
       "    .dataframe tbody tr th:only-of-type {\n",
       "        vertical-align: middle;\n",
       "    }\n",
       "\n",
       "    .dataframe tbody tr th {\n",
       "        vertical-align: top;\n",
       "    }\n",
       "\n",
       "    .dataframe thead th {\n",
       "        text-align: right;\n",
       "    }\n",
       "</style>\n",
       "<table border=\"1\" class=\"dataframe\">\n",
       "  <thead>\n",
       "    <tr style=\"text-align: right;\">\n",
       "      <th></th>\n",
       "      <th>bedrooms</th>\n",
       "      <th>bathrooms</th>\n",
       "      <th>sqft_living</th>\n",
       "      <th>sqft_lot</th>\n",
       "      <th>floors</th>\n",
       "      <th>waterfront</th>\n",
       "      <th>view</th>\n",
       "      <th>condition</th>\n",
       "      <th>sqft_above</th>\n",
       "      <th>sqft_basement</th>\n",
       "      <th>yr_built</th>\n",
       "      <th>yr_renovated</th>\n",
       "    </tr>\n",
       "  </thead>\n",
       "  <tbody>\n",
       "    <tr>\n",
       "      <th>0</th>\n",
       "      <td>3.0</td>\n",
       "      <td>1</td>\n",
       "      <td>1340</td>\n",
       "      <td>7912</td>\n",
       "      <td>1</td>\n",
       "      <td>0</td>\n",
       "      <td>0</td>\n",
       "      <td>3</td>\n",
       "      <td>1340</td>\n",
       "      <td>0</td>\n",
       "      <td>1955</td>\n",
       "      <td>1</td>\n",
       "    </tr>\n",
       "    <tr>\n",
       "      <th>1</th>\n",
       "      <td>3.0</td>\n",
       "      <td>2</td>\n",
       "      <td>1930</td>\n",
       "      <td>11947</td>\n",
       "      <td>1</td>\n",
       "      <td>0</td>\n",
       "      <td>0</td>\n",
       "      <td>4</td>\n",
       "      <td>1930</td>\n",
       "      <td>0</td>\n",
       "      <td>1966</td>\n",
       "      <td>0</td>\n",
       "    </tr>\n",
       "    <tr>\n",
       "      <th>2</th>\n",
       "      <td>3.0</td>\n",
       "      <td>2</td>\n",
       "      <td>2000</td>\n",
       "      <td>8030</td>\n",
       "      <td>1</td>\n",
       "      <td>0</td>\n",
       "      <td>0</td>\n",
       "      <td>4</td>\n",
       "      <td>1000</td>\n",
       "      <td>1000</td>\n",
       "      <td>1963</td>\n",
       "      <td>0</td>\n",
       "    </tr>\n",
       "    <tr>\n",
       "      <th>3</th>\n",
       "      <td>4.0</td>\n",
       "      <td>2</td>\n",
       "      <td>1940</td>\n",
       "      <td>10500</td>\n",
       "      <td>1</td>\n",
       "      <td>0</td>\n",
       "      <td>0</td>\n",
       "      <td>4</td>\n",
       "      <td>1140</td>\n",
       "      <td>800</td>\n",
       "      <td>1976</td>\n",
       "      <td>1</td>\n",
       "    </tr>\n",
       "    <tr>\n",
       "      <th>4</th>\n",
       "      <td>2.0</td>\n",
       "      <td>1</td>\n",
       "      <td>880</td>\n",
       "      <td>6380</td>\n",
       "      <td>1</td>\n",
       "      <td>0</td>\n",
       "      <td>0</td>\n",
       "      <td>3</td>\n",
       "      <td>880</td>\n",
       "      <td>0</td>\n",
       "      <td>1938</td>\n",
       "      <td>1</td>\n",
       "    </tr>\n",
       "  </tbody>\n",
       "</table>\n",
       "</div>"
      ],
      "text/plain": [
       "   bedrooms  bathrooms  sqft_living  sqft_lot  floors  waterfront  view  \\\n",
       "0       3.0          1         1340      7912       1           0     0   \n",
       "1       3.0          2         1930     11947       1           0     0   \n",
       "2       3.0          2         2000      8030       1           0     0   \n",
       "3       4.0          2         1940     10500       1           0     0   \n",
       "4       2.0          1          880      6380       1           0     0   \n",
       "\n",
       "   condition  sqft_above  sqft_basement  yr_built  yr_renovated  \n",
       "0          3        1340              0      1955             1  \n",
       "1          4        1930              0      1966             0  \n",
       "2          4        1000           1000      1963             0  \n",
       "3          4        1140            800      1976             1  \n",
       "4          3         880              0      1938             1  "
      ]
     },
     "execution_count": 52,
     "metadata": {},
     "output_type": "execute_result"
    }
   ],
   "source": [
    "# Define the targets and inputs.\n",
    "\n",
    "targets = data_pp.iloc[:,:1]\n",
    "unscaled_inputs = data_pp.drop(['price'], axis = 1)\n",
    "\n",
    "unscaled_inputs.head()"
   ]
  },
  {
   "cell_type": "code",
   "execution_count": 53,
   "id": "cc1fd3a0",
   "metadata": {
    "execution": {
     "iopub.execute_input": "2022-03-25T15:24:07.263689Z",
     "iopub.status.busy": "2022-03-25T15:24:07.262671Z",
     "iopub.status.idle": "2022-03-25T15:24:07.271558Z",
     "shell.execute_reply": "2022-03-25T15:24:07.272267Z",
     "shell.execute_reply.started": "2022-03-24T13:52:35.364698Z"
    },
    "papermill": {
     "duration": 0.148977,
     "end_time": "2022-03-25T15:24:07.272490",
     "exception": false,
     "start_time": "2022-03-25T15:24:07.123513",
     "status": "completed"
    },
    "tags": []
   },
   "outputs": [
    {
     "name": "stdout",
     "output_type": "stream",
     "text": [
      "(3333, 12) (3333, 1) (834, 12) (834, 1)\n"
     ]
    }
   ],
   "source": [
    "# We will divide our data into train and test groups. This is important to avoid overfitting or underfitting.\n",
    "# Overfitting means, our training has focused on the particular training data set so much, so it has missed the point. \n",
    "# Underfitting means the model has not captured the underlying logic of the data.\n",
    "\n",
    "x_train, x_test, y_train, y_test = train_test_split(unscaled_inputs, targets, test_size=0.2, random_state=42)\n",
    "print(x_train.shape, y_train.shape, x_test.shape, y_test.shape)"
   ]
  },
  {
   "cell_type": "code",
   "execution_count": 54,
   "id": "eaee5047",
   "metadata": {
    "execution": {
     "iopub.execute_input": "2022-03-25T15:24:07.549752Z",
     "iopub.status.busy": "2022-03-25T15:24:07.549037Z",
     "iopub.status.idle": "2022-03-25T15:24:07.557448Z",
     "shell.execute_reply": "2022-03-25T15:24:07.557977Z",
     "shell.execute_reply.started": "2022-03-24T13:52:35.378699Z"
    },
    "papermill": {
     "duration": 0.149336,
     "end_time": "2022-03-25T15:24:07.558161",
     "exception": false,
     "start_time": "2022-03-25T15:24:07.408825",
     "status": "completed"
    },
    "tags": []
   },
   "outputs": [],
   "source": [
    "# I will keep features that contain only 0 or 1 data separately.\n",
    "\n",
    "columns_to_scale = ['bedrooms', 'bathrooms', 'sqft_living', 'sqft_lot', 'floors',\n",
    "        'condition', 'sqft_above', 'sqft_basement',\n",
    "       'yr_built']\n",
    "columns_to_omit = ['waterfront','view','yr_renovated']\n",
    "x_train_to_scale = x_train[columns_to_scale]\n",
    "x_test_to_scale = x_test[columns_to_scale]\n",
    "x_train_not_to_scale = x_train[columns_to_omit].reset_index(drop=True)\n",
    "x_test_not_to_scale = x_test[columns_to_omit].reset_index(drop=True)"
   ]
  },
  {
   "cell_type": "code",
   "execution_count": 55,
   "id": "4d090bd0",
   "metadata": {
    "execution": {
     "iopub.execute_input": "2022-03-25T15:24:07.834219Z",
     "iopub.status.busy": "2022-03-25T15:24:07.833486Z",
     "iopub.status.idle": "2022-03-25T15:24:07.844765Z",
     "shell.execute_reply": "2022-03-25T15:24:07.845271Z",
     "shell.execute_reply.started": "2022-03-24T13:52:35.391733Z"
    },
    "papermill": {
     "duration": 0.150782,
     "end_time": "2022-03-25T15:24:07.845445",
     "exception": false,
     "start_time": "2022-03-25T15:24:07.694663",
     "status": "completed"
    },
    "tags": []
   },
   "outputs": [
    {
     "data": {
      "text/plain": [
       "RobustScaler()"
      ]
     },
     "execution_count": 55,
     "metadata": {},
     "output_type": "execute_result"
    }
   ],
   "source": [
    "# Let's fit the scaler using only the training data, then transform both training and test data.\n",
    "\n",
    "scaler = RobustScaler()  #StandardScaler()\n",
    "scaler.fit(x_train_to_scale)"
   ]
  },
  {
   "cell_type": "code",
   "execution_count": 56,
   "id": "f10226a0",
   "metadata": {
    "execution": {
     "iopub.execute_input": "2022-03-25T15:24:08.125376Z",
     "iopub.status.busy": "2022-03-25T15:24:08.124737Z",
     "iopub.status.idle": "2022-03-25T15:24:08.129896Z",
     "shell.execute_reply": "2022-03-25T15:24:08.130338Z",
     "shell.execute_reply.started": "2022-03-24T13:52:35.412846Z"
    },
    "papermill": {
     "duration": 0.144546,
     "end_time": "2022-03-25T15:24:08.130507",
     "exception": false,
     "start_time": "2022-03-25T15:24:07.985961",
     "status": "completed"
    },
    "tags": []
   },
   "outputs": [],
   "source": [
    "x_train_scaled = scaler.transform(x_train_to_scale)"
   ]
  },
  {
   "cell_type": "code",
   "execution_count": 57,
   "id": "00b93ed3",
   "metadata": {
    "execution": {
     "iopub.execute_input": "2022-03-25T15:24:08.408786Z",
     "iopub.status.busy": "2022-03-25T15:24:08.408035Z",
     "iopub.status.idle": "2022-03-25T15:24:08.414434Z",
     "shell.execute_reply": "2022-03-25T15:24:08.413808Z",
     "shell.execute_reply.started": "2022-03-24T13:52:35.421702Z"
    },
    "papermill": {
     "duration": 0.146762,
     "end_time": "2022-03-25T15:24:08.414588",
     "exception": false,
     "start_time": "2022-03-25T15:24:08.267826",
     "status": "completed"
    },
    "tags": []
   },
   "outputs": [],
   "source": [
    "x_test_scaled = scaler.transform(x_test_to_scale)"
   ]
  },
  {
   "cell_type": "code",
   "execution_count": 58,
   "id": "db49ee42",
   "metadata": {
    "execution": {
     "iopub.execute_input": "2022-03-25T15:24:08.697033Z",
     "iopub.status.busy": "2022-03-25T15:24:08.695347Z",
     "iopub.status.idle": "2022-03-25T15:24:08.699587Z",
     "shell.execute_reply": "2022-03-25T15:24:08.699075Z",
     "shell.execute_reply.started": "2022-03-24T13:52:35.434662Z"
    },
    "papermill": {
     "duration": 0.148505,
     "end_time": "2022-03-25T15:24:08.699732",
     "exception": false,
     "start_time": "2022-03-25T15:24:08.551227",
     "status": "completed"
    },
    "tags": []
   },
   "outputs": [],
   "source": [
    "# After scaling our training and test data are converted to np.arrays,\n",
    "# Let's make them pd.DataFrame again and merge them with unscaled features.\n",
    "\n",
    "x_train_scaled = pd.DataFrame(x_train_scaled, columns=columns_to_scale)\n",
    "x_train = pd.concat([x_train_scaled,x_train_not_to_scale], axis=1)\n",
    "y_train = y_train.reset_index(drop=True)\n",
    "\n",
    "x_test_scaled = pd.DataFrame(x_test_scaled, columns=columns_to_scale)\n",
    "x_test = pd.concat([x_test_scaled,x_test_not_to_scale], axis=1)\n",
    "y_test = y_test.reset_index(drop=True)"
   ]
  },
  {
   "cell_type": "code",
   "execution_count": 59,
   "id": "8e283a47",
   "metadata": {
    "execution": {
     "iopub.execute_input": "2022-03-25T15:24:08.989284Z",
     "iopub.status.busy": "2022-03-25T15:24:08.988345Z",
     "iopub.status.idle": "2022-03-25T15:24:08.992169Z",
     "shell.execute_reply": "2022-03-25T15:24:08.991684Z",
     "shell.execute_reply.started": "2022-03-24T13:52:35.446746Z"
    },
    "papermill": {
     "duration": 0.156717,
     "end_time": "2022-03-25T15:24:08.992315",
     "exception": false,
     "start_time": "2022-03-25T15:24:08.835598",
     "status": "completed"
    },
    "tags": []
   },
   "outputs": [
    {
     "data": {
      "text/html": [
       "<div>\n",
       "<style scoped>\n",
       "    .dataframe tbody tr th:only-of-type {\n",
       "        vertical-align: middle;\n",
       "    }\n",
       "\n",
       "    .dataframe tbody tr th {\n",
       "        vertical-align: top;\n",
       "    }\n",
       "\n",
       "    .dataframe thead th {\n",
       "        text-align: right;\n",
       "    }\n",
       "</style>\n",
       "<table border=\"1\" class=\"dataframe\">\n",
       "  <thead>\n",
       "    <tr style=\"text-align: right;\">\n",
       "      <th></th>\n",
       "      <th>bedrooms</th>\n",
       "      <th>bathrooms</th>\n",
       "      <th>sqft_living</th>\n",
       "      <th>sqft_lot</th>\n",
       "      <th>floors</th>\n",
       "      <th>condition</th>\n",
       "      <th>sqft_above</th>\n",
       "      <th>sqft_basement</th>\n",
       "      <th>yr_built</th>\n",
       "      <th>waterfront</th>\n",
       "      <th>view</th>\n",
       "      <th>yr_renovated</th>\n",
       "    </tr>\n",
       "  </thead>\n",
       "  <tbody>\n",
       "    <tr>\n",
       "      <th>0</th>\n",
       "      <td>0.0</td>\n",
       "      <td>0.0</td>\n",
       "      <td>-0.215686</td>\n",
       "      <td>-0.716920</td>\n",
       "      <td>0.0</td>\n",
       "      <td>2.0</td>\n",
       "      <td>-0.536082</td>\n",
       "      <td>1.301887</td>\n",
       "      <td>-1.155556</td>\n",
       "      <td>0</td>\n",
       "      <td>0</td>\n",
       "      <td>1</td>\n",
       "    </tr>\n",
       "    <tr>\n",
       "      <th>1</th>\n",
       "      <td>0.0</td>\n",
       "      <td>-1.0</td>\n",
       "      <td>-0.254902</td>\n",
       "      <td>0.344106</td>\n",
       "      <td>0.0</td>\n",
       "      <td>1.0</td>\n",
       "      <td>0.134021</td>\n",
       "      <td>0.000000</td>\n",
       "      <td>-0.155556</td>\n",
       "      <td>0</td>\n",
       "      <td>0</td>\n",
       "      <td>0</td>\n",
       "    </tr>\n",
       "  </tbody>\n",
       "</table>\n",
       "</div>"
      ],
      "text/plain": [
       "   bedrooms  bathrooms  sqft_living  sqft_lot  floors  condition  sqft_above  \\\n",
       "0       0.0        0.0    -0.215686 -0.716920     0.0        2.0   -0.536082   \n",
       "1       0.0       -1.0    -0.254902  0.344106     0.0        1.0    0.134021   \n",
       "\n",
       "   sqft_basement  yr_built  waterfront  view  yr_renovated  \n",
       "0       1.301887 -1.155556           0     0             1  \n",
       "1       0.000000 -0.155556           0     0             0  "
      ]
     },
     "execution_count": 59,
     "metadata": {},
     "output_type": "execute_result"
    }
   ],
   "source": [
    "# Now, we are ready!\n",
    "\n",
    "x_train.head(2)"
   ]
  },
  {
   "cell_type": "markdown",
   "id": "7a4e0534",
   "metadata": {
    "papermill": {
     "duration": 0.135648,
     "end_time": "2022-03-25T15:24:09.264536",
     "exception": false,
     "start_time": "2022-03-25T15:24:09.128888",
     "status": "completed"
    },
    "tags": []
   },
   "source": [
    "# Model - Linear Regression"
   ]
  },
  {
   "cell_type": "code",
   "execution_count": 60,
   "id": "e81b6c60",
   "metadata": {
    "execution": {
     "iopub.execute_input": "2022-03-25T15:24:09.541839Z",
     "iopub.status.busy": "2022-03-25T15:24:09.540884Z",
     "iopub.status.idle": "2022-03-25T15:24:09.597063Z",
     "shell.execute_reply": "2022-03-25T15:24:09.597950Z",
     "shell.execute_reply.started": "2022-03-24T13:52:35.470608Z"
    },
    "papermill": {
     "duration": 0.196851,
     "end_time": "2022-03-25T15:24:09.598231",
     "exception": false,
     "start_time": "2022-03-25T15:24:09.401380",
     "status": "completed"
    },
    "tags": []
   },
   "outputs": [
    {
     "data": {
      "text/html": [
       "<table class=\"simpletable\">\n",
       "<caption>OLS Regression Results</caption>\n",
       "<tr>\n",
       "  <th>Dep. Variable:</th>          <td>price</td>      <th>  R-squared:         </th> <td>   0.460</td> \n",
       "</tr>\n",
       "<tr>\n",
       "  <th>Model:</th>                   <td>OLS</td>       <th>  Adj. R-squared:    </th> <td>   0.458</td> \n",
       "</tr>\n",
       "<tr>\n",
       "  <th>Method:</th>             <td>Least Squares</td>  <th>  F-statistic:       </th> <td>   257.4</td> \n",
       "</tr>\n",
       "<tr>\n",
       "  <th>Date:</th>             <td>Fri, 25 Mar 2022</td> <th>  Prob (F-statistic):</th>  <td>  0.00</td>  \n",
       "</tr>\n",
       "<tr>\n",
       "  <th>Time:</th>                 <td>15:24:09</td>     <th>  Log-Likelihood:    </th> <td> -44524.</td> \n",
       "</tr>\n",
       "<tr>\n",
       "  <th>No. Observations:</th>      <td>  3333</td>      <th>  AIC:               </th> <td>8.907e+04</td>\n",
       "</tr>\n",
       "<tr>\n",
       "  <th>Df Residuals:</th>          <td>  3321</td>      <th>  BIC:               </th> <td>8.915e+04</td>\n",
       "</tr>\n",
       "<tr>\n",
       "  <th>Df Model:</th>              <td>    11</td>      <th>                     </th>     <td> </td>    \n",
       "</tr>\n",
       "<tr>\n",
       "  <th>Covariance Type:</th>      <td>nonrobust</td>    <th>                     </th>     <td> </td>    \n",
       "</tr>\n",
       "</table>\n",
       "<table class=\"simpletable\">\n",
       "<tr>\n",
       "        <td></td>           <th>coef</th>     <th>std err</th>      <th>t</th>      <th>P>|t|</th>  <th>[0.025</th>    <th>0.975]</th>  \n",
       "</tr>\n",
       "<tr>\n",
       "  <th>const</th>         <td> 3.748e+05</td> <td> 6663.309</td> <td>   56.242</td> <td> 0.000</td> <td> 3.62e+05</td> <td> 3.88e+05</td>\n",
       "</tr>\n",
       "<tr>\n",
       "  <th>bedrooms</th>      <td>-2.646e+04</td> <td> 4046.424</td> <td>   -6.538</td> <td> 0.000</td> <td>-3.44e+04</td> <td>-1.85e+04</td>\n",
       "</tr>\n",
       "<tr>\n",
       "  <th>bathrooms</th>     <td> 2.809e+04</td> <td> 6043.273</td> <td>    4.648</td> <td> 0.000</td> <td> 1.62e+04</td> <td> 3.99e+04</td>\n",
       "</tr>\n",
       "<tr>\n",
       "  <th>sqft_living</th>   <td> 3.958e+04</td> <td> 3452.131</td> <td>   11.465</td> <td> 0.000</td> <td> 3.28e+04</td> <td> 4.63e+04</td>\n",
       "</tr>\n",
       "<tr>\n",
       "  <th>sqft_lot</th>      <td>-3626.6854</td> <td>  943.429</td> <td>   -3.844</td> <td> 0.000</td> <td>-5476.446</td> <td>-1776.924</td>\n",
       "</tr>\n",
       "<tr>\n",
       "  <th>floors</th>        <td> 5.941e+04</td> <td> 7035.534</td> <td>    8.444</td> <td> 0.000</td> <td> 4.56e+04</td> <td> 7.32e+04</td>\n",
       "</tr>\n",
       "<tr>\n",
       "  <th>condition</th>     <td> 2.469e+04</td> <td> 4835.323</td> <td>    5.106</td> <td> 0.000</td> <td> 1.52e+04</td> <td> 3.42e+04</td>\n",
       "</tr>\n",
       "<tr>\n",
       "  <th>sqft_above</th>    <td> 1.528e+05</td> <td> 3346.585</td> <td>   45.649</td> <td> 0.000</td> <td> 1.46e+05</td> <td> 1.59e+05</td>\n",
       "</tr>\n",
       "<tr>\n",
       "  <th>sqft_basement</th> <td> 7.234e+04</td> <td> 3641.422</td> <td>   19.866</td> <td> 0.000</td> <td> 6.52e+04</td> <td> 7.95e+04</td>\n",
       "</tr>\n",
       "<tr>\n",
       "  <th>yr_built</th>      <td>-8.163e+04</td> <td> 5732.205</td> <td>  -14.241</td> <td> 0.000</td> <td>-9.29e+04</td> <td>-7.04e+04</td>\n",
       "</tr>\n",
       "<tr>\n",
       "  <th>waterfront</th>    <td> 5055.6355</td> <td> 4.57e+04</td> <td>    0.111</td> <td> 0.912</td> <td>-8.46e+04</td> <td> 9.47e+04</td>\n",
       "</tr>\n",
       "<tr>\n",
       "  <th>view</th>          <td> 7.736e+04</td> <td> 1.11e+04</td> <td>    6.981</td> <td> 0.000</td> <td> 5.56e+04</td> <td> 9.91e+04</td>\n",
       "</tr>\n",
       "<tr>\n",
       "  <th>yr_renovated</th>  <td> 5633.5680</td> <td> 6258.043</td> <td>    0.900</td> <td> 0.368</td> <td>-6636.442</td> <td> 1.79e+04</td>\n",
       "</tr>\n",
       "</table>\n",
       "<table class=\"simpletable\">\n",
       "<tr>\n",
       "  <th>Omnibus:</th>       <td>89.508</td> <th>  Durbin-Watson:     </th> <td>   1.937</td>\n",
       "</tr>\n",
       "<tr>\n",
       "  <th>Prob(Omnibus):</th> <td> 0.000</td> <th>  Jarque-Bera (JB):  </th> <td> 114.995</td>\n",
       "</tr>\n",
       "<tr>\n",
       "  <th>Skew:</th>          <td> 0.321</td> <th>  Prob(JB):          </th> <td>1.07e-25</td>\n",
       "</tr>\n",
       "<tr>\n",
       "  <th>Kurtosis:</th>      <td> 3.646</td> <th>  Cond. No.          </th> <td>6.48e+15</td>\n",
       "</tr>\n",
       "</table><br/><br/>Notes:<br/>[1] Standard Errors assume that the covariance matrix of the errors is correctly specified.<br/>[2] The smallest eigenvalue is 7.58e-28. This might indicate that there are<br/>strong multicollinearity problems or that the design matrix is singular."
      ],
      "text/plain": [
       "<class 'statsmodels.iolib.summary.Summary'>\n",
       "\"\"\"\n",
       "                            OLS Regression Results                            \n",
       "==============================================================================\n",
       "Dep. Variable:                  price   R-squared:                       0.460\n",
       "Model:                            OLS   Adj. R-squared:                  0.458\n",
       "Method:                 Least Squares   F-statistic:                     257.4\n",
       "Date:                Fri, 25 Mar 2022   Prob (F-statistic):               0.00\n",
       "Time:                        15:24:09   Log-Likelihood:                -44524.\n",
       "No. Observations:                3333   AIC:                         8.907e+04\n",
       "Df Residuals:                    3321   BIC:                         8.915e+04\n",
       "Df Model:                          11                                         \n",
       "Covariance Type:            nonrobust                                         \n",
       "=================================================================================\n",
       "                    coef    std err          t      P>|t|      [0.025      0.975]\n",
       "---------------------------------------------------------------------------------\n",
       "const          3.748e+05   6663.309     56.242      0.000    3.62e+05    3.88e+05\n",
       "bedrooms      -2.646e+04   4046.424     -6.538      0.000   -3.44e+04   -1.85e+04\n",
       "bathrooms      2.809e+04   6043.273      4.648      0.000    1.62e+04    3.99e+04\n",
       "sqft_living    3.958e+04   3452.131     11.465      0.000    3.28e+04    4.63e+04\n",
       "sqft_lot      -3626.6854    943.429     -3.844      0.000   -5476.446   -1776.924\n",
       "floors         5.941e+04   7035.534      8.444      0.000    4.56e+04    7.32e+04\n",
       "condition      2.469e+04   4835.323      5.106      0.000    1.52e+04    3.42e+04\n",
       "sqft_above     1.528e+05   3346.585     45.649      0.000    1.46e+05    1.59e+05\n",
       "sqft_basement  7.234e+04   3641.422     19.866      0.000    6.52e+04    7.95e+04\n",
       "yr_built      -8.163e+04   5732.205    -14.241      0.000   -9.29e+04   -7.04e+04\n",
       "waterfront     5055.6355   4.57e+04      0.111      0.912   -8.46e+04    9.47e+04\n",
       "view           7.736e+04   1.11e+04      6.981      0.000    5.56e+04    9.91e+04\n",
       "yr_renovated   5633.5680   6258.043      0.900      0.368   -6636.442    1.79e+04\n",
       "==============================================================================\n",
       "Omnibus:                       89.508   Durbin-Watson:                   1.937\n",
       "Prob(Omnibus):                  0.000   Jarque-Bera (JB):              114.995\n",
       "Skew:                           0.321   Prob(JB):                     1.07e-25\n",
       "Kurtosis:                       3.646   Cond. No.                     6.48e+15\n",
       "==============================================================================\n",
       "\n",
       "Notes:\n",
       "[1] Standard Errors assume that the covariance matrix of the errors is correctly specified.\n",
       "[2] The smallest eigenvalue is 7.58e-28. This might indicate that there are\n",
       "strong multicollinearity problems or that the design matrix is singular.\n",
       "\"\"\""
      ]
     },
     "execution_count": 60,
     "metadata": {},
     "output_type": "execute_result"
    }
   ],
   "source": [
    "# Let's create the model as we did at the beginning.\n",
    "\n",
    "x = sm.add_constant(x_train)\n",
    "results = sm.OLS(y_train, x).fit()\n",
    "\n",
    "results.summary()"
   ]
  },
  {
   "cell_type": "code",
   "execution_count": 61,
   "id": "9dfdfa8e",
   "metadata": {
    "execution": {
     "iopub.execute_input": "2022-03-25T15:24:09.921212Z",
     "iopub.status.busy": "2022-03-25T15:24:09.918440Z",
     "iopub.status.idle": "2022-03-25T15:24:09.922954Z",
     "shell.execute_reply": "2022-03-25T15:24:09.923450Z",
     "shell.execute_reply.started": "2022-03-24T13:52:35.51567Z"
    },
    "papermill": {
     "duration": 0.146182,
     "end_time": "2022-03-25T15:24:09.923653",
     "exception": false,
     "start_time": "2022-03-25T15:24:09.777471",
     "status": "completed"
    },
    "tags": []
   },
   "outputs": [],
   "source": [
    "# We talked about the low contribution of variables with P values above 0.05 to the model, \n",
    "# so I'm going to drop the renovation year value and run the model again.\n",
    "\n",
    "x_train_pv = x_train.drop(['yr_renovated'], axis=1)"
   ]
  },
  {
   "cell_type": "code",
   "execution_count": 62,
   "id": "433d151d",
   "metadata": {
    "execution": {
     "iopub.execute_input": "2022-03-25T15:24:10.207213Z",
     "iopub.status.busy": "2022-03-25T15:24:10.206467Z",
     "iopub.status.idle": "2022-03-25T15:24:10.260533Z",
     "shell.execute_reply": "2022-03-25T15:24:10.259623Z",
     "shell.execute_reply.started": "2022-03-24T13:52:35.527253Z"
    },
    "papermill": {
     "duration": 0.19539,
     "end_time": "2022-03-25T15:24:10.260788",
     "exception": false,
     "start_time": "2022-03-25T15:24:10.065398",
     "status": "completed"
    },
    "tags": []
   },
   "outputs": [
    {
     "data": {
      "text/html": [
       "<table class=\"simpletable\">\n",
       "<caption>OLS Regression Results</caption>\n",
       "<tr>\n",
       "  <th>Dep. Variable:</th>          <td>price</td>      <th>  R-squared:         </th> <td>   0.460</td> \n",
       "</tr>\n",
       "<tr>\n",
       "  <th>Model:</th>                   <td>OLS</td>       <th>  Adj. R-squared:    </th> <td>   0.458</td> \n",
       "</tr>\n",
       "<tr>\n",
       "  <th>Method:</th>             <td>Least Squares</td>  <th>  F-statistic:       </th> <td>   283.1</td> \n",
       "</tr>\n",
       "<tr>\n",
       "  <th>Date:</th>             <td>Fri, 25 Mar 2022</td> <th>  Prob (F-statistic):</th>  <td>  0.00</td>  \n",
       "</tr>\n",
       "<tr>\n",
       "  <th>Time:</th>                 <td>15:24:10</td>     <th>  Log-Likelihood:    </th> <td> -44524.</td> \n",
       "</tr>\n",
       "<tr>\n",
       "  <th>No. Observations:</th>      <td>  3333</td>      <th>  AIC:               </th> <td>8.907e+04</td>\n",
       "</tr>\n",
       "<tr>\n",
       "  <th>Df Residuals:</th>          <td>  3322</td>      <th>  BIC:               </th> <td>8.914e+04</td>\n",
       "</tr>\n",
       "<tr>\n",
       "  <th>Df Model:</th>              <td>    10</td>      <th>                     </th>     <td> </td>    \n",
       "</tr>\n",
       "<tr>\n",
       "  <th>Covariance Type:</th>      <td>nonrobust</td>    <th>                     </th>     <td> </td>    \n",
       "</tr>\n",
       "</table>\n",
       "<table class=\"simpletable\">\n",
       "<tr>\n",
       "        <td></td>           <th>coef</th>     <th>std err</th>      <th>t</th>      <th>P>|t|</th>  <th>[0.025</th>    <th>0.975]</th>  \n",
       "</tr>\n",
       "<tr>\n",
       "  <th>const</th>         <td> 3.776e+05</td> <td> 5862.403</td> <td>   64.412</td> <td> 0.000</td> <td> 3.66e+05</td> <td> 3.89e+05</td>\n",
       "</tr>\n",
       "<tr>\n",
       "  <th>bedrooms</th>      <td>-2.633e+04</td> <td> 4043.727</td> <td>   -6.510</td> <td> 0.000</td> <td>-3.43e+04</td> <td>-1.84e+04</td>\n",
       "</tr>\n",
       "<tr>\n",
       "  <th>bathrooms</th>     <td> 2.775e+04</td> <td> 6031.195</td> <td>    4.600</td> <td> 0.000</td> <td> 1.59e+04</td> <td> 3.96e+04</td>\n",
       "</tr>\n",
       "<tr>\n",
       "  <th>sqft_living</th>   <td> 3.909e+04</td> <td> 3408.769</td> <td>   11.467</td> <td> 0.000</td> <td> 3.24e+04</td> <td> 4.58e+04</td>\n",
       "</tr>\n",
       "<tr>\n",
       "  <th>sqft_lot</th>      <td>-3605.3686</td> <td>  943.105</td> <td>   -3.823</td> <td> 0.000</td> <td>-5454.494</td> <td>-1756.243</td>\n",
       "</tr>\n",
       "<tr>\n",
       "  <th>floors</th>        <td> 5.873e+04</td> <td> 6994.461</td> <td>    8.396</td> <td> 0.000</td> <td>  4.5e+04</td> <td> 7.24e+04</td>\n",
       "</tr>\n",
       "<tr>\n",
       "  <th>condition</th>     <td>   2.3e+04</td> <td> 4457.535</td> <td>    5.161</td> <td> 0.000</td> <td> 1.43e+04</td> <td> 3.17e+04</td>\n",
       "</tr>\n",
       "<tr>\n",
       "  <th>sqft_above</th>    <td> 1.532e+05</td> <td> 3308.096</td> <td>   46.318</td> <td> 0.000</td> <td> 1.47e+05</td> <td>  1.6e+05</td>\n",
       "</tr>\n",
       "<tr>\n",
       "  <th>sqft_basement</th> <td> 7.266e+04</td> <td> 3623.797</td> <td>   20.051</td> <td> 0.000</td> <td> 6.56e+04</td> <td> 7.98e+04</td>\n",
       "</tr>\n",
       "<tr>\n",
       "  <th>yr_built</th>      <td>-8.322e+04</td> <td> 5452.425</td> <td>  -15.264</td> <td> 0.000</td> <td>-9.39e+04</td> <td>-7.25e+04</td>\n",
       "</tr>\n",
       "<tr>\n",
       "  <th>waterfront</th>    <td> 4936.2704</td> <td> 4.57e+04</td> <td>    0.108</td> <td> 0.914</td> <td>-8.47e+04</td> <td> 9.46e+04</td>\n",
       "</tr>\n",
       "<tr>\n",
       "  <th>view</th>          <td>  7.77e+04</td> <td> 1.11e+04</td> <td>    7.016</td> <td> 0.000</td> <td>  5.6e+04</td> <td> 9.94e+04</td>\n",
       "</tr>\n",
       "</table>\n",
       "<table class=\"simpletable\">\n",
       "<tr>\n",
       "  <th>Omnibus:</th>       <td>89.373</td> <th>  Durbin-Watson:     </th> <td>   1.938</td>\n",
       "</tr>\n",
       "<tr>\n",
       "  <th>Prob(Omnibus):</th> <td> 0.000</td> <th>  Jarque-Bera (JB):  </th> <td> 114.682</td>\n",
       "</tr>\n",
       "<tr>\n",
       "  <th>Skew:</th>          <td> 0.321</td> <th>  Prob(JB):          </th> <td>1.25e-25</td>\n",
       "</tr>\n",
       "<tr>\n",
       "  <th>Kurtosis:</th>      <td> 3.644</td> <th>  Cond. No.          </th> <td>6.53e+15</td>\n",
       "</tr>\n",
       "</table><br/><br/>Notes:<br/>[1] Standard Errors assume that the covariance matrix of the errors is correctly specified.<br/>[2] The smallest eigenvalue is 7.44e-28. This might indicate that there are<br/>strong multicollinearity problems or that the design matrix is singular."
      ],
      "text/plain": [
       "<class 'statsmodels.iolib.summary.Summary'>\n",
       "\"\"\"\n",
       "                            OLS Regression Results                            \n",
       "==============================================================================\n",
       "Dep. Variable:                  price   R-squared:                       0.460\n",
       "Model:                            OLS   Adj. R-squared:                  0.458\n",
       "Method:                 Least Squares   F-statistic:                     283.1\n",
       "Date:                Fri, 25 Mar 2022   Prob (F-statistic):               0.00\n",
       "Time:                        15:24:10   Log-Likelihood:                -44524.\n",
       "No. Observations:                3333   AIC:                         8.907e+04\n",
       "Df Residuals:                    3322   BIC:                         8.914e+04\n",
       "Df Model:                          10                                         \n",
       "Covariance Type:            nonrobust                                         \n",
       "=================================================================================\n",
       "                    coef    std err          t      P>|t|      [0.025      0.975]\n",
       "---------------------------------------------------------------------------------\n",
       "const          3.776e+05   5862.403     64.412      0.000    3.66e+05    3.89e+05\n",
       "bedrooms      -2.633e+04   4043.727     -6.510      0.000   -3.43e+04   -1.84e+04\n",
       "bathrooms      2.775e+04   6031.195      4.600      0.000    1.59e+04    3.96e+04\n",
       "sqft_living    3.909e+04   3408.769     11.467      0.000    3.24e+04    4.58e+04\n",
       "sqft_lot      -3605.3686    943.105     -3.823      0.000   -5454.494   -1756.243\n",
       "floors         5.873e+04   6994.461      8.396      0.000     4.5e+04    7.24e+04\n",
       "condition        2.3e+04   4457.535      5.161      0.000    1.43e+04    3.17e+04\n",
       "sqft_above     1.532e+05   3308.096     46.318      0.000    1.47e+05     1.6e+05\n",
       "sqft_basement  7.266e+04   3623.797     20.051      0.000    6.56e+04    7.98e+04\n",
       "yr_built      -8.322e+04   5452.425    -15.264      0.000   -9.39e+04   -7.25e+04\n",
       "waterfront     4936.2704   4.57e+04      0.108      0.914   -8.47e+04    9.46e+04\n",
       "view            7.77e+04   1.11e+04      7.016      0.000     5.6e+04    9.94e+04\n",
       "==============================================================================\n",
       "Omnibus:                       89.373   Durbin-Watson:                   1.938\n",
       "Prob(Omnibus):                  0.000   Jarque-Bera (JB):              114.682\n",
       "Skew:                           0.321   Prob(JB):                     1.25e-25\n",
       "Kurtosis:                       3.644   Cond. No.                     6.53e+15\n",
       "==============================================================================\n",
       "\n",
       "Notes:\n",
       "[1] Standard Errors assume that the covariance matrix of the errors is correctly specified.\n",
       "[2] The smallest eigenvalue is 7.44e-28. This might indicate that there are\n",
       "strong multicollinearity problems or that the design matrix is singular.\n",
       "\"\"\""
      ]
     },
     "execution_count": 62,
     "metadata": {},
     "output_type": "execute_result"
    }
   ],
   "source": [
    "# R2 and Adj. R2 is the same as before. \n",
    "# We did well by removing it out, because it's always better to keep the equation simple.\n",
    "\n",
    "X = sm.add_constant(x_train_pv)\n",
    "results = sm.OLS(y_train, X).fit()\n",
    "\n",
    "results.summary()"
   ]
  },
  {
   "cell_type": "markdown",
   "id": "08594130",
   "metadata": {
    "papermill": {
     "duration": 0.13768,
     "end_time": "2022-03-25T15:24:10.577234",
     "exception": false,
     "start_time": "2022-03-25T15:24:10.439554",
     "status": "completed"
    },
    "tags": []
   },
   "source": [
    "# Encoding the Categorical Variables\n",
    "\n",
    "We have developed our model quite well, but I would like to enrich it a bit more by adding some categorical variables. To do this we need to transform categorical data into appropriate numeric values, there is no single method how to approach this issue. Fortunately, python tools of pandas and scikit-learn provide several approaches that can be implemented. \n",
    "\n",
    "Here some methods that can be used:\n",
    "\n",
    "**One-Hot Encoding**\n",
    "One-Hot Encoding gets each group of any categorical variable a new variable by mapping each group to binary numbers (0 or 1). Used when data is nominal. Newly created binary properties can be considered as dummy variables.<br>\n",
    "**Dummy Encoding**\n",
    "The Dummy encoding scheme is similar to one-hot encoding. In the case of one-hot encoding, it uses N binary variables for N categories in a variable. Dummy encoding is a minor improvement over one-hot encoding, it uses N-1 properties to represent N tags/categories.<br>\n",
    "**Effect Encoding**\n",
    "When applying this encoding type, the categories are given values in the format -1,0,1. The -1 occurrence is the only difference between One-Hot encoding and effects encoding.<br>\n",
    "**Label Encoding or Ordinal Encoding**\n",
    "This type of encoding is used when the variables in the data are ordinal. It converts each label to integer values, and the encoded data represents the label array."
   ]
  },
  {
   "cell_type": "code",
   "execution_count": 63,
   "id": "7fcedc62",
   "metadata": {
    "execution": {
     "iopub.execute_input": "2022-03-25T15:24:10.861092Z",
     "iopub.status.busy": "2022-03-25T15:24:10.860434Z",
     "iopub.status.idle": "2022-03-25T15:24:10.862761Z",
     "shell.execute_reply": "2022-03-25T15:24:10.863309Z",
     "shell.execute_reply.started": "2022-03-24T13:52:35.58286Z"
    },
    "papermill": {
     "duration": 0.146823,
     "end_time": "2022-03-25T15:24:10.863477",
     "exception": false,
     "start_time": "2022-03-25T15:24:10.716654",
     "status": "completed"
    },
    "tags": []
   },
   "outputs": [],
   "source": [
    "data_wd = data9.drop(['date', 'street', 'statezip', 'country'], axis=1)"
   ]
  },
  {
   "cell_type": "code",
   "execution_count": 64,
   "id": "55af8e70",
   "metadata": {
    "execution": {
     "iopub.execute_input": "2022-03-25T15:24:11.143692Z",
     "iopub.status.busy": "2022-03-25T15:24:11.143052Z",
     "iopub.status.idle": "2022-03-25T15:24:11.164458Z",
     "shell.execute_reply": "2022-03-25T15:24:11.164988Z",
     "shell.execute_reply.started": "2022-03-24T13:52:35.595228Z"
    },
    "papermill": {
     "duration": 0.163015,
     "end_time": "2022-03-25T15:24:11.165158",
     "exception": false,
     "start_time": "2022-03-25T15:24:11.002143",
     "status": "completed"
    },
    "tags": []
   },
   "outputs": [
    {
     "data": {
      "text/html": [
       "<div>\n",
       "<style scoped>\n",
       "    .dataframe tbody tr th:only-of-type {\n",
       "        vertical-align: middle;\n",
       "    }\n",
       "\n",
       "    .dataframe tbody tr th {\n",
       "        vertical-align: top;\n",
       "    }\n",
       "\n",
       "    .dataframe thead th {\n",
       "        text-align: right;\n",
       "    }\n",
       "</style>\n",
       "<table border=\"1\" class=\"dataframe\">\n",
       "  <thead>\n",
       "    <tr style=\"text-align: right;\">\n",
       "      <th></th>\n",
       "      <th>Auburn</th>\n",
       "      <th>Beaux Arts Village</th>\n",
       "      <th>Bellevue</th>\n",
       "      <th>Black Diamond</th>\n",
       "      <th>Bothell</th>\n",
       "      <th>Burien</th>\n",
       "      <th>Carnation</th>\n",
       "      <th>Clyde Hill</th>\n",
       "      <th>Covington</th>\n",
       "      <th>Des Moines</th>\n",
       "      <th>...</th>\n",
       "      <th>SeaTac</th>\n",
       "      <th>Seattle</th>\n",
       "      <th>Shoreline</th>\n",
       "      <th>Skykomish</th>\n",
       "      <th>Snoqualmie</th>\n",
       "      <th>Snoqualmie Pass</th>\n",
       "      <th>Tukwila</th>\n",
       "      <th>Vashon</th>\n",
       "      <th>Woodinville</th>\n",
       "      <th>Yarrow Point</th>\n",
       "    </tr>\n",
       "  </thead>\n",
       "  <tbody>\n",
       "    <tr>\n",
       "      <th>0</th>\n",
       "      <td>0</td>\n",
       "      <td>0</td>\n",
       "      <td>0</td>\n",
       "      <td>0</td>\n",
       "      <td>0</td>\n",
       "      <td>0</td>\n",
       "      <td>0</td>\n",
       "      <td>0</td>\n",
       "      <td>0</td>\n",
       "      <td>0</td>\n",
       "      <td>...</td>\n",
       "      <td>0</td>\n",
       "      <td>0</td>\n",
       "      <td>1</td>\n",
       "      <td>0</td>\n",
       "      <td>0</td>\n",
       "      <td>0</td>\n",
       "      <td>0</td>\n",
       "      <td>0</td>\n",
       "      <td>0</td>\n",
       "      <td>0</td>\n",
       "    </tr>\n",
       "    <tr>\n",
       "      <th>2</th>\n",
       "      <td>0</td>\n",
       "      <td>0</td>\n",
       "      <td>0</td>\n",
       "      <td>0</td>\n",
       "      <td>0</td>\n",
       "      <td>0</td>\n",
       "      <td>0</td>\n",
       "      <td>0</td>\n",
       "      <td>0</td>\n",
       "      <td>0</td>\n",
       "      <td>...</td>\n",
       "      <td>0</td>\n",
       "      <td>0</td>\n",
       "      <td>0</td>\n",
       "      <td>0</td>\n",
       "      <td>0</td>\n",
       "      <td>0</td>\n",
       "      <td>0</td>\n",
       "      <td>0</td>\n",
       "      <td>0</td>\n",
       "      <td>0</td>\n",
       "    </tr>\n",
       "    <tr>\n",
       "      <th>3</th>\n",
       "      <td>0</td>\n",
       "      <td>0</td>\n",
       "      <td>1</td>\n",
       "      <td>0</td>\n",
       "      <td>0</td>\n",
       "      <td>0</td>\n",
       "      <td>0</td>\n",
       "      <td>0</td>\n",
       "      <td>0</td>\n",
       "      <td>0</td>\n",
       "      <td>...</td>\n",
       "      <td>0</td>\n",
       "      <td>0</td>\n",
       "      <td>0</td>\n",
       "      <td>0</td>\n",
       "      <td>0</td>\n",
       "      <td>0</td>\n",
       "      <td>0</td>\n",
       "      <td>0</td>\n",
       "      <td>0</td>\n",
       "      <td>0</td>\n",
       "    </tr>\n",
       "    <tr>\n",
       "      <th>4</th>\n",
       "      <td>0</td>\n",
       "      <td>0</td>\n",
       "      <td>0</td>\n",
       "      <td>0</td>\n",
       "      <td>0</td>\n",
       "      <td>0</td>\n",
       "      <td>0</td>\n",
       "      <td>0</td>\n",
       "      <td>0</td>\n",
       "      <td>0</td>\n",
       "      <td>...</td>\n",
       "      <td>0</td>\n",
       "      <td>0</td>\n",
       "      <td>0</td>\n",
       "      <td>0</td>\n",
       "      <td>0</td>\n",
       "      <td>0</td>\n",
       "      <td>0</td>\n",
       "      <td>0</td>\n",
       "      <td>0</td>\n",
       "      <td>0</td>\n",
       "    </tr>\n",
       "    <tr>\n",
       "      <th>5</th>\n",
       "      <td>0</td>\n",
       "      <td>0</td>\n",
       "      <td>0</td>\n",
       "      <td>0</td>\n",
       "      <td>0</td>\n",
       "      <td>0</td>\n",
       "      <td>0</td>\n",
       "      <td>0</td>\n",
       "      <td>0</td>\n",
       "      <td>0</td>\n",
       "      <td>...</td>\n",
       "      <td>0</td>\n",
       "      <td>1</td>\n",
       "      <td>0</td>\n",
       "      <td>0</td>\n",
       "      <td>0</td>\n",
       "      <td>0</td>\n",
       "      <td>0</td>\n",
       "      <td>0</td>\n",
       "      <td>0</td>\n",
       "      <td>0</td>\n",
       "    </tr>\n",
       "    <tr>\n",
       "      <th>...</th>\n",
       "      <td>...</td>\n",
       "      <td>...</td>\n",
       "      <td>...</td>\n",
       "      <td>...</td>\n",
       "      <td>...</td>\n",
       "      <td>...</td>\n",
       "      <td>...</td>\n",
       "      <td>...</td>\n",
       "      <td>...</td>\n",
       "      <td>...</td>\n",
       "      <td>...</td>\n",
       "      <td>...</td>\n",
       "      <td>...</td>\n",
       "      <td>...</td>\n",
       "      <td>...</td>\n",
       "      <td>...</td>\n",
       "      <td>...</td>\n",
       "      <td>...</td>\n",
       "      <td>...</td>\n",
       "      <td>...</td>\n",
       "      <td>...</td>\n",
       "    </tr>\n",
       "    <tr>\n",
       "      <th>4595</th>\n",
       "      <td>0</td>\n",
       "      <td>0</td>\n",
       "      <td>0</td>\n",
       "      <td>0</td>\n",
       "      <td>0</td>\n",
       "      <td>0</td>\n",
       "      <td>0</td>\n",
       "      <td>0</td>\n",
       "      <td>0</td>\n",
       "      <td>0</td>\n",
       "      <td>...</td>\n",
       "      <td>0</td>\n",
       "      <td>1</td>\n",
       "      <td>0</td>\n",
       "      <td>0</td>\n",
       "      <td>0</td>\n",
       "      <td>0</td>\n",
       "      <td>0</td>\n",
       "      <td>0</td>\n",
       "      <td>0</td>\n",
       "      <td>0</td>\n",
       "    </tr>\n",
       "    <tr>\n",
       "      <th>4596</th>\n",
       "      <td>0</td>\n",
       "      <td>0</td>\n",
       "      <td>1</td>\n",
       "      <td>0</td>\n",
       "      <td>0</td>\n",
       "      <td>0</td>\n",
       "      <td>0</td>\n",
       "      <td>0</td>\n",
       "      <td>0</td>\n",
       "      <td>0</td>\n",
       "      <td>...</td>\n",
       "      <td>0</td>\n",
       "      <td>0</td>\n",
       "      <td>0</td>\n",
       "      <td>0</td>\n",
       "      <td>0</td>\n",
       "      <td>0</td>\n",
       "      <td>0</td>\n",
       "      <td>0</td>\n",
       "      <td>0</td>\n",
       "      <td>0</td>\n",
       "    </tr>\n",
       "    <tr>\n",
       "      <th>4597</th>\n",
       "      <td>0</td>\n",
       "      <td>0</td>\n",
       "      <td>0</td>\n",
       "      <td>0</td>\n",
       "      <td>0</td>\n",
       "      <td>0</td>\n",
       "      <td>0</td>\n",
       "      <td>0</td>\n",
       "      <td>0</td>\n",
       "      <td>0</td>\n",
       "      <td>...</td>\n",
       "      <td>0</td>\n",
       "      <td>0</td>\n",
       "      <td>0</td>\n",
       "      <td>0</td>\n",
       "      <td>0</td>\n",
       "      <td>0</td>\n",
       "      <td>0</td>\n",
       "      <td>0</td>\n",
       "      <td>0</td>\n",
       "      <td>0</td>\n",
       "    </tr>\n",
       "    <tr>\n",
       "      <th>4598</th>\n",
       "      <td>0</td>\n",
       "      <td>0</td>\n",
       "      <td>0</td>\n",
       "      <td>0</td>\n",
       "      <td>0</td>\n",
       "      <td>0</td>\n",
       "      <td>0</td>\n",
       "      <td>0</td>\n",
       "      <td>0</td>\n",
       "      <td>0</td>\n",
       "      <td>...</td>\n",
       "      <td>0</td>\n",
       "      <td>1</td>\n",
       "      <td>0</td>\n",
       "      <td>0</td>\n",
       "      <td>0</td>\n",
       "      <td>0</td>\n",
       "      <td>0</td>\n",
       "      <td>0</td>\n",
       "      <td>0</td>\n",
       "      <td>0</td>\n",
       "    </tr>\n",
       "    <tr>\n",
       "      <th>4599</th>\n",
       "      <td>0</td>\n",
       "      <td>0</td>\n",
       "      <td>0</td>\n",
       "      <td>0</td>\n",
       "      <td>0</td>\n",
       "      <td>0</td>\n",
       "      <td>0</td>\n",
       "      <td>0</td>\n",
       "      <td>1</td>\n",
       "      <td>0</td>\n",
       "      <td>...</td>\n",
       "      <td>0</td>\n",
       "      <td>0</td>\n",
       "      <td>0</td>\n",
       "      <td>0</td>\n",
       "      <td>0</td>\n",
       "      <td>0</td>\n",
       "      <td>0</td>\n",
       "      <td>0</td>\n",
       "      <td>0</td>\n",
       "      <td>0</td>\n",
       "    </tr>\n",
       "  </tbody>\n",
       "</table>\n",
       "<p>4167 rows × 43 columns</p>\n",
       "</div>"
      ],
      "text/plain": [
       "      Auburn  Beaux Arts Village  Bellevue  Black Diamond  Bothell  Burien  \\\n",
       "0          0                   0         0              0        0       0   \n",
       "2          0                   0         0              0        0       0   \n",
       "3          0                   0         1              0        0       0   \n",
       "4          0                   0         0              0        0       0   \n",
       "5          0                   0         0              0        0       0   \n",
       "...      ...                 ...       ...            ...      ...     ...   \n",
       "4595       0                   0         0              0        0       0   \n",
       "4596       0                   0         1              0        0       0   \n",
       "4597       0                   0         0              0        0       0   \n",
       "4598       0                   0         0              0        0       0   \n",
       "4599       0                   0         0              0        0       0   \n",
       "\n",
       "      Carnation  Clyde Hill  Covington  Des Moines  ...  SeaTac  Seattle  \\\n",
       "0             0           0          0           0  ...       0        0   \n",
       "2             0           0          0           0  ...       0        0   \n",
       "3             0           0          0           0  ...       0        0   \n",
       "4             0           0          0           0  ...       0        0   \n",
       "5             0           0          0           0  ...       0        1   \n",
       "...         ...         ...        ...         ...  ...     ...      ...   \n",
       "4595          0           0          0           0  ...       0        1   \n",
       "4596          0           0          0           0  ...       0        0   \n",
       "4597          0           0          0           0  ...       0        0   \n",
       "4598          0           0          0           0  ...       0        1   \n",
       "4599          0           0          1           0  ...       0        0   \n",
       "\n",
       "      Shoreline  Skykomish  Snoqualmie  Snoqualmie Pass  Tukwila  Vashon  \\\n",
       "0             1          0           0                0        0       0   \n",
       "2             0          0           0                0        0       0   \n",
       "3             0          0           0                0        0       0   \n",
       "4             0          0           0                0        0       0   \n",
       "5             0          0           0                0        0       0   \n",
       "...         ...        ...         ...              ...      ...     ...   \n",
       "4595          0          0           0                0        0       0   \n",
       "4596          0          0           0                0        0       0   \n",
       "4597          0          0           0                0        0       0   \n",
       "4598          0          0           0                0        0       0   \n",
       "4599          0          0           0                0        0       0   \n",
       "\n",
       "      Woodinville  Yarrow Point  \n",
       "0               0             0  \n",
       "2               0             0  \n",
       "3               0             0  \n",
       "4               0             0  \n",
       "5               0             0  \n",
       "...           ...           ...  \n",
       "4595            0             0  \n",
       "4596            0             0  \n",
       "4597            0             0  \n",
       "4598            0             0  \n",
       "4599            0             0  \n",
       "\n",
       "[4167 rows x 43 columns]"
      ]
     },
     "execution_count": 64,
     "metadata": {},
     "output_type": "execute_result"
    }
   ],
   "source": [
    "# Get_dummies is one of the common ways to create dummy variables for categorical features\n",
    "\n",
    "city_dummies = pd.get_dummies(data_wd.city, drop_first = True)\n",
    "city_dummies"
   ]
  },
  {
   "cell_type": "code",
   "execution_count": 65,
   "id": "b3b2f7d6",
   "metadata": {
    "execution": {
     "iopub.execute_input": "2022-03-25T15:24:11.447872Z",
     "iopub.status.busy": "2022-03-25T15:24:11.447249Z",
     "iopub.status.idle": "2022-03-25T15:24:11.467059Z",
     "shell.execute_reply": "2022-03-25T15:24:11.467608Z",
     "shell.execute_reply.started": "2022-03-24T13:52:35.640013Z"
    },
    "papermill": {
     "duration": 0.162934,
     "end_time": "2022-03-25T15:24:11.467771",
     "exception": false,
     "start_time": "2022-03-25T15:24:11.304837",
     "status": "completed"
    },
    "tags": []
   },
   "outputs": [
    {
     "data": {
      "text/html": [
       "<div>\n",
       "<style scoped>\n",
       "    .dataframe tbody tr th:only-of-type {\n",
       "        vertical-align: middle;\n",
       "    }\n",
       "\n",
       "    .dataframe tbody tr th {\n",
       "        vertical-align: top;\n",
       "    }\n",
       "\n",
       "    .dataframe thead th {\n",
       "        text-align: right;\n",
       "    }\n",
       "</style>\n",
       "<table border=\"1\" class=\"dataframe\">\n",
       "  <thead>\n",
       "    <tr style=\"text-align: right;\">\n",
       "      <th></th>\n",
       "      <th>bedrooms</th>\n",
       "      <th>bathrooms</th>\n",
       "      <th>sqft_living</th>\n",
       "      <th>sqft_lot</th>\n",
       "      <th>floors</th>\n",
       "      <th>waterfront</th>\n",
       "      <th>view</th>\n",
       "      <th>condition</th>\n",
       "      <th>sqft_above</th>\n",
       "      <th>sqft_basement</th>\n",
       "      <th>...</th>\n",
       "      <th>SeaTac</th>\n",
       "      <th>Seattle</th>\n",
       "      <th>Shoreline</th>\n",
       "      <th>Skykomish</th>\n",
       "      <th>Snoqualmie</th>\n",
       "      <th>Snoqualmie Pass</th>\n",
       "      <th>Tukwila</th>\n",
       "      <th>Vashon</th>\n",
       "      <th>Woodinville</th>\n",
       "      <th>Yarrow Point</th>\n",
       "    </tr>\n",
       "  </thead>\n",
       "  <tbody>\n",
       "    <tr>\n",
       "      <th>0</th>\n",
       "      <td>3.0</td>\n",
       "      <td>1</td>\n",
       "      <td>1340</td>\n",
       "      <td>7912</td>\n",
       "      <td>1</td>\n",
       "      <td>0</td>\n",
       "      <td>0</td>\n",
       "      <td>3</td>\n",
       "      <td>1340</td>\n",
       "      <td>0</td>\n",
       "      <td>...</td>\n",
       "      <td>0</td>\n",
       "      <td>0</td>\n",
       "      <td>1</td>\n",
       "      <td>0</td>\n",
       "      <td>0</td>\n",
       "      <td>0</td>\n",
       "      <td>0</td>\n",
       "      <td>0</td>\n",
       "      <td>0</td>\n",
       "      <td>0</td>\n",
       "    </tr>\n",
       "    <tr>\n",
       "      <th>2</th>\n",
       "      <td>3.0</td>\n",
       "      <td>2</td>\n",
       "      <td>1930</td>\n",
       "      <td>11947</td>\n",
       "      <td>1</td>\n",
       "      <td>0</td>\n",
       "      <td>0</td>\n",
       "      <td>4</td>\n",
       "      <td>1930</td>\n",
       "      <td>0</td>\n",
       "      <td>...</td>\n",
       "      <td>0</td>\n",
       "      <td>0</td>\n",
       "      <td>0</td>\n",
       "      <td>0</td>\n",
       "      <td>0</td>\n",
       "      <td>0</td>\n",
       "      <td>0</td>\n",
       "      <td>0</td>\n",
       "      <td>0</td>\n",
       "      <td>0</td>\n",
       "    </tr>\n",
       "  </tbody>\n",
       "</table>\n",
       "<p>2 rows × 55 columns</p>\n",
       "</div>"
      ],
      "text/plain": [
       "   bedrooms  bathrooms  sqft_living  sqft_lot  floors  waterfront  view  \\\n",
       "0       3.0          1         1340      7912       1           0     0   \n",
       "2       3.0          2         1930     11947       1           0     0   \n",
       "\n",
       "   condition  sqft_above  sqft_basement  ...  SeaTac  Seattle  Shoreline  \\\n",
       "0          3        1340              0  ...       0        0          1   \n",
       "2          4        1930              0  ...       0        0          0   \n",
       "\n",
       "   Skykomish  Snoqualmie  Snoqualmie Pass  Tukwila  Vashon  Woodinville  \\\n",
       "0          0           0                0        0       0            0   \n",
       "2          0           0                0        0       0            0   \n",
       "\n",
       "   Yarrow Point  \n",
       "0             0  \n",
       "2             0  \n",
       "\n",
       "[2 rows x 55 columns]"
      ]
     },
     "execution_count": 65,
     "metadata": {},
     "output_type": "execute_result"
    }
   ],
   "source": [
    "# Let's define the variables one more time.\n",
    "\n",
    "targets = data_wd.iloc[:,:1]\n",
    "\n",
    "a = data_wd.drop(['price','city'], axis = 1)\n",
    "unscaled_inputs_wd = pd.concat([a, city_dummies], axis=1)\n",
    "unscaled_inputs_wd.head(2)"
   ]
  },
  {
   "cell_type": "code",
   "execution_count": 66,
   "id": "88498132",
   "metadata": {
    "execution": {
     "iopub.execute_input": "2022-03-25T15:24:11.751715Z",
     "iopub.status.busy": "2022-03-25T15:24:11.751036Z",
     "iopub.status.idle": "2022-03-25T15:24:11.760976Z",
     "shell.execute_reply": "2022-03-25T15:24:11.760449Z",
     "shell.execute_reply.started": "2022-03-24T13:52:35.677821Z"
    },
    "papermill": {
     "duration": 0.153411,
     "end_time": "2022-03-25T15:24:11.761111",
     "exception": false,
     "start_time": "2022-03-25T15:24:11.607700",
     "status": "completed"
    },
    "tags": []
   },
   "outputs": [
    {
     "name": "stdout",
     "output_type": "stream",
     "text": [
      "(3333, 55) (834, 55) (3333, 1) (834, 1)\n"
     ]
    }
   ],
   "source": [
    "# Split the targets and inputs into train-test data again.\n",
    "\n",
    "x_train, x_test, y_train, y_test = train_test_split(unscaled_inputs_wd, targets, test_size=0.2, random_state = 42)\n",
    "\n",
    "print(x_train.shape, x_test.shape, y_train.shape, y_test.shape)"
   ]
  },
  {
   "cell_type": "code",
   "execution_count": 67,
   "id": "7da3b7f9",
   "metadata": {
    "execution": {
     "iopub.execute_input": "2022-03-25T15:24:12.054779Z",
     "iopub.status.busy": "2022-03-25T15:24:12.054047Z",
     "iopub.status.idle": "2022-03-25T15:24:12.057782Z",
     "shell.execute_reply": "2022-03-25T15:24:12.058383Z",
     "shell.execute_reply.started": "2022-03-24T13:52:35.693344Z"
    },
    "papermill": {
     "duration": 0.155582,
     "end_time": "2022-03-25T15:24:12.058558",
     "exception": false,
     "start_time": "2022-03-25T15:24:11.902976",
     "status": "completed"
    },
    "tags": []
   },
   "outputs": [
    {
     "data": {
      "text/plain": [
       "array(['bedrooms', 'bathrooms', 'sqft_living', 'sqft_lot', 'floors',\n",
       "       'waterfront', 'view', 'condition', 'sqft_above', 'sqft_basement',\n",
       "       'yr_built', 'yr_renovated', 'Auburn', 'Beaux Arts Village',\n",
       "       'Bellevue', 'Black Diamond', 'Bothell', 'Burien', 'Carnation',\n",
       "       'Clyde Hill', 'Covington', 'Des Moines', 'Duvall', 'Enumclaw',\n",
       "       'Fall City', 'Federal Way', 'Inglewood-Finn Hill', 'Issaquah',\n",
       "       'Kenmore', 'Kent', 'Kirkland', 'Lake Forest Park', 'Maple Valley',\n",
       "       'Medina', 'Mercer Island', 'Milton', 'Newcastle', 'Normandy Park',\n",
       "       'North Bend', 'Pacific', 'Preston', 'Ravensdale', 'Redmond',\n",
       "       'Renton', 'Sammamish', 'SeaTac', 'Seattle', 'Shoreline',\n",
       "       'Skykomish', 'Snoqualmie', 'Snoqualmie Pass', 'Tukwila', 'Vashon',\n",
       "       'Woodinville', 'Yarrow Point'], dtype=object)"
      ]
     },
     "execution_count": 67,
     "metadata": {},
     "output_type": "execute_result"
    }
   ],
   "source": [
    "x_train.columns.values"
   ]
  },
  {
   "cell_type": "code",
   "execution_count": 68,
   "id": "fa58bb47",
   "metadata": {
    "execution": {
     "iopub.execute_input": "2022-03-25T15:24:12.359540Z",
     "iopub.status.busy": "2022-03-25T15:24:12.358843Z",
     "iopub.status.idle": "2022-03-25T15:24:12.364235Z",
     "shell.execute_reply": "2022-03-25T15:24:12.364856Z",
     "shell.execute_reply.started": "2022-03-24T13:52:35.703483Z"
    },
    "papermill": {
     "duration": 0.161583,
     "end_time": "2022-03-25T15:24:12.365043",
     "exception": false,
     "start_time": "2022-03-25T15:24:12.203460",
     "status": "completed"
    },
    "tags": []
   },
   "outputs": [],
   "source": [
    "columns_to_scale = ['bedrooms', 'bathrooms', 'sqft_living', 'sqft_lot', 'floors', 'condition', 'sqft_above', 'sqft_basement',\n",
    "       'yr_built']\n",
    "columns_to_omit = ['waterfront','view','yr_renovated', 'Auburn', 'Beaux Arts Village',\n",
    "       'Bellevue', 'Black Diamond', 'Bothell', 'Burien', 'Carnation',\n",
    "       'Clyde Hill', 'Covington', 'Des Moines', 'Duvall', 'Enumclaw',\n",
    "       'Fall City', 'Federal Way', 'Inglewood-Finn Hill', 'Issaquah',\n",
    "       'Kenmore', 'Kent', 'Kirkland', 'Lake Forest Park', 'Maple Valley',\n",
    "       'Medina', 'Mercer Island', 'Milton', 'Newcastle', 'Normandy Park',\n",
    "       'North Bend', 'Pacific', 'Preston', 'Ravensdale', 'Redmond',\n",
    "       'Renton', 'Sammamish', 'SeaTac', 'Seattle', 'Shoreline',\n",
    "       'Skykomish', 'Snoqualmie', 'Snoqualmie Pass', 'Tukwila', 'Vashon',\n",
    "       'Woodinville', 'Yarrow Point']\n",
    "x_train_to_scale = x_train[columns_to_scale]\n",
    "x_test_to_scale = x_test[columns_to_scale]\n",
    "x_train_not_to_scale = x_train[columns_to_omit].reset_index(drop=True)\n",
    "x_test_not_to_scale = x_test[columns_to_omit].reset_index(drop=True)"
   ]
  },
  {
   "cell_type": "code",
   "execution_count": 69,
   "id": "52941710",
   "metadata": {
    "execution": {
     "iopub.execute_input": "2022-03-25T15:24:12.653485Z",
     "iopub.status.busy": "2022-03-25T15:24:12.652816Z",
     "iopub.status.idle": "2022-03-25T15:24:12.654230Z",
     "shell.execute_reply": "2022-03-25T15:24:12.654778Z",
     "shell.execute_reply.started": "2022-03-24T13:52:35.721768Z"
    },
    "papermill": {
     "duration": 0.148725,
     "end_time": "2022-03-25T15:24:12.654957",
     "exception": false,
     "start_time": "2022-03-25T15:24:12.506232",
     "status": "completed"
    },
    "tags": []
   },
   "outputs": [],
   "source": [
    "# Scale as before\n",
    "\n",
    "scaler = RobustScaler()"
   ]
  },
  {
   "cell_type": "code",
   "execution_count": 70,
   "id": "3a7d58db",
   "metadata": {
    "execution": {
     "iopub.execute_input": "2022-03-25T15:24:12.946171Z",
     "iopub.status.busy": "2022-03-25T15:24:12.945464Z",
     "iopub.status.idle": "2022-03-25T15:24:12.957797Z",
     "shell.execute_reply": "2022-03-25T15:24:12.958585Z",
     "shell.execute_reply.started": "2022-03-24T13:52:35.728659Z"
    },
    "papermill": {
     "duration": 0.158586,
     "end_time": "2022-03-25T15:24:12.958824",
     "exception": false,
     "start_time": "2022-03-25T15:24:12.800238",
     "status": "completed"
    },
    "tags": []
   },
   "outputs": [
    {
     "data": {
      "text/plain": [
       "RobustScaler()"
      ]
     },
     "execution_count": 70,
     "metadata": {},
     "output_type": "execute_result"
    }
   ],
   "source": [
    "scaler.fit(x_train_to_scale)"
   ]
  },
  {
   "cell_type": "code",
   "execution_count": 71,
   "id": "068205e1",
   "metadata": {
    "execution": {
     "iopub.execute_input": "2022-03-25T15:24:13.270667Z",
     "iopub.status.busy": "2022-03-25T15:24:13.269546Z",
     "iopub.status.idle": "2022-03-25T15:24:13.275447Z",
     "shell.execute_reply": "2022-03-25T15:24:13.276038Z",
     "shell.execute_reply.started": "2022-03-24T13:52:35.74741Z"
    },
    "papermill": {
     "duration": 0.152615,
     "end_time": "2022-03-25T15:24:13.276213",
     "exception": false,
     "start_time": "2022-03-25T15:24:13.123598",
     "status": "completed"
    },
    "tags": []
   },
   "outputs": [],
   "source": [
    "x_train_scaled = scaler.transform(x_train_to_scale)"
   ]
  },
  {
   "cell_type": "code",
   "execution_count": 72,
   "id": "91a586a3",
   "metadata": {
    "execution": {
     "iopub.execute_input": "2022-03-25T15:24:13.563645Z",
     "iopub.status.busy": "2022-03-25T15:24:13.562993Z",
     "iopub.status.idle": "2022-03-25T15:24:13.567136Z",
     "shell.execute_reply": "2022-03-25T15:24:13.566661Z",
     "shell.execute_reply.started": "2022-03-24T13:52:35.758697Z"
    },
    "papermill": {
     "duration": 0.149809,
     "end_time": "2022-03-25T15:24:13.567270",
     "exception": false,
     "start_time": "2022-03-25T15:24:13.417461",
     "status": "completed"
    },
    "tags": []
   },
   "outputs": [],
   "source": [
    "x_test_scaled = scaler.transform(x_test_to_scale)"
   ]
  },
  {
   "cell_type": "code",
   "execution_count": 73,
   "id": "9ccd54d7",
   "metadata": {
    "execution": {
     "iopub.execute_input": "2022-03-25T15:24:13.859207Z",
     "iopub.status.busy": "2022-03-25T15:24:13.858471Z",
     "iopub.status.idle": "2022-03-25T15:24:13.861769Z",
     "shell.execute_reply": "2022-03-25T15:24:13.862303Z",
     "shell.execute_reply.started": "2022-03-24T13:52:35.771512Z"
    },
    "papermill": {
     "duration": 0.15405,
     "end_time": "2022-03-25T15:24:13.862480",
     "exception": false,
     "start_time": "2022-03-25T15:24:13.708430",
     "status": "completed"
    },
    "tags": []
   },
   "outputs": [],
   "source": [
    "x_train_scaled = pd.DataFrame(x_train_scaled, columns=columns_to_scale)\n",
    "x_train = pd.concat([x_train_scaled,x_train_not_to_scale], axis=1)\n",
    "y_train = y_train.reset_index(drop=True)\n",
    "\n",
    "x_test_scaled = pd.DataFrame(x_test_scaled, columns=columns_to_scale)\n",
    "x_test = pd.concat([x_test_scaled,x_test_not_to_scale], axis=1)\n",
    "y_test = y_test.reset_index(drop=True)"
   ]
  },
  {
   "cell_type": "markdown",
   "id": "25aca45a",
   "metadata": {
    "papermill": {
     "duration": 0.143172,
     "end_time": "2022-03-25T15:24:14.150110",
     "exception": false,
     "start_time": "2022-03-25T15:24:14.006938",
     "status": "completed"
    },
    "tags": []
   },
   "source": [
    "# Model - Linear Regression"
   ]
  },
  {
   "cell_type": "code",
   "execution_count": 74,
   "id": "a2df8b18",
   "metadata": {
    "execution": {
     "iopub.execute_input": "2022-03-25T15:24:14.436754Z",
     "iopub.status.busy": "2022-03-25T15:24:14.435996Z",
     "iopub.status.idle": "2022-03-25T15:24:14.553713Z",
     "shell.execute_reply": "2022-03-25T15:24:14.554667Z",
     "shell.execute_reply.started": "2022-03-24T13:52:35.786005Z"
    },
    "papermill": {
     "duration": 0.26366,
     "end_time": "2022-03-25T15:24:14.554961",
     "exception": false,
     "start_time": "2022-03-25T15:24:14.291301",
     "status": "completed"
    },
    "tags": []
   },
   "outputs": [
    {
     "data": {
      "text/html": [
       "<table class=\"simpletable\">\n",
       "<caption>OLS Regression Results</caption>\n",
       "<tr>\n",
       "  <th>Dep. Variable:</th>          <td>price</td>      <th>  R-squared:         </th> <td>   0.695</td> \n",
       "</tr>\n",
       "<tr>\n",
       "  <th>Model:</th>                   <td>OLS</td>       <th>  Adj. R-squared:    </th> <td>   0.690</td> \n",
       "</tr>\n",
       "<tr>\n",
       "  <th>Method:</th>             <td>Least Squares</td>  <th>  F-statistic:       </th> <td>   140.9</td> \n",
       "</tr>\n",
       "<tr>\n",
       "  <th>Date:</th>             <td>Fri, 25 Mar 2022</td> <th>  Prob (F-statistic):</th>  <td>  0.00</td>  \n",
       "</tr>\n",
       "<tr>\n",
       "  <th>Time:</th>                 <td>15:24:14</td>     <th>  Log-Likelihood:    </th> <td> -43573.</td> \n",
       "</tr>\n",
       "<tr>\n",
       "  <th>No. Observations:</th>      <td>  3333</td>      <th>  AIC:               </th> <td>8.725e+04</td>\n",
       "</tr>\n",
       "<tr>\n",
       "  <th>Df Residuals:</th>          <td>  3279</td>      <th>  BIC:               </th> <td>8.758e+04</td>\n",
       "</tr>\n",
       "<tr>\n",
       "  <th>Df Model:</th>              <td>    53</td>      <th>                     </th>     <td> </td>    \n",
       "</tr>\n",
       "<tr>\n",
       "  <th>Covariance Type:</th>      <td>nonrobust</td>    <th>                     </th>     <td> </td>    \n",
       "</tr>\n",
       "</table>\n",
       "<table class=\"simpletable\">\n",
       "<tr>\n",
       "           <td></td>              <th>coef</th>     <th>std err</th>      <th>t</th>      <th>P>|t|</th>  <th>[0.025</th>    <th>0.975]</th>  \n",
       "</tr>\n",
       "<tr>\n",
       "  <th>const</th>               <td> 2.047e+05</td> <td>  6.3e+04</td> <td>    3.249</td> <td> 0.001</td> <td> 8.12e+04</td> <td> 3.28e+05</td>\n",
       "</tr>\n",
       "<tr>\n",
       "  <th>bedrooms</th>            <td>-1.432e+04</td> <td> 3100.673</td> <td>   -4.618</td> <td> 0.000</td> <td>-2.04e+04</td> <td>-8238.286</td>\n",
       "</tr>\n",
       "<tr>\n",
       "  <th>bathrooms</th>           <td>  1.88e+04</td> <td> 4613.064</td> <td>    4.076</td> <td> 0.000</td> <td> 9757.371</td> <td> 2.78e+04</td>\n",
       "</tr>\n",
       "<tr>\n",
       "  <th>sqft_living</th>         <td> 5.808e+04</td> <td> 1.13e+04</td> <td>    5.134</td> <td> 0.000</td> <td> 3.59e+04</td> <td> 8.03e+04</td>\n",
       "</tr>\n",
       "<tr>\n",
       "  <th>sqft_lot</th>            <td> 1481.3927</td> <td>  783.494</td> <td>    1.891</td> <td> 0.059</td> <td>  -54.795</td> <td> 3017.580</td>\n",
       "</tr>\n",
       "<tr>\n",
       "  <th>floors</th>              <td> 1.908e+04</td> <td> 5802.482</td> <td>    3.288</td> <td> 0.001</td> <td> 7704.522</td> <td> 3.05e+04</td>\n",
       "</tr>\n",
       "<tr>\n",
       "  <th>condition</th>           <td> 2.677e+04</td> <td> 3756.132</td> <td>    7.128</td> <td> 0.000</td> <td> 1.94e+04</td> <td> 3.41e+04</td>\n",
       "</tr>\n",
       "<tr>\n",
       "  <th>sqft_above</th>          <td> 1.241e+05</td> <td> 1.09e+04</td> <td>   11.405</td> <td> 0.000</td> <td> 1.03e+05</td> <td> 1.45e+05</td>\n",
       "</tr>\n",
       "<tr>\n",
       "  <th>sqft_basement</th>       <td> 3.534e+04</td> <td> 6480.035</td> <td>    5.454</td> <td> 0.000</td> <td> 2.26e+04</td> <td>  4.8e+04</td>\n",
       "</tr>\n",
       "<tr>\n",
       "  <th>yr_built</th>            <td>-3.068e+04</td> <td> 5029.722</td> <td>   -6.099</td> <td> 0.000</td> <td>-4.05e+04</td> <td>-2.08e+04</td>\n",
       "</tr>\n",
       "<tr>\n",
       "  <th>waterfront</th>          <td> 7.297e+04</td> <td> 3.82e+04</td> <td>    1.910</td> <td> 0.056</td> <td>-1935.788</td> <td> 1.48e+05</td>\n",
       "</tr>\n",
       "<tr>\n",
       "  <th>view</th>                <td> 8.253e+04</td> <td> 8572.967</td> <td>    9.627</td> <td> 0.000</td> <td> 6.57e+04</td> <td> 9.93e+04</td>\n",
       "</tr>\n",
       "<tr>\n",
       "  <th>yr_renovated</th>        <td> -633.9705</td> <td> 4782.545</td> <td>   -0.133</td> <td> 0.895</td> <td>   -1e+04</td> <td> 8743.106</td>\n",
       "</tr>\n",
       "<tr>\n",
       "  <th>Auburn</th>              <td> 2.539e+04</td> <td> 6.79e+04</td> <td>    0.374</td> <td> 0.708</td> <td>-1.08e+05</td> <td> 1.58e+05</td>\n",
       "</tr>\n",
       "<tr>\n",
       "  <th>Beaux Arts Village</th>  <td> 5.575e+05</td> <td> 1.34e+05</td> <td>    4.156</td> <td> 0.000</td> <td> 2.94e+05</td> <td> 8.21e+05</td>\n",
       "</tr>\n",
       "<tr>\n",
       "  <th>Bellevue</th>            <td> 3.506e+05</td> <td> 6.77e+04</td> <td>    5.181</td> <td> 0.000</td> <td> 2.18e+05</td> <td> 4.83e+05</td>\n",
       "</tr>\n",
       "<tr>\n",
       "  <th>Black Diamond</th>       <td> 1.195e+05</td> <td> 8.02e+04</td> <td>    1.490</td> <td> 0.136</td> <td>-3.78e+04</td> <td> 2.77e+05</td>\n",
       "</tr>\n",
       "<tr>\n",
       "  <th>Bothell</th>             <td> 1.592e+05</td> <td> 7.05e+04</td> <td>    2.258</td> <td> 0.024</td> <td> 2.09e+04</td> <td> 2.97e+05</td>\n",
       "</tr>\n",
       "<tr>\n",
       "  <th>Burien</th>              <td> 1.085e+05</td> <td> 6.87e+04</td> <td>    1.578</td> <td> 0.115</td> <td>-2.63e+04</td> <td> 2.43e+05</td>\n",
       "</tr>\n",
       "<tr>\n",
       "  <th>Carnation</th>           <td> 9.039e+04</td> <td> 7.37e+04</td> <td>    1.227</td> <td> 0.220</td> <td>-5.41e+04</td> <td> 2.35e+05</td>\n",
       "</tr>\n",
       "<tr>\n",
       "  <th>Clyde Hill</th>          <td> 4.544e+05</td> <td> 8.51e+04</td> <td>    5.340</td> <td> 0.000</td> <td> 2.88e+05</td> <td> 6.21e+05</td>\n",
       "</tr>\n",
       "<tr>\n",
       "  <th>Covington</th>           <td> 3.334e+04</td> <td> 6.99e+04</td> <td>    0.477</td> <td> 0.633</td> <td>-1.04e+05</td> <td>  1.7e+05</td>\n",
       "</tr>\n",
       "<tr>\n",
       "  <th>Des Moines</th>          <td>  3.98e+04</td> <td> 6.92e+04</td> <td>    0.575</td> <td> 0.565</td> <td>-9.59e+04</td> <td> 1.76e+05</td>\n",
       "</tr>\n",
       "<tr>\n",
       "  <th>Duvall</th>              <td>  1.14e+05</td> <td> 7.06e+04</td> <td>    1.615</td> <td> 0.106</td> <td>-2.44e+04</td> <td> 2.52e+05</td>\n",
       "</tr>\n",
       "<tr>\n",
       "  <th>Enumclaw</th>            <td> 8941.4019</td> <td>  7.2e+04</td> <td>    0.124</td> <td> 0.901</td> <td>-1.32e+05</td> <td>  1.5e+05</td>\n",
       "</tr>\n",
       "<tr>\n",
       "  <th>Fall City</th>           <td> 1.879e+05</td> <td> 7.78e+04</td> <td>    2.414</td> <td> 0.016</td> <td> 3.53e+04</td> <td>  3.4e+05</td>\n",
       "</tr>\n",
       "<tr>\n",
       "  <th>Federal Way</th>         <td> 3.227e+04</td> <td>  6.8e+04</td> <td>    0.475</td> <td> 0.635</td> <td>-1.01e+05</td> <td> 1.66e+05</td>\n",
       "</tr>\n",
       "<tr>\n",
       "  <th>Inglewood-Finn Hill</th> <td>-1.124e-09</td> <td> 4.93e-10</td> <td>   -2.283</td> <td> 0.023</td> <td>-2.09e-09</td> <td>-1.59e-10</td>\n",
       "</tr>\n",
       "<tr>\n",
       "  <th>Issaquah</th>            <td> 2.467e+05</td> <td> 6.79e+04</td> <td>    3.633</td> <td> 0.000</td> <td> 1.14e+05</td> <td>  3.8e+05</td>\n",
       "</tr>\n",
       "<tr>\n",
       "  <th>Kenmore</th>             <td> 1.669e+05</td> <td> 6.89e+04</td> <td>    2.421</td> <td> 0.016</td> <td> 3.17e+04</td> <td> 3.02e+05</td>\n",
       "</tr>\n",
       "<tr>\n",
       "  <th>Kent</th>                <td> 2.754e+04</td> <td> 6.78e+04</td> <td>    0.406</td> <td> 0.685</td> <td>-1.05e+05</td> <td>  1.6e+05</td>\n",
       "</tr>\n",
       "<tr>\n",
       "  <th>Kirkland</th>            <td> 2.793e+05</td> <td> 6.78e+04</td> <td>    4.120</td> <td> 0.000</td> <td> 1.46e+05</td> <td> 4.12e+05</td>\n",
       "</tr>\n",
       "<tr>\n",
       "  <th>Lake Forest Park</th>    <td> 1.869e+05</td> <td> 7.08e+04</td> <td>    2.641</td> <td> 0.008</td> <td> 4.81e+04</td> <td> 3.26e+05</td>\n",
       "</tr>\n",
       "<tr>\n",
       "  <th>Maple Valley</th>        <td> 5.116e+04</td> <td> 6.85e+04</td> <td>    0.747</td> <td> 0.455</td> <td>-8.31e+04</td> <td> 1.85e+05</td>\n",
       "</tr>\n",
       "<tr>\n",
       "  <th>Medina</th>              <td>-2.749e+05</td> <td> 1.34e+05</td> <td>   -2.046</td> <td> 0.041</td> <td>-5.38e+05</td> <td>-1.15e+04</td>\n",
       "</tr>\n",
       "<tr>\n",
       "  <th>Mercer Island</th>       <td> 4.454e+05</td> <td> 6.97e+04</td> <td>    6.390</td> <td> 0.000</td> <td> 3.09e+05</td> <td> 5.82e+05</td>\n",
       "</tr>\n",
       "<tr>\n",
       "  <th>Milton</th>              <td> 1.434e+05</td> <td> 1.06e+05</td> <td>    1.351</td> <td> 0.177</td> <td>-6.47e+04</td> <td> 3.51e+05</td>\n",
       "</tr>\n",
       "<tr>\n",
       "  <th>Newcastle</th>           <td> 2.321e+05</td> <td>  7.2e+04</td> <td>    3.222</td> <td> 0.001</td> <td> 9.09e+04</td> <td> 3.73e+05</td>\n",
       "</tr>\n",
       "<tr>\n",
       "  <th>Normandy Park</th>       <td> 1.689e+05</td> <td> 7.45e+04</td> <td>    2.268</td> <td> 0.023</td> <td> 2.29e+04</td> <td> 3.15e+05</td>\n",
       "</tr>\n",
       "<tr>\n",
       "  <th>North Bend</th>          <td> 1.167e+05</td> <td> 6.97e+04</td> <td>    1.674</td> <td> 0.094</td> <td>   -2e+04</td> <td> 2.53e+05</td>\n",
       "</tr>\n",
       "<tr>\n",
       "  <th>Pacific</th>             <td> 5.007e+04</td> <td> 8.22e+04</td> <td>    0.609</td> <td> 0.542</td> <td>-1.11e+05</td> <td> 2.11e+05</td>\n",
       "</tr>\n",
       "<tr>\n",
       "  <th>Preston</th>             <td> 1.593e+05</td> <td> 1.34e+05</td> <td>    1.185</td> <td> 0.236</td> <td>-1.04e+05</td> <td> 4.23e+05</td>\n",
       "</tr>\n",
       "<tr>\n",
       "  <th>Ravensdale</th>          <td> 6.214e+04</td> <td> 1.06e+05</td> <td>    0.585</td> <td> 0.558</td> <td>-1.46e+05</td> <td>  2.7e+05</td>\n",
       "</tr>\n",
       "<tr>\n",
       "  <th>Redmond</th>             <td> 3.028e+05</td> <td> 6.77e+04</td> <td>    4.472</td> <td> 0.000</td> <td>  1.7e+05</td> <td> 4.36e+05</td>\n",
       "</tr>\n",
       "<tr>\n",
       "  <th>Renton</th>              <td> 9.261e+04</td> <td> 6.76e+04</td> <td>    1.371</td> <td> 0.171</td> <td>-3.98e+04</td> <td> 2.25e+05</td>\n",
       "</tr>\n",
       "<tr>\n",
       "  <th>Sammamish</th>           <td> 2.651e+05</td> <td>  6.8e+04</td> <td>    3.901</td> <td> 0.000</td> <td> 1.32e+05</td> <td> 3.98e+05</td>\n",
       "</tr>\n",
       "<tr>\n",
       "  <th>SeaTac</th>              <td> 5.535e+04</td> <td> 7.14e+04</td> <td>    0.776</td> <td> 0.438</td> <td>-8.46e+04</td> <td> 1.95e+05</td>\n",
       "</tr>\n",
       "<tr>\n",
       "  <th>Seattle</th>             <td> 2.742e+05</td> <td> 6.73e+04</td> <td>    4.078</td> <td> 0.000</td> <td> 1.42e+05</td> <td> 4.06e+05</td>\n",
       "</tr>\n",
       "<tr>\n",
       "  <th>Shoreline</th>           <td> 1.733e+05</td> <td> 6.83e+04</td> <td>    2.539</td> <td> 0.011</td> <td> 3.95e+04</td> <td> 3.07e+05</td>\n",
       "</tr>\n",
       "<tr>\n",
       "  <th>Skykomish</th>           <td>  5.88e+04</td> <td> 9.49e+04</td> <td>    0.619</td> <td> 0.536</td> <td>-1.27e+05</td> <td> 2.45e+05</td>\n",
       "</tr>\n",
       "<tr>\n",
       "  <th>Snoqualmie</th>          <td> 1.566e+05</td> <td> 6.91e+04</td> <td>    2.266</td> <td> 0.023</td> <td> 2.11e+04</td> <td> 2.92e+05</td>\n",
       "</tr>\n",
       "<tr>\n",
       "  <th>Snoqualmie Pass</th>     <td>  2.63e+05</td> <td> 1.34e+05</td> <td>    1.959</td> <td> 0.050</td> <td> -197.408</td> <td> 5.26e+05</td>\n",
       "</tr>\n",
       "<tr>\n",
       "  <th>Tukwila</th>             <td> 3.164e+04</td> <td> 7.17e+04</td> <td>    0.441</td> <td> 0.659</td> <td>-1.09e+05</td> <td> 1.72e+05</td>\n",
       "</tr>\n",
       "<tr>\n",
       "  <th>Vashon</th>              <td> 1.326e+05</td> <td> 7.29e+04</td> <td>    1.818</td> <td> 0.069</td> <td>-1.04e+04</td> <td> 2.76e+05</td>\n",
       "</tr>\n",
       "<tr>\n",
       "  <th>Woodinville</th>         <td> 2.118e+05</td> <td> 6.84e+04</td> <td>    3.094</td> <td> 0.002</td> <td> 7.76e+04</td> <td> 3.46e+05</td>\n",
       "</tr>\n",
       "<tr>\n",
       "  <th>Yarrow Point</th>        <td> 1.592e+05</td> <td> 1.06e+05</td> <td>    1.499</td> <td> 0.134</td> <td> -4.9e+04</td> <td> 3.67e+05</td>\n",
       "</tr>\n",
       "</table>\n",
       "<table class=\"simpletable\">\n",
       "<tr>\n",
       "  <th>Omnibus:</th>       <td>238.558</td> <th>  Durbin-Watson:     </th> <td>   1.988</td> \n",
       "</tr>\n",
       "<tr>\n",
       "  <th>Prob(Omnibus):</th> <td> 0.000</td>  <th>  Jarque-Bera (JB):  </th> <td> 911.158</td> \n",
       "</tr>\n",
       "<tr>\n",
       "  <th>Skew:</th>          <td> 0.265</td>  <th>  Prob(JB):          </th> <td>1.39e-198</td>\n",
       "</tr>\n",
       "<tr>\n",
       "  <th>Kurtosis:</th>      <td> 5.506</td>  <th>  Cond. No.          </th> <td>1.31e+16</td> \n",
       "</tr>\n",
       "</table><br/><br/>Notes:<br/>[1] Standard Errors assume that the covariance matrix of the errors is correctly specified.<br/>[2] The smallest eigenvalue is 1.85e-28. This might indicate that there are<br/>strong multicollinearity problems or that the design matrix is singular."
      ],
      "text/plain": [
       "<class 'statsmodels.iolib.summary.Summary'>\n",
       "\"\"\"\n",
       "                            OLS Regression Results                            \n",
       "==============================================================================\n",
       "Dep. Variable:                  price   R-squared:                       0.695\n",
       "Model:                            OLS   Adj. R-squared:                  0.690\n",
       "Method:                 Least Squares   F-statistic:                     140.9\n",
       "Date:                Fri, 25 Mar 2022   Prob (F-statistic):               0.00\n",
       "Time:                        15:24:14   Log-Likelihood:                -43573.\n",
       "No. Observations:                3333   AIC:                         8.725e+04\n",
       "Df Residuals:                    3279   BIC:                         8.758e+04\n",
       "Df Model:                          53                                         \n",
       "Covariance Type:            nonrobust                                         \n",
       "=======================================================================================\n",
       "                          coef    std err          t      P>|t|      [0.025      0.975]\n",
       "---------------------------------------------------------------------------------------\n",
       "const                2.047e+05    6.3e+04      3.249      0.001    8.12e+04    3.28e+05\n",
       "bedrooms            -1.432e+04   3100.673     -4.618      0.000   -2.04e+04   -8238.286\n",
       "bathrooms             1.88e+04   4613.064      4.076      0.000    9757.371    2.78e+04\n",
       "sqft_living          5.808e+04   1.13e+04      5.134      0.000    3.59e+04    8.03e+04\n",
       "sqft_lot             1481.3927    783.494      1.891      0.059     -54.795    3017.580\n",
       "floors               1.908e+04   5802.482      3.288      0.001    7704.522    3.05e+04\n",
       "condition            2.677e+04   3756.132      7.128      0.000    1.94e+04    3.41e+04\n",
       "sqft_above           1.241e+05   1.09e+04     11.405      0.000    1.03e+05    1.45e+05\n",
       "sqft_basement        3.534e+04   6480.035      5.454      0.000    2.26e+04     4.8e+04\n",
       "yr_built            -3.068e+04   5029.722     -6.099      0.000   -4.05e+04   -2.08e+04\n",
       "waterfront           7.297e+04   3.82e+04      1.910      0.056   -1935.788    1.48e+05\n",
       "view                 8.253e+04   8572.967      9.627      0.000    6.57e+04    9.93e+04\n",
       "yr_renovated         -633.9705   4782.545     -0.133      0.895      -1e+04    8743.106\n",
       "Auburn               2.539e+04   6.79e+04      0.374      0.708   -1.08e+05    1.58e+05\n",
       "Beaux Arts Village   5.575e+05   1.34e+05      4.156      0.000    2.94e+05    8.21e+05\n",
       "Bellevue             3.506e+05   6.77e+04      5.181      0.000    2.18e+05    4.83e+05\n",
       "Black Diamond        1.195e+05   8.02e+04      1.490      0.136   -3.78e+04    2.77e+05\n",
       "Bothell              1.592e+05   7.05e+04      2.258      0.024    2.09e+04    2.97e+05\n",
       "Burien               1.085e+05   6.87e+04      1.578      0.115   -2.63e+04    2.43e+05\n",
       "Carnation            9.039e+04   7.37e+04      1.227      0.220   -5.41e+04    2.35e+05\n",
       "Clyde Hill           4.544e+05   8.51e+04      5.340      0.000    2.88e+05    6.21e+05\n",
       "Covington            3.334e+04   6.99e+04      0.477      0.633   -1.04e+05     1.7e+05\n",
       "Des Moines            3.98e+04   6.92e+04      0.575      0.565   -9.59e+04    1.76e+05\n",
       "Duvall                1.14e+05   7.06e+04      1.615      0.106   -2.44e+04    2.52e+05\n",
       "Enumclaw             8941.4019    7.2e+04      0.124      0.901   -1.32e+05     1.5e+05\n",
       "Fall City            1.879e+05   7.78e+04      2.414      0.016    3.53e+04     3.4e+05\n",
       "Federal Way          3.227e+04    6.8e+04      0.475      0.635   -1.01e+05    1.66e+05\n",
       "Inglewood-Finn Hill -1.124e-09   4.93e-10     -2.283      0.023   -2.09e-09   -1.59e-10\n",
       "Issaquah             2.467e+05   6.79e+04      3.633      0.000    1.14e+05     3.8e+05\n",
       "Kenmore              1.669e+05   6.89e+04      2.421      0.016    3.17e+04    3.02e+05\n",
       "Kent                 2.754e+04   6.78e+04      0.406      0.685   -1.05e+05     1.6e+05\n",
       "Kirkland             2.793e+05   6.78e+04      4.120      0.000    1.46e+05    4.12e+05\n",
       "Lake Forest Park     1.869e+05   7.08e+04      2.641      0.008    4.81e+04    3.26e+05\n",
       "Maple Valley         5.116e+04   6.85e+04      0.747      0.455   -8.31e+04    1.85e+05\n",
       "Medina              -2.749e+05   1.34e+05     -2.046      0.041   -5.38e+05   -1.15e+04\n",
       "Mercer Island        4.454e+05   6.97e+04      6.390      0.000    3.09e+05    5.82e+05\n",
       "Milton               1.434e+05   1.06e+05      1.351      0.177   -6.47e+04    3.51e+05\n",
       "Newcastle            2.321e+05    7.2e+04      3.222      0.001    9.09e+04    3.73e+05\n",
       "Normandy Park        1.689e+05   7.45e+04      2.268      0.023    2.29e+04    3.15e+05\n",
       "North Bend           1.167e+05   6.97e+04      1.674      0.094      -2e+04    2.53e+05\n",
       "Pacific              5.007e+04   8.22e+04      0.609      0.542   -1.11e+05    2.11e+05\n",
       "Preston              1.593e+05   1.34e+05      1.185      0.236   -1.04e+05    4.23e+05\n",
       "Ravensdale           6.214e+04   1.06e+05      0.585      0.558   -1.46e+05     2.7e+05\n",
       "Redmond              3.028e+05   6.77e+04      4.472      0.000     1.7e+05    4.36e+05\n",
       "Renton               9.261e+04   6.76e+04      1.371      0.171   -3.98e+04    2.25e+05\n",
       "Sammamish            2.651e+05    6.8e+04      3.901      0.000    1.32e+05    3.98e+05\n",
       "SeaTac               5.535e+04   7.14e+04      0.776      0.438   -8.46e+04    1.95e+05\n",
       "Seattle              2.742e+05   6.73e+04      4.078      0.000    1.42e+05    4.06e+05\n",
       "Shoreline            1.733e+05   6.83e+04      2.539      0.011    3.95e+04    3.07e+05\n",
       "Skykomish             5.88e+04   9.49e+04      0.619      0.536   -1.27e+05    2.45e+05\n",
       "Snoqualmie           1.566e+05   6.91e+04      2.266      0.023    2.11e+04    2.92e+05\n",
       "Snoqualmie Pass       2.63e+05   1.34e+05      1.959      0.050    -197.408    5.26e+05\n",
       "Tukwila              3.164e+04   7.17e+04      0.441      0.659   -1.09e+05    1.72e+05\n",
       "Vashon               1.326e+05   7.29e+04      1.818      0.069   -1.04e+04    2.76e+05\n",
       "Woodinville          2.118e+05   6.84e+04      3.094      0.002    7.76e+04    3.46e+05\n",
       "Yarrow Point         1.592e+05   1.06e+05      1.499      0.134    -4.9e+04    3.67e+05\n",
       "==============================================================================\n",
       "Omnibus:                      238.558   Durbin-Watson:                   1.988\n",
       "Prob(Omnibus):                  0.000   Jarque-Bera (JB):              911.158\n",
       "Skew:                           0.265   Prob(JB):                    1.39e-198\n",
       "Kurtosis:                       5.506   Cond. No.                     1.31e+16\n",
       "==============================================================================\n",
       "\n",
       "Notes:\n",
       "[1] Standard Errors assume that the covariance matrix of the errors is correctly specified.\n",
       "[2] The smallest eigenvalue is 1.85e-28. This might indicate that there are\n",
       "strong multicollinearity problems or that the design matrix is singular.\n",
       "\"\"\""
      ]
     },
     "execution_count": 74,
     "metadata": {},
     "output_type": "execute_result"
    }
   ],
   "source": [
    "# Yey! We managed to get much better results now.\n",
    "# 'sqft_lot' and 'yr_renovated' features seems insignificant when we evaluate them according to their p-values.\n",
    "\n",
    "X1 = sm.add_constant(x_train)\n",
    "results = sm.OLS(y_train, X1).fit()\n",
    "\n",
    "results.summary()"
   ]
  },
  {
   "cell_type": "code",
   "execution_count": 75,
   "id": "09020abf",
   "metadata": {
    "execution": {
     "iopub.execute_input": "2022-03-25T15:24:14.866610Z",
     "iopub.status.busy": "2022-03-25T15:24:14.865608Z",
     "iopub.status.idle": "2022-03-25T15:24:14.868513Z",
     "shell.execute_reply": "2022-03-25T15:24:14.869024Z",
     "shell.execute_reply.started": "2022-03-24T13:52:35.924524Z"
    },
    "papermill": {
     "duration": 0.15401,
     "end_time": "2022-03-25T15:24:14.869195",
     "exception": false,
     "start_time": "2022-03-25T15:24:14.715185",
     "status": "completed"
    },
    "tags": []
   },
   "outputs": [
    {
     "data": {
      "text/plain": [
       "array(['bedrooms', 'bathrooms', 'sqft_living', 'sqft_lot', 'floors',\n",
       "       'condition', 'sqft_above', 'sqft_basement', 'yr_built',\n",
       "       'waterfront', 'view', 'yr_renovated', 'Auburn',\n",
       "       'Beaux Arts Village', 'Bellevue', 'Black Diamond', 'Bothell',\n",
       "       'Burien', 'Carnation', 'Clyde Hill', 'Covington', 'Des Moines',\n",
       "       'Duvall', 'Enumclaw', 'Fall City', 'Federal Way',\n",
       "       'Inglewood-Finn Hill', 'Issaquah', 'Kenmore', 'Kent', 'Kirkland',\n",
       "       'Lake Forest Park', 'Maple Valley', 'Medina', 'Mercer Island',\n",
       "       'Milton', 'Newcastle', 'Normandy Park', 'North Bend', 'Pacific',\n",
       "       'Preston', 'Ravensdale', 'Redmond', 'Renton', 'Sammamish',\n",
       "       'SeaTac', 'Seattle', 'Shoreline', 'Skykomish', 'Snoqualmie',\n",
       "       'Snoqualmie Pass', 'Tukwila', 'Vashon', 'Woodinville',\n",
       "       'Yarrow Point'], dtype=object)"
      ]
     },
     "execution_count": 75,
     "metadata": {},
     "output_type": "execute_result"
    }
   ],
   "source": [
    "x_train.columns.values"
   ]
  },
  {
   "cell_type": "markdown",
   "id": "668440c5",
   "metadata": {
    "papermill": {
     "duration": 0.144769,
     "end_time": "2022-03-25T15:24:15.159168",
     "exception": false,
     "start_time": "2022-03-25T15:24:15.014399",
     "status": "completed"
    },
    "tags": []
   },
   "source": [
    "## Assumption check for Lineer Regression\n",
    "\n",
    "**1)Linearity** In the name says it all, we need to see a linear relationship between independent and dependent variables. We can basically determine this using scatter plots. It was also important to check for outliers since linear regression is sensitive to outlier effects. To fix: Run a non-linear regression, exponential transformation, log transformation\n",
    "\n",
    "**2)No Endogeneity:** Omitted variable bias occurs when we forget to include a variable. This is reflected in the error term as the factor you forgot about is included in the error. In this way, the error is not random but includes a systematic part (the omitted variable).\n",
    "\n",
    "**3)Normality and Homoscedasticy:** We have assumed that the errors have normal distribution, Zero Mean: Having an intercept solves that problem, in real life it is unusual to having that problem. Homoscedasticity: It means to having equal variance. To fix: Look for OVB, Look for outliers, Apply log transformation\n",
    "\n",
    "**4)No Autocorrelation(no serial correlation):** Durbin Watson score falls between zero and four. <1 and >3 cause an alarm, if we detect the problem, we need to use alternative method.\n",
    "\n",
    "**5)No Multicollinearity:** Independent variables that effect each others. To Fix= Drop one of the two variables, transform into one new variable."
   ]
  },
  {
   "cell_type": "code",
   "execution_count": 76,
   "id": "c4635d01",
   "metadata": {
    "execution": {
     "iopub.execute_input": "2022-03-25T15:24:15.451113Z",
     "iopub.status.busy": "2022-03-25T15:24:15.450467Z",
     "iopub.status.idle": "2022-03-25T15:24:16.746205Z",
     "shell.execute_reply": "2022-03-25T15:24:16.747762Z",
     "shell.execute_reply.started": "2022-03-24T13:52:35.936832Z"
    },
    "papermill": {
     "duration": 1.444316,
     "end_time": "2022-03-25T15:24:16.748078",
     "exception": false,
     "start_time": "2022-03-25T15:24:15.303762",
     "status": "completed"
    },
    "tags": []
   },
   "outputs": [
    {
     "data": {
      "text/html": [
       "<div>\n",
       "<style scoped>\n",
       "    .dataframe tbody tr th:only-of-type {\n",
       "        vertical-align: middle;\n",
       "    }\n",
       "\n",
       "    .dataframe tbody tr th {\n",
       "        vertical-align: top;\n",
       "    }\n",
       "\n",
       "    .dataframe thead th {\n",
       "        text-align: right;\n",
       "    }\n",
       "</style>\n",
       "<table border=\"1\" class=\"dataframe\">\n",
       "  <thead>\n",
       "    <tr style=\"text-align: right;\">\n",
       "      <th></th>\n",
       "      <th>VIF</th>\n",
       "      <th>Features</th>\n",
       "    </tr>\n",
       "  </thead>\n",
       "  <tbody>\n",
       "    <tr>\n",
       "      <th>32</th>\n",
       "      <td>1.004646</td>\n",
       "      <td>Medina</td>\n",
       "    </tr>\n",
       "    <tr>\n",
       "      <th>12</th>\n",
       "      <td>1.004922</td>\n",
       "      <td>Beaux Arts Village</td>\n",
       "    </tr>\n",
       "    <tr>\n",
       "      <th>34</th>\n",
       "      <td>1.006007</td>\n",
       "      <td>Milton</td>\n",
       "    </tr>\n",
       "    <tr>\n",
       "      <th>40</th>\n",
       "      <td>1.006948</td>\n",
       "      <td>Ravensdale</td>\n",
       "    </tr>\n",
       "    <tr>\n",
       "      <th>49</th>\n",
       "      <td>1.006966</td>\n",
       "      <td>Snoqualmie Pass</td>\n",
       "    </tr>\n",
       "    <tr>\n",
       "      <th>39</th>\n",
       "      <td>1.008650</td>\n",
       "      <td>Preston</td>\n",
       "    </tr>\n",
       "    <tr>\n",
       "      <th>38</th>\n",
       "      <td>1.008656</td>\n",
       "      <td>Pacific</td>\n",
       "    </tr>\n",
       "    <tr>\n",
       "      <th>47</th>\n",
       "      <td>1.012019</td>\n",
       "      <td>Skykomish</td>\n",
       "    </tr>\n",
       "    <tr>\n",
       "      <th>53</th>\n",
       "      <td>1.015874</td>\n",
       "      <td>Yarrow Point</td>\n",
       "    </tr>\n",
       "    <tr>\n",
       "      <th>14</th>\n",
       "      <td>1.017005</td>\n",
       "      <td>Black Diamond</td>\n",
       "    </tr>\n",
       "    <tr>\n",
       "      <th>18</th>\n",
       "      <td>1.021096</td>\n",
       "      <td>Clyde Hill</td>\n",
       "    </tr>\n",
       "    <tr>\n",
       "      <th>44</th>\n",
       "      <td>1.033500</td>\n",
       "      <td>SeaTac</td>\n",
       "    </tr>\n",
       "    <tr>\n",
       "      <th>36</th>\n",
       "      <td>1.034160</td>\n",
       "      <td>Normandy Park</td>\n",
       "    </tr>\n",
       "    <tr>\n",
       "      <th>15</th>\n",
       "      <td>1.047932</td>\n",
       "      <td>Bothell</td>\n",
       "    </tr>\n",
       "    <tr>\n",
       "      <th>21</th>\n",
       "      <td>1.050507</td>\n",
       "      <td>Duvall</td>\n",
       "    </tr>\n",
       "    <tr>\n",
       "      <th>35</th>\n",
       "      <td>1.053046</td>\n",
       "      <td>Newcastle</td>\n",
       "    </tr>\n",
       "    <tr>\n",
       "      <th>50</th>\n",
       "      <td>1.053492</td>\n",
       "      <td>Tukwila</td>\n",
       "    </tr>\n",
       "    <tr>\n",
       "      <th>22</th>\n",
       "      <td>1.056310</td>\n",
       "      <td>Enumclaw</td>\n",
       "    </tr>\n",
       "    <tr>\n",
       "      <th>17</th>\n",
       "      <td>1.066504</td>\n",
       "      <td>Carnation</td>\n",
       "    </tr>\n",
       "    <tr>\n",
       "      <th>23</th>\n",
       "      <td>1.066637</td>\n",
       "      <td>Fall City</td>\n",
       "    </tr>\n",
       "    <tr>\n",
       "      <th>30</th>\n",
       "      <td>1.070618</td>\n",
       "      <td>Lake Forest Park</td>\n",
       "    </tr>\n",
       "    <tr>\n",
       "      <th>19</th>\n",
       "      <td>1.080734</td>\n",
       "      <td>Covington</td>\n",
       "    </tr>\n",
       "    <tr>\n",
       "      <th>37</th>\n",
       "      <td>1.100990</td>\n",
       "      <td>North Bend</td>\n",
       "    </tr>\n",
       "    <tr>\n",
       "      <th>27</th>\n",
       "      <td>1.106360</td>\n",
       "      <td>Kenmore</td>\n",
       "    </tr>\n",
       "    <tr>\n",
       "      <th>48</th>\n",
       "      <td>1.109576</td>\n",
       "      <td>Snoqualmie</td>\n",
       "    </tr>\n",
       "    <tr>\n",
       "      <th>33</th>\n",
       "      <td>1.113154</td>\n",
       "      <td>Mercer Island</td>\n",
       "    </tr>\n",
       "    <tr>\n",
       "      <th>20</th>\n",
       "      <td>1.116952</td>\n",
       "      <td>Des Moines</td>\n",
       "    </tr>\n",
       "    <tr>\n",
       "      <th>31</th>\n",
       "      <td>1.144256</td>\n",
       "      <td>Maple Valley</td>\n",
       "    </tr>\n",
       "    <tr>\n",
       "      <th>16</th>\n",
       "      <td>1.158398</td>\n",
       "      <td>Burien</td>\n",
       "    </tr>\n",
       "    <tr>\n",
       "      <th>52</th>\n",
       "      <td>1.185099</td>\n",
       "      <td>Woodinville</td>\n",
       "    </tr>\n",
       "    <tr>\n",
       "      <th>46</th>\n",
       "      <td>1.195050</td>\n",
       "      <td>Shoreline</td>\n",
       "    </tr>\n",
       "    <tr>\n",
       "      <th>24</th>\n",
       "      <td>1.203529</td>\n",
       "      <td>Federal Way</td>\n",
       "    </tr>\n",
       "    <tr>\n",
       "      <th>11</th>\n",
       "      <td>1.243751</td>\n",
       "      <td>Auburn</td>\n",
       "    </tr>\n",
       "    <tr>\n",
       "      <th>9</th>\n",
       "      <td>1.269826</td>\n",
       "      <td>view</td>\n",
       "    </tr>\n",
       "    <tr>\n",
       "      <th>29</th>\n",
       "      <td>1.270159</td>\n",
       "      <td>Kirkland</td>\n",
       "    </tr>\n",
       "    <tr>\n",
       "      <th>43</th>\n",
       "      <td>1.271875</td>\n",
       "      <td>Sammamish</td>\n",
       "    </tr>\n",
       "    <tr>\n",
       "      <th>41</th>\n",
       "      <td>1.274934</td>\n",
       "      <td>Redmond</td>\n",
       "    </tr>\n",
       "    <tr>\n",
       "      <th>28</th>\n",
       "      <td>1.292976</td>\n",
       "      <td>Kent</td>\n",
       "    </tr>\n",
       "    <tr>\n",
       "      <th>5</th>\n",
       "      <td>1.298739</td>\n",
       "      <td>waterfront</td>\n",
       "    </tr>\n",
       "    <tr>\n",
       "      <th>26</th>\n",
       "      <td>1.306839</td>\n",
       "      <td>Issaquah</td>\n",
       "    </tr>\n",
       "    <tr>\n",
       "      <th>51</th>\n",
       "      <td>1.335481</td>\n",
       "      <td>Vashon</td>\n",
       "    </tr>\n",
       "    <tr>\n",
       "      <th>3</th>\n",
       "      <td>1.410754</td>\n",
       "      <td>sqft_lot</td>\n",
       "    </tr>\n",
       "    <tr>\n",
       "      <th>13</th>\n",
       "      <td>1.422185</td>\n",
       "      <td>Bellevue</td>\n",
       "    </tr>\n",
       "    <tr>\n",
       "      <th>42</th>\n",
       "      <td>1.436719</td>\n",
       "      <td>Renton</td>\n",
       "    </tr>\n",
       "    <tr>\n",
       "      <th>0</th>\n",
       "      <td>1.900999</td>\n",
       "      <td>bedrooms</td>\n",
       "    </tr>\n",
       "    <tr>\n",
       "      <th>6</th>\n",
       "      <td>2.242968</td>\n",
       "      <td>condition</td>\n",
       "    </tr>\n",
       "    <tr>\n",
       "      <th>10</th>\n",
       "      <td>2.329995</td>\n",
       "      <td>yr_renovated</td>\n",
       "    </tr>\n",
       "    <tr>\n",
       "      <th>7</th>\n",
       "      <td>2.603147</td>\n",
       "      <td>sqft_basement</td>\n",
       "    </tr>\n",
       "    <tr>\n",
       "      <th>1</th>\n",
       "      <td>2.612396</td>\n",
       "      <td>bathrooms</td>\n",
       "    </tr>\n",
       "    <tr>\n",
       "      <th>8</th>\n",
       "      <td>2.769681</td>\n",
       "      <td>yr_built</td>\n",
       "    </tr>\n",
       "    <tr>\n",
       "      <th>2</th>\n",
       "      <td>2.891854</td>\n",
       "      <td>sqft_living</td>\n",
       "    </tr>\n",
       "    <tr>\n",
       "      <th>4</th>\n",
       "      <td>4.117150</td>\n",
       "      <td>floors</td>\n",
       "    </tr>\n",
       "    <tr>\n",
       "      <th>45</th>\n",
       "      <td>4.681213</td>\n",
       "      <td>Seattle</td>\n",
       "    </tr>\n",
       "    <tr>\n",
       "      <th>25</th>\n",
       "      <td>NaN</td>\n",
       "      <td>Inglewood-Finn Hill</td>\n",
       "    </tr>\n",
       "  </tbody>\n",
       "</table>\n",
       "</div>"
      ],
      "text/plain": [
       "         VIF             Features\n",
       "32  1.004646               Medina\n",
       "12  1.004922   Beaux Arts Village\n",
       "34  1.006007               Milton\n",
       "40  1.006948           Ravensdale\n",
       "49  1.006966      Snoqualmie Pass\n",
       "39  1.008650              Preston\n",
       "38  1.008656              Pacific\n",
       "47  1.012019            Skykomish\n",
       "53  1.015874         Yarrow Point\n",
       "14  1.017005        Black Diamond\n",
       "18  1.021096           Clyde Hill\n",
       "44  1.033500               SeaTac\n",
       "36  1.034160        Normandy Park\n",
       "15  1.047932              Bothell\n",
       "21  1.050507               Duvall\n",
       "35  1.053046            Newcastle\n",
       "50  1.053492              Tukwila\n",
       "22  1.056310             Enumclaw\n",
       "17  1.066504            Carnation\n",
       "23  1.066637            Fall City\n",
       "30  1.070618     Lake Forest Park\n",
       "19  1.080734            Covington\n",
       "37  1.100990           North Bend\n",
       "27  1.106360              Kenmore\n",
       "48  1.109576           Snoqualmie\n",
       "33  1.113154        Mercer Island\n",
       "20  1.116952           Des Moines\n",
       "31  1.144256         Maple Valley\n",
       "16  1.158398               Burien\n",
       "52  1.185099          Woodinville\n",
       "46  1.195050            Shoreline\n",
       "24  1.203529          Federal Way\n",
       "11  1.243751               Auburn\n",
       "9   1.269826                 view\n",
       "29  1.270159             Kirkland\n",
       "43  1.271875            Sammamish\n",
       "41  1.274934              Redmond\n",
       "28  1.292976                 Kent\n",
       "5   1.298739           waterfront\n",
       "26  1.306839             Issaquah\n",
       "51  1.335481               Vashon\n",
       "3   1.410754             sqft_lot\n",
       "13  1.422185             Bellevue\n",
       "42  1.436719               Renton\n",
       "0   1.900999             bedrooms\n",
       "6   2.242968            condition\n",
       "10  2.329995         yr_renovated\n",
       "7   2.603147        sqft_basement\n",
       "1   2.612396            bathrooms\n",
       "8   2.769681             yr_built\n",
       "2   2.891854          sqft_living\n",
       "4   4.117150               floors\n",
       "45  4.681213              Seattle\n",
       "25       NaN  Inglewood-Finn Hill"
      ]
     },
     "execution_count": 76,
     "metadata": {},
     "output_type": "execute_result"
    }
   ],
   "source": [
    "# Let's check if there are multicollunearity.\n",
    "\n",
    "from statsmodels.stats.outliers_influence import variance_inflation_factor\n",
    "\n",
    "# all features where we want to check for multicollinearity:\n",
    "variables = x_train[[ 'bedrooms', 'bathrooms', 'sqft_living', 'sqft_lot', 'floors',\n",
    "       'waterfront', 'condition',  'sqft_basement',\n",
    "       'yr_built', 'view', 'yr_renovated', 'Auburn', 'Beaux Arts Village',\n",
    "       'Bellevue', 'Black Diamond', 'Bothell', 'Burien', 'Carnation',\n",
    "       'Clyde Hill', 'Covington', 'Des Moines', 'Duvall', 'Enumclaw',\n",
    "       'Fall City', 'Federal Way', 'Inglewood-Finn Hill', 'Issaquah',\n",
    "       'Kenmore', 'Kent', 'Kirkland', 'Lake Forest Park', 'Maple Valley',\n",
    "       'Medina', 'Mercer Island', 'Milton', 'Newcastle', 'Normandy Park',\n",
    "       'North Bend', 'Pacific', 'Preston', 'Ravensdale', 'Redmond',\n",
    "       'Renton', 'Sammamish', 'SeaTac', 'Seattle', 'Shoreline',\n",
    "       'Skykomish', 'Snoqualmie', 'Snoqualmie Pass', 'Tukwila', 'Vashon',\n",
    "       'Woodinville', 'Yarrow Point']]\n",
    "\n",
    "# we create a new data frame which will include all the VIFs, \n",
    "# each variable has its own VIF as this measure is variable specific (not model specific)\n",
    "vif = pd.DataFrame()\n",
    "\n",
    "# here we make use of the variance_inflation_factor, which will basically output the respective VIFs \n",
    "vif[\"VIF\"] = [variance_inflation_factor(variables.values, i) for i in range(variables.shape[1])]\n",
    "\n",
    "# Finally, I will include names so it is easier to explore the result\n",
    "vif[\"Features\"] = variables.columns\n",
    "\n",
    "vif.sort_values(by='VIF')"
   ]
  },
  {
   "cell_type": "code",
   "execution_count": 77,
   "id": "ae72d9f4",
   "metadata": {
    "execution": {
     "iopub.execute_input": "2022-03-25T15:24:17.093066Z",
     "iopub.status.busy": "2022-03-25T15:24:17.092361Z",
     "iopub.status.idle": "2022-03-25T15:24:17.096128Z",
     "shell.execute_reply": "2022-03-25T15:24:17.096685Z",
     "shell.execute_reply.started": "2022-03-24T13:52:37.266489Z"
    },
    "papermill": {
     "duration": 0.155425,
     "end_time": "2022-03-25T15:24:17.096852",
     "exception": false,
     "start_time": "2022-03-25T15:24:16.941427",
     "status": "completed"
    },
    "tags": []
   },
   "outputs": [],
   "source": [
    "# I will drop 'sqft_above' based on features VIF scores, \n",
    "# also 'sqft_lot' and 'yr_renovated' based on p-value that we have already determined.\n",
    "\n",
    "x_train = x_train.drop(['sqft_above','sqft_lot','yr_renovated'], axis=1)\n",
    "x_test = x_test.drop(['sqft_above','sqft_lot','yr_renovated'], axis=1)"
   ]
  },
  {
   "cell_type": "code",
   "execution_count": 78,
   "id": "bdeb7f98",
   "metadata": {
    "execution": {
     "iopub.execute_input": "2022-03-25T15:24:17.388523Z",
     "iopub.status.busy": "2022-03-25T15:24:17.387926Z",
     "iopub.status.idle": "2022-03-25T15:24:17.417434Z",
     "shell.execute_reply": "2022-03-25T15:24:17.418474Z",
     "shell.execute_reply.started": "2022-03-24T13:52:37.280567Z"
    },
    "papermill": {
     "duration": 0.17742,
     "end_time": "2022-03-25T15:24:17.418764",
     "exception": false,
     "start_time": "2022-03-25T15:24:17.241344",
     "status": "completed"
    },
    "tags": []
   },
   "outputs": [
    {
     "data": {
      "text/plain": [
       "LinearRegression()"
      ]
     },
     "execution_count": 78,
     "metadata": {},
     "output_type": "execute_result"
    }
   ],
   "source": [
    "# This time let's use sklearn to build our model.\n",
    "\n",
    "reg = LinearRegression()\n",
    "reg.fit(x_train, y_train)"
   ]
  },
  {
   "cell_type": "code",
   "execution_count": 79,
   "id": "dfe05e8a",
   "metadata": {
    "execution": {
     "iopub.execute_input": "2022-03-25T15:24:17.770517Z",
     "iopub.status.busy": "2022-03-25T15:24:17.769338Z",
     "iopub.status.idle": "2022-03-25T15:24:18.302144Z",
     "shell.execute_reply": "2022-03-25T15:24:18.301447Z",
     "shell.execute_reply.started": "2022-03-24T13:52:37.324753Z"
    },
    "papermill": {
     "duration": 0.686198,
     "end_time": "2022-03-25T15:24:18.302320",
     "exception": false,
     "start_time": "2022-03-25T15:24:17.616122",
     "status": "completed"
    },
    "tags": []
   },
   "outputs": [
    {
     "data": {
      "text/plain": [
       "<AxesSubplot:ylabel='Count'>"
      ]
     },
     "execution_count": 79,
     "metadata": {},
     "output_type": "execute_result"
    },
    {
     "data": {
      "image/png": "[encoded data removed]",
      "text/plain": [
       "<Figure size 432x288 with 1 Axes>"
      ]
     },
     "metadata": {},
     "output_type": "display_data"
    }
   ],
   "source": [
    "# Let's check the assumption of normality. \n",
    "# It seems quite good, right :)\n",
    "\n",
    "y_hat = reg.predict(x_train)\n",
    "\n",
    "sns.histplot(y_train - y_hat)"
   ]
  },
  {
   "cell_type": "code",
   "execution_count": 80,
   "id": "9745ef1e",
   "metadata": {
    "execution": {
     "iopub.execute_input": "2022-03-25T15:24:18.599509Z",
     "iopub.status.busy": "2022-03-25T15:24:18.598842Z",
     "iopub.status.idle": "2022-03-25T15:24:18.610722Z",
     "shell.execute_reply": "2022-03-25T15:24:18.611525Z",
     "shell.execute_reply.started": "2022-03-24T13:52:37.883699Z"
    },
    "papermill": {
     "duration": 0.162162,
     "end_time": "2022-03-25T15:24:18.611817",
     "exception": false,
     "start_time": "2022-03-25T15:24:18.449655",
     "status": "completed"
    },
    "tags": []
   },
   "outputs": [],
   "source": [
    "# To measure adjusted R2, I will write a simple function. (Train)\n",
    "\n",
    "def adj_R2(x_train,y_train):\n",
    "  r2 = reg.score(x_train,y_train)\n",
    "  n = x_train.shape[0]\n",
    "  p = x_train.shape[1]\n",
    "  adjusted_r2 = 1-(1-r2)*(n-1)/(n-p-1)\n",
    "  return adjusted_r2\n",
    "\n",
    "adj_R2 = adj_R2(x_train,y_train)"
   ]
  },
  {
   "cell_type": "code",
   "execution_count": 81,
   "id": "8abb0e10",
   "metadata": {
    "execution": {
     "iopub.execute_input": "2022-03-25T15:24:18.967622Z",
     "iopub.status.busy": "2022-03-25T15:24:18.966977Z",
     "iopub.status.idle": "2022-03-25T15:24:18.975480Z",
     "shell.execute_reply": "2022-03-25T15:24:18.976392Z",
     "shell.execute_reply.started": "2022-03-24T13:52:37.904389Z"
    },
    "papermill": {
     "duration": 0.16245,
     "end_time": "2022-03-25T15:24:18.976676",
     "exception": false,
     "start_time": "2022-03-25T15:24:18.814226",
     "status": "completed"
    },
    "tags": []
   },
   "outputs": [],
   "source": [
    "# To measure adjusted R2, I will write a simple function. (Test)\n",
    "\n",
    "def adj_R2_test(x_test,y_test):\n",
    "  r2 = reg.score(x_test,y_test)\n",
    "  n = x_test.shape[0]\n",
    "  p = x_test.shape[1]\n",
    "  adjusted_r2 = 1-(1-r2)*(n-1)/(n-p-1)\n",
    "  return adjusted_r2\n",
    "\n",
    "adj_R2_test = adj_R2_test(x_test,y_test)"
   ]
  },
  {
   "cell_type": "code",
   "execution_count": 82,
   "id": "e62870ca",
   "metadata": {
    "execution": {
     "iopub.execute_input": "2022-03-25T15:24:19.330774Z",
     "iopub.status.busy": "2022-03-25T15:24:19.324451Z",
     "iopub.status.idle": "2022-03-25T15:24:19.353155Z",
     "shell.execute_reply": "2022-03-25T15:24:19.354420Z",
     "shell.execute_reply.started": "2022-03-24T13:52:37.936297Z"
    },
    "papermill": {
     "duration": 0.17833,
     "end_time": "2022-03-25T15:24:19.354767",
     "exception": false,
     "start_time": "2022-03-25T15:24:19.176437",
     "status": "completed"
    },
    "tags": []
   },
   "outputs": [
    {
     "name": "stdout",
     "output_type": "stream",
     "text": [
      "R2-Train                      : 69.46\n",
      "R2-Test                       : 69.70\n",
      "Adj_R2-Train                  : 68.98\n",
      "Adj_R2-Test                   : 67.68\n",
      "MSE (Mean Squared Error)      : 13281622417\n",
      "RMSE (Root Mean Squared Error): 115246\n",
      "MAE (Mean Ablosute Error)     : 83101\n"
     ]
    }
   ],
   "source": [
    "# Our training and test scores are very similar,\n",
    "# which means that overfitting was not observed in our model. \n",
    "print('R2-Train                      : {0:.2f}'.format(reg.score(x_train, y_train)*100))\n",
    "print('R2-Test                       : {0:.2f}'.format(reg.score(x_test, y_test)*100))\n",
    "print('Adj_R2-Train                  : {0:.2f}'.format(adj_R2*100))\n",
    "print('Adj_R2-Test                   : {0:.2f}'.format(adj_R2_test*100))\n",
    "print('MSE (Mean Squared Error)      : {0:.0f}'.format(metrics.mean_squared_error(y_train, y_hat)))\n",
    "print('RMSE (Root Mean Squared Error): {0:.0f}'.format(np.sqrt(metrics.mean_squared_error(y_train, y_hat))))\n",
    "print('MAE (Mean Ablosute Error)     : {0:.0f}'.format(metrics.mean_absolute_error(y_train, y_hat)))"
   ]
  },
  {
   "cell_type": "code",
   "execution_count": 83,
   "id": "f366893e",
   "metadata": {
    "execution": {
     "iopub.execute_input": "2022-03-25T15:24:19.703968Z",
     "iopub.status.busy": "2022-03-25T15:24:19.703311Z",
     "iopub.status.idle": "2022-03-25T15:24:19.720217Z",
     "shell.execute_reply": "2022-03-25T15:24:19.720827Z",
     "shell.execute_reply.started": "2022-03-24T13:52:37.973119Z"
    },
    "papermill": {
     "duration": 0.170008,
     "end_time": "2022-03-25T15:24:19.720995",
     "exception": false,
     "start_time": "2022-03-25T15:24:19.550987",
     "status": "completed"
    },
    "tags": []
   },
   "outputs": [
    {
     "data": {
      "text/html": [
       "<div>\n",
       "<style scoped>\n",
       "    .dataframe tbody tr th:only-of-type {\n",
       "        vertical-align: middle;\n",
       "    }\n",
       "\n",
       "    .dataframe tbody tr th {\n",
       "        vertical-align: top;\n",
       "    }\n",
       "\n",
       "    .dataframe thead th {\n",
       "        text-align: right;\n",
       "    }\n",
       "</style>\n",
       "<table border=\"1\" class=\"dataframe\">\n",
       "  <thead>\n",
       "    <tr style=\"text-align: right;\">\n",
       "      <th></th>\n",
       "      <th>Features</th>\n",
       "      <th>Weights</th>\n",
       "    </tr>\n",
       "  </thead>\n",
       "  <tbody>\n",
       "    <tr>\n",
       "      <th>0</th>\n",
       "      <td>Intercept (b0)</td>\n",
       "      <td>2.569647e+05</td>\n",
       "    </tr>\n",
       "    <tr>\n",
       "      <th>1</th>\n",
       "      <td>bedrooms</td>\n",
       "      <td>-1.459731e+04</td>\n",
       "    </tr>\n",
       "    <tr>\n",
       "      <th>2</th>\n",
       "      <td>bathrooms</td>\n",
       "      <td>1.851688e+04</td>\n",
       "    </tr>\n",
       "    <tr>\n",
       "      <th>3</th>\n",
       "      <td>sqft_living</td>\n",
       "      <td>1.903324e+05</td>\n",
       "    </tr>\n",
       "    <tr>\n",
       "      <th>4</th>\n",
       "      <td>floors</td>\n",
       "      <td>1.833115e+04</td>\n",
       "    </tr>\n",
       "    <tr>\n",
       "      <th>5</th>\n",
       "      <td>condition</td>\n",
       "      <td>2.692022e+04</td>\n",
       "    </tr>\n",
       "    <tr>\n",
       "      <th>6</th>\n",
       "      <td>sqft_basement</td>\n",
       "      <td>-3.284232e+04</td>\n",
       "    </tr>\n",
       "    <tr>\n",
       "      <th>7</th>\n",
       "      <td>yr_built</td>\n",
       "      <td>-3.115158e+04</td>\n",
       "    </tr>\n",
       "    <tr>\n",
       "      <th>8</th>\n",
       "      <td>waterfront</td>\n",
       "      <td>7.194858e+04</td>\n",
       "    </tr>\n",
       "    <tr>\n",
       "      <th>9</th>\n",
       "      <td>view</td>\n",
       "      <td>8.294878e+04</td>\n",
       "    </tr>\n",
       "    <tr>\n",
       "      <th>10</th>\n",
       "      <td>Auburn</td>\n",
       "      <td>2.570924e+04</td>\n",
       "    </tr>\n",
       "    <tr>\n",
       "      <th>11</th>\n",
       "      <td>Beaux Arts Village</td>\n",
       "      <td>5.554035e+05</td>\n",
       "    </tr>\n",
       "    <tr>\n",
       "      <th>12</th>\n",
       "      <td>Bellevue</td>\n",
       "      <td>3.490744e+05</td>\n",
       "    </tr>\n",
       "    <tr>\n",
       "      <th>13</th>\n",
       "      <td>Black Diamond</td>\n",
       "      <td>1.204841e+05</td>\n",
       "    </tr>\n",
       "    <tr>\n",
       "      <th>14</th>\n",
       "      <td>Bothell</td>\n",
       "      <td>1.571563e+05</td>\n",
       "    </tr>\n",
       "    <tr>\n",
       "      <th>15</th>\n",
       "      <td>Burien</td>\n",
       "      <td>1.071319e+05</td>\n",
       "    </tr>\n",
       "    <tr>\n",
       "      <th>16</th>\n",
       "      <td>Carnation</td>\n",
       "      <td>9.943459e+04</td>\n",
       "    </tr>\n",
       "    <tr>\n",
       "      <th>17</th>\n",
       "      <td>Clyde Hill</td>\n",
       "      <td>4.519943e+05</td>\n",
       "    </tr>\n",
       "    <tr>\n",
       "      <th>18</th>\n",
       "      <td>Covington</td>\n",
       "      <td>3.283971e+04</td>\n",
       "    </tr>\n",
       "    <tr>\n",
       "      <th>19</th>\n",
       "      <td>Des Moines</td>\n",
       "      <td>3.807742e+04</td>\n",
       "    </tr>\n",
       "    <tr>\n",
       "      <th>20</th>\n",
       "      <td>Duvall</td>\n",
       "      <td>1.141500e+05</td>\n",
       "    </tr>\n",
       "    <tr>\n",
       "      <th>21</th>\n",
       "      <td>Enumclaw</td>\n",
       "      <td>1.038026e+04</td>\n",
       "    </tr>\n",
       "    <tr>\n",
       "      <th>22</th>\n",
       "      <td>Fall City</td>\n",
       "      <td>2.018275e+05</td>\n",
       "    </tr>\n",
       "    <tr>\n",
       "      <th>23</th>\n",
       "      <td>Federal Way</td>\n",
       "      <td>3.091604e+04</td>\n",
       "    </tr>\n",
       "    <tr>\n",
       "      <th>24</th>\n",
       "      <td>Inglewood-Finn Hill</td>\n",
       "      <td>-1.513399e-09</td>\n",
       "    </tr>\n",
       "    <tr>\n",
       "      <th>25</th>\n",
       "      <td>Issaquah</td>\n",
       "      <td>2.464478e+05</td>\n",
       "    </tr>\n",
       "    <tr>\n",
       "      <th>26</th>\n",
       "      <td>Kenmore</td>\n",
       "      <td>1.659558e+05</td>\n",
       "    </tr>\n",
       "    <tr>\n",
       "      <th>27</th>\n",
       "      <td>Kent</td>\n",
       "      <td>2.773124e+04</td>\n",
       "    </tr>\n",
       "    <tr>\n",
       "      <th>28</th>\n",
       "      <td>Kirkland</td>\n",
       "      <td>2.775604e+05</td>\n",
       "    </tr>\n",
       "    <tr>\n",
       "      <th>29</th>\n",
       "      <td>Lake Forest Park</td>\n",
       "      <td>1.853517e+05</td>\n",
       "    </tr>\n",
       "    <tr>\n",
       "      <th>30</th>\n",
       "      <td>Maple Valley</td>\n",
       "      <td>5.010215e+04</td>\n",
       "    </tr>\n",
       "    <tr>\n",
       "      <th>31</th>\n",
       "      <td>Medina</td>\n",
       "      <td>-2.754061e+05</td>\n",
       "    </tr>\n",
       "    <tr>\n",
       "      <th>32</th>\n",
       "      <td>Mercer Island</td>\n",
       "      <td>4.440827e+05</td>\n",
       "    </tr>\n",
       "    <tr>\n",
       "      <th>33</th>\n",
       "      <td>Milton</td>\n",
       "      <td>1.424875e+05</td>\n",
       "    </tr>\n",
       "    <tr>\n",
       "      <th>34</th>\n",
       "      <td>Newcastle</td>\n",
       "      <td>2.305550e+05</td>\n",
       "    </tr>\n",
       "    <tr>\n",
       "      <th>35</th>\n",
       "      <td>Normandy Park</td>\n",
       "      <td>1.673571e+05</td>\n",
       "    </tr>\n",
       "    <tr>\n",
       "      <th>36</th>\n",
       "      <td>North Bend</td>\n",
       "      <td>1.196196e+05</td>\n",
       "    </tr>\n",
       "    <tr>\n",
       "      <th>37</th>\n",
       "      <td>Pacific</td>\n",
       "      <td>4.911387e+04</td>\n",
       "    </tr>\n",
       "    <tr>\n",
       "      <th>38</th>\n",
       "      <td>Preston</td>\n",
       "      <td>1.572030e+05</td>\n",
       "    </tr>\n",
       "    <tr>\n",
       "      <th>39</th>\n",
       "      <td>Ravensdale</td>\n",
       "      <td>6.951944e+04</td>\n",
       "    </tr>\n",
       "    <tr>\n",
       "      <th>40</th>\n",
       "      <td>Redmond</td>\n",
       "      <td>3.015840e+05</td>\n",
       "    </tr>\n",
       "    <tr>\n",
       "      <th>41</th>\n",
       "      <td>Renton</td>\n",
       "      <td>9.119827e+04</td>\n",
       "    </tr>\n",
       "    <tr>\n",
       "      <th>42</th>\n",
       "      <td>Sammamish</td>\n",
       "      <td>2.642837e+05</td>\n",
       "    </tr>\n",
       "    <tr>\n",
       "      <th>43</th>\n",
       "      <td>SeaTac</td>\n",
       "      <td>5.409990e+04</td>\n",
       "    </tr>\n",
       "    <tr>\n",
       "      <th>44</th>\n",
       "      <td>Seattle</td>\n",
       "      <td>2.713346e+05</td>\n",
       "    </tr>\n",
       "    <tr>\n",
       "      <th>45</th>\n",
       "      <td>Shoreline</td>\n",
       "      <td>1.712477e+05</td>\n",
       "    </tr>\n",
       "    <tr>\n",
       "      <th>46</th>\n",
       "      <td>Skykomish</td>\n",
       "      <td>6.487273e+04</td>\n",
       "    </tr>\n",
       "    <tr>\n",
       "      <th>47</th>\n",
       "      <td>Snoqualmie</td>\n",
       "      <td>1.549642e+05</td>\n",
       "    </tr>\n",
       "    <tr>\n",
       "      <th>48</th>\n",
       "      <td>Snoqualmie Pass</td>\n",
       "      <td>2.618265e+05</td>\n",
       "    </tr>\n",
       "    <tr>\n",
       "      <th>49</th>\n",
       "      <td>Tukwila</td>\n",
       "      <td>3.002498e+04</td>\n",
       "    </tr>\n",
       "    <tr>\n",
       "      <th>50</th>\n",
       "      <td>Vashon</td>\n",
       "      <td>1.402705e+05</td>\n",
       "    </tr>\n",
       "    <tr>\n",
       "      <th>51</th>\n",
       "      <td>Woodinville</td>\n",
       "      <td>2.147284e+05</td>\n",
       "    </tr>\n",
       "    <tr>\n",
       "      <th>52</th>\n",
       "      <td>Yarrow Point</td>\n",
       "      <td>1.574390e+05</td>\n",
       "    </tr>\n",
       "  </tbody>\n",
       "</table>\n",
       "</div>"
      ],
      "text/plain": [
       "               Features       Weights\n",
       "0        Intercept (b0)  2.569647e+05\n",
       "1              bedrooms -1.459731e+04\n",
       "2             bathrooms  1.851688e+04\n",
       "3           sqft_living  1.903324e+05\n",
       "4                floors  1.833115e+04\n",
       "5             condition  2.692022e+04\n",
       "6         sqft_basement -3.284232e+04\n",
       "7              yr_built -3.115158e+04\n",
       "8            waterfront  7.194858e+04\n",
       "9                  view  8.294878e+04\n",
       "10               Auburn  2.570924e+04\n",
       "11   Beaux Arts Village  5.554035e+05\n",
       "12             Bellevue  3.490744e+05\n",
       "13        Black Diamond  1.204841e+05\n",
       "14              Bothell  1.571563e+05\n",
       "15               Burien  1.071319e+05\n",
       "16            Carnation  9.943459e+04\n",
       "17           Clyde Hill  4.519943e+05\n",
       "18            Covington  3.283971e+04\n",
       "19           Des Moines  3.807742e+04\n",
       "20               Duvall  1.141500e+05\n",
       "21             Enumclaw  1.038026e+04\n",
       "22            Fall City  2.018275e+05\n",
       "23          Federal Way  3.091604e+04\n",
       "24  Inglewood-Finn Hill -1.513399e-09\n",
       "25             Issaquah  2.464478e+05\n",
       "26              Kenmore  1.659558e+05\n",
       "27                 Kent  2.773124e+04\n",
       "28             Kirkland  2.775604e+05\n",
       "29     Lake Forest Park  1.853517e+05\n",
       "30         Maple Valley  5.010215e+04\n",
       "31               Medina -2.754061e+05\n",
       "32        Mercer Island  4.440827e+05\n",
       "33               Milton  1.424875e+05\n",
       "34            Newcastle  2.305550e+05\n",
       "35        Normandy Park  1.673571e+05\n",
       "36           North Bend  1.196196e+05\n",
       "37              Pacific  4.911387e+04\n",
       "38              Preston  1.572030e+05\n",
       "39           Ravensdale  6.951944e+04\n",
       "40              Redmond  3.015840e+05\n",
       "41               Renton  9.119827e+04\n",
       "42            Sammamish  2.642837e+05\n",
       "43               SeaTac  5.409990e+04\n",
       "44              Seattle  2.713346e+05\n",
       "45            Shoreline  1.712477e+05\n",
       "46            Skykomish  6.487273e+04\n",
       "47           Snoqualmie  1.549642e+05\n",
       "48      Snoqualmie Pass  2.618265e+05\n",
       "49              Tukwila  3.002498e+04\n",
       "50               Vashon  1.402705e+05\n",
       "51          Woodinville  2.147284e+05\n",
       "52         Yarrow Point  1.574390e+05"
      ]
     },
     "execution_count": 83,
     "metadata": {},
     "output_type": "execute_result"
    }
   ],
   "source": [
    "# Let's prepare a regression model summary table.\n",
    "\n",
    "# Weights means for continuous variables: \n",
    "# positive weight = shows that as a feature increases in value, so do the price respectively\n",
    "# negative weight = shows that as a feature increases in value, price decrease\n",
    "\n",
    "# Weights means for dummy variables:\n",
    "# positive weight = shows that the respective category(city) is more expensive than the benchmark\n",
    "# negative weight = shows that the respective category(city) is less expensive than the benchmark \n",
    "\n",
    "\n",
    "reg_summary = pd.DataFrame(x_train.columns.values, columns = ['Features'])\n",
    "reg_summary['Weights'] = reg.coef_.reshape(-1,1)\n",
    "reg_summary.index = reg_summary.index +1\n",
    "reg_summary.loc[0] = ['Intercept (b0)', reg.intercept_[0]]\n",
    "reg_summary = reg_summary.sort_index()\n",
    "reg_summary\n"
   ]
  },
  {
   "cell_type": "markdown",
   "id": "d969f06a",
   "metadata": {
    "papermill": {
     "duration": 0.149672,
     "end_time": "2022-03-25T15:24:20.020447",
     "exception": false,
     "start_time": "2022-03-25T15:24:19.870775",
     "status": "completed"
    },
    "tags": []
   },
   "source": [
    "Our model has reached an acceptable point. Our next step should be to analyze our erroneous predictions in detail and work on them to improve our predictions. 💪\n",
    "\n",
    "I hope that you find it useful. As I will be happy to improve myself, your comments and feedbacks are always welcome, as are suggestions for additional information that could usefully be included. Thank you! 🌸😊\n",
    "\n"
   ]
  }
 ],
 "metadata": {
  "kernelspec": {
   "display_name": "Python 3",
   "language": "python",
   "name": "python3"
  },
  "language_info": {
   "codemirror_mode": {
    "name": "ipython",
    "version": 3
   },
   "file_extension": ".py",
   "mimetype": "text/x-python",
   "name": "python",
   "nbconvert_exporter": "python",
   "pygments_lexer": "ipython3",
   "version": "3.7.12"
  },
  "papermill": {
   "default_parameters": {},
   "duration": 50.294321,
   "end_time": "2022-03-25T15:24:21.078124",
   "environment_variables": {},
   "exception": null,
   "input_path": "__notebook__.ipynb",
   "output_path": "__notebook__.ipynb",
   "parameters": {},
   "start_time": "2022-03-25T15:23:30.783803",
   "version": "2.3.3"
  }
 },
 "nbformat": 4,
 "nbformat_minor": 5
}
